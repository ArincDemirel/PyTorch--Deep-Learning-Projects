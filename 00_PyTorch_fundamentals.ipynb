{
  "nbformat": 4,
  "nbformat_minor": 0,
  "metadata": {
    "colab": {
      "provenance": [],
      "authorship_tag": "ABX9TyOfAh5IDgTL05fULXKgNnY6",
      "include_colab_link": true
    },
    "kernelspec": {
      "name": "python3",
      "display_name": "Python 3"
    },
    "language_info": {
      "name": "python"
    }
  },
  "cells": [
    {
      "cell_type": "markdown",
      "metadata": {
        "id": "view-in-github",
        "colab_type": "text"
      },
      "source": [
        "<a href=\"https://colab.research.google.com/github/ArincDemirel/PyTorch--Deep-Learning-Projects/blob/main/00_PyTorch_fundamentals.ipynb\" target=\"_parent\"><img src=\"https://colab.research.google.com/assets/colab-badge.svg\" alt=\"Open In Colab\"/></a>"
      ]
    },
    {
      "cell_type": "markdown",
      "source": [
        "## 00. PyTorch Fundamentals\n",
        "\n",
        "Resource Notebook: https://www.learnpytorch.io/00_pytorch_fundamentals/\n"
      ],
      "metadata": {
        "id": "stkG0jxdWkD0"
      }
    },
    {
      "cell_type": "code",
      "source": [
        "!nvidia-smi"
      ],
      "metadata": {
        "colab": {
          "base_uri": "https://localhost:8080/"
        },
        "id": "UO7yzEw1WW9w",
        "outputId": "80dae9f9-20b3-46b7-e587-042b7be331bc"
      },
      "execution_count": 10,
      "outputs": [
        {
          "output_type": "stream",
          "name": "stdout",
          "text": [
            "Fri Oct 20 23:28:19 2023       \n",
            "+-----------------------------------------------------------------------------+\n",
            "| NVIDIA-SMI 525.105.17   Driver Version: 525.105.17   CUDA Version: 12.0     |\n",
            "|-------------------------------+----------------------+----------------------+\n",
            "| GPU  Name        Persistence-M| Bus-Id        Disp.A | Volatile Uncorr. ECC |\n",
            "| Fan  Temp  Perf  Pwr:Usage/Cap|         Memory-Usage | GPU-Util  Compute M. |\n",
            "|                               |                      |               MIG M. |\n",
            "|===============================+======================+======================|\n",
            "|   0  Tesla T4            Off  | 00000000:00:04.0 Off |                    0 |\n",
            "| N/A   46C    P8    10W /  70W |      0MiB / 15360MiB |      0%      Default |\n",
            "|                               |                      |                  N/A |\n",
            "+-------------------------------+----------------------+----------------------+\n",
            "                                                                               \n",
            "+-----------------------------------------------------------------------------+\n",
            "| Processes:                                                                  |\n",
            "|  GPU   GI   CI        PID   Type   Process name                  GPU Memory |\n",
            "|        ID   ID                                                   Usage      |\n",
            "|=============================================================================|\n",
            "|  No running processes found                                                 |\n",
            "+-----------------------------------------------------------------------------+\n"
          ]
        }
      ]
    },
    {
      "cell_type": "code",
      "source": [
        "import torch\n",
        "import pandas as pd\n",
        "import numpy as np\n",
        "import matplotlib.pyplot as plt"
      ],
      "metadata": {
        "id": "_4Ic-4cbWLlm"
      },
      "execution_count": 4,
      "outputs": []
    },
    {
      "cell_type": "code",
      "source": [
        "torch.__version__"
      ],
      "metadata": {
        "id": "PsDdG-a6VAO1",
        "colab": {
          "base_uri": "https://localhost:8080/",
          "height": 35
        },
        "outputId": "53b9b49d-0a73-4880-b965-80a867566ed8"
      },
      "execution_count": 5,
      "outputs": [
        {
          "output_type": "execute_result",
          "data": {
            "text/plain": [
              "'2.1.0+cu118'"
            ],
            "application/vnd.google.colaboratory.intrinsic+json": {
              "type": "string"
            }
          },
          "metadata": {},
          "execution_count": 5
        }
      ]
    },
    {
      "cell_type": "code",
      "source": [
        "#scalar\n",
        "scalar = torch.tensor(7)\n",
        "scalar"
      ],
      "metadata": {
        "id": "i58IQwp2WIu2",
        "colab": {
          "base_uri": "https://localhost:8080/"
        },
        "outputId": "71bda52f-13fb-4f0b-87b6-58c1dacaf9d0"
      },
      "execution_count": 7,
      "outputs": [
        {
          "output_type": "execute_result",
          "data": {
            "text/plain": [
              "tensor(7)"
            ]
          },
          "metadata": {},
          "execution_count": 7
        }
      ]
    },
    {
      "cell_type": "code",
      "source": [
        "scalar.ndim"
      ],
      "metadata": {
        "colab": {
          "base_uri": "https://localhost:8080/"
        },
        "id": "ThGWXMKZdg9c",
        "outputId": "1b85c0bf-1f25-4597-ba03-2e4e05066b91"
      },
      "execution_count": 8,
      "outputs": [
        {
          "output_type": "execute_result",
          "data": {
            "text/plain": [
              "0"
            ]
          },
          "metadata": {},
          "execution_count": 8
        }
      ]
    },
    {
      "cell_type": "code",
      "source": [
        "scalar.item()"
      ],
      "metadata": {
        "colab": {
          "base_uri": "https://localhost:8080/"
        },
        "id": "VOZQ7GrddlwF",
        "outputId": "7c875d3a-2e2f-446f-93f3-5927dee6c4d7"
      },
      "execution_count": 9,
      "outputs": [
        {
          "output_type": "execute_result",
          "data": {
            "text/plain": [
              "7"
            ]
          },
          "metadata": {},
          "execution_count": 9
        }
      ]
    },
    {
      "cell_type": "code",
      "source": [
        "#Vector\n",
        "vector = torch.tensor([[7,7],[8,8]])\n",
        "vector"
      ],
      "metadata": {
        "colab": {
          "base_uri": "https://localhost:8080/"
        },
        "id": "XCV7kCtsd4Q9",
        "outputId": "074e883f-be87-4c4b-ebcf-a53c6ba714ca"
      },
      "execution_count": 13,
      "outputs": [
        {
          "output_type": "execute_result",
          "data": {
            "text/plain": [
              "tensor([[7, 7],\n",
              "        [8, 8]])"
            ]
          },
          "metadata": {},
          "execution_count": 13
        }
      ]
    },
    {
      "cell_type": "code",
      "source": [
        "vector.shape"
      ],
      "metadata": {
        "colab": {
          "base_uri": "https://localhost:8080/"
        },
        "id": "KWRA7K7LeB3S",
        "outputId": "9a715d45-1b33-420e-89e2-5a6c4dc246b5"
      },
      "execution_count": 14,
      "outputs": [
        {
          "output_type": "execute_result",
          "data": {
            "text/plain": [
              "torch.Size([2, 2])"
            ]
          },
          "metadata": {},
          "execution_count": 14
        }
      ]
    },
    {
      "cell_type": "code",
      "source": [
        "TENSOR = torch.randn(5,3,3)\n",
        "TENSOR"
      ],
      "metadata": {
        "colab": {
          "base_uri": "https://localhost:8080/"
        },
        "id": "re-_SIoEeGkS",
        "outputId": "1a796064-d5d5-47e0-e2f2-2a41535d0163"
      },
      "execution_count": 30,
      "outputs": [
        {
          "output_type": "execute_result",
          "data": {
            "text/plain": [
              "tensor([[[-0.2999,  0.2903, -0.8210],\n",
              "         [ 0.6895, -0.9713,  0.2812],\n",
              "         [-1.4786, -0.2323,  0.5117]],\n",
              "\n",
              "        [[ 0.4264, -0.2932,  0.0433],\n",
              "         [ 1.0519,  0.7822,  0.6461],\n",
              "         [-0.3248, -1.0319,  1.1624]],\n",
              "\n",
              "        [[-1.8643, -0.3610,  2.1357],\n",
              "         [-2.6604,  0.0388,  1.0986],\n",
              "         [-0.5601,  0.3619, -1.8925]],\n",
              "\n",
              "        [[-0.7837,  0.1371,  0.1747],\n",
              "         [ 0.9004, -0.7141, -1.5575],\n",
              "         [ 0.3151,  1.7755, -2.4244]],\n",
              "\n",
              "        [[ 1.1097,  0.0878, -0.1313],\n",
              "         [-1.7486,  0.5281, -2.1593],\n",
              "         [-0.9689,  0.9445, -0.3031]]])"
            ]
          },
          "metadata": {},
          "execution_count": 30
        }
      ]
    },
    {
      "cell_type": "code",
      "source": [
        " TENSOR.ndim"
      ],
      "metadata": {
        "colab": {
          "base_uri": "https://localhost:8080/"
        },
        "id": "T55thsnMedm9",
        "outputId": "a7420893-8fe5-4129-8496-e2ee5a01fcf0"
      },
      "execution_count": 18,
      "outputs": [
        {
          "output_type": "execute_result",
          "data": {
            "text/plain": [
              "3"
            ]
          },
          "metadata": {},
          "execution_count": 18
        }
      ]
    },
    {
      "cell_type": "code",
      "source": [
        "TENSOR.shape"
      ],
      "metadata": {
        "colab": {
          "base_uri": "https://localhost:8080/"
        },
        "id": "cBn44rHNehD3",
        "outputId": "639c5d1f-ec92-45c4-9a7d-fbbb3d12fb24"
      },
      "execution_count": 21,
      "outputs": [
        {
          "output_type": "execute_result",
          "data": {
            "text/plain": [
              "torch.Size([3, 3, 3])"
            ]
          },
          "metadata": {},
          "execution_count": 21
        }
      ]
    },
    {
      "cell_type": "code",
      "source": [
        "TENSOR[0]"
      ],
      "metadata": {
        "colab": {
          "base_uri": "https://localhost:8080/"
        },
        "id": "kKTIovIberrk",
        "outputId": "e1a2a799-71fa-4ae0-84f4-f77eaa2dc31d"
      },
      "execution_count": 22,
      "outputs": [
        {
          "output_type": "execute_result",
          "data": {
            "text/plain": [
              "tensor([[ 1.2247,  0.5925, -1.7879],\n",
              "        [ 1.2199,  0.1643,  1.4434],\n",
              "        [ 0.9675,  0.3975, -0.8417]])"
            ]
          },
          "metadata": {},
          "execution_count": 22
        }
      ]
    },
    {
      "cell_type": "markdown",
      "source": [
        "Random tensors are impirtant because the way many neural networks is that they start with tensors full of random numbers and then adjust those random numbers to better represent the data."
      ],
      "metadata": {
        "id": "x3RhcpFzfBDa"
      }
    },
    {
      "cell_type": "code",
      "source": [
        "#Create a random tensor with similar shape of an image tensor\n",
        "random_image_size_tensor = torch.rand(size=(3, 224, 224))\n",
        "random_image_size_tensor"
      ],
      "metadata": {
        "colab": {
          "base_uri": "https://localhost:8080/"
        },
        "id": "EKI13SNcfQUG",
        "outputId": "300cba01-fb96-4f2d-f1f8-55abe8193863"
      },
      "execution_count": 27,
      "outputs": [
        {
          "output_type": "execute_result",
          "data": {
            "text/plain": [
              "tensor([[[0.4630, 0.4717, 0.6500,  ..., 0.1944, 0.3641, 0.3685],\n",
              "         [0.2574, 0.4990, 0.6938,  ..., 0.7154, 0.2949, 0.9840],\n",
              "         [0.7226, 0.7401, 0.8292,  ..., 0.5368, 0.2265, 0.3208],\n",
              "         ...,\n",
              "         [0.8417, 0.4966, 0.2350,  ..., 0.3101, 0.8437, 0.3572],\n",
              "         [0.8017, 0.8010, 0.8204,  ..., 0.1090, 0.8569, 0.9033],\n",
              "         [0.8982, 0.3633, 0.8538,  ..., 0.6086, 0.9509, 0.4611]],\n",
              "\n",
              "        [[0.1369, 0.3411, 0.2016,  ..., 0.4300, 0.8250, 0.8902],\n",
              "         [0.5090, 0.2491, 0.1640,  ..., 0.9514, 0.8861, 0.1429],\n",
              "         [0.9724, 0.0376, 0.6459,  ..., 0.9747, 0.0149, 0.2987],\n",
              "         ...,\n",
              "         [0.7651, 0.5812, 0.7557,  ..., 0.6079, 0.8849, 0.5301],\n",
              "         [0.4349, 0.7584, 0.5751,  ..., 0.4236, 0.6739, 0.7968],\n",
              "         [0.7675, 0.6074, 0.4942,  ..., 0.1429, 0.8729, 0.1870]],\n",
              "\n",
              "        [[0.1083, 0.0359, 0.2821,  ..., 0.6571, 0.8326, 0.3429],\n",
              "         [0.0108, 0.2131, 0.2254,  ..., 0.1816, 0.5205, 0.6002],\n",
              "         [0.4893, 0.1686, 0.2868,  ..., 0.3675, 0.4750, 0.7284],\n",
              "         ...,\n",
              "         [0.1939, 0.5282, 0.5608,  ..., 0.9425, 0.0966, 0.7538],\n",
              "         [0.4917, 0.3982, 0.7004,  ..., 0.3312, 0.5203, 0.8081],\n",
              "         [0.1388, 0.6095, 0.7362,  ..., 0.0120, 0.5100, 0.8511]]])"
            ]
          },
          "metadata": {},
          "execution_count": 27
        }
      ]
    },
    {
      "cell_type": "code",
      "source": [
        "random_image_size_tensor.shape , random_image_size_tensor.ndim"
      ],
      "metadata": {
        "colab": {
          "base_uri": "https://localhost:8080/"
        },
        "id": "-CuFig6Yfv_9",
        "outputId": "5f5c779b-a5ef-4525-9060-025a4f38f92b"
      },
      "execution_count": 28,
      "outputs": [
        {
          "output_type": "execute_result",
          "data": {
            "text/plain": [
              "(torch.Size([3, 224, 224]), 3)"
            ]
          },
          "metadata": {},
          "execution_count": 28
        }
      ]
    },
    {
      "cell_type": "code",
      "source": [
        "one_to_ten = torch.arange(0,10)\n",
        "one_to_ten"
      ],
      "metadata": {
        "colab": {
          "base_uri": "https://localhost:8080/"
        },
        "id": "AfDVZIfff2cU",
        "outputId": "18cba6d5-6776-4945-dba6-9f7f3c92da62"
      },
      "execution_count": 36,
      "outputs": [
        {
          "output_type": "execute_result",
          "data": {
            "text/plain": [
              "tensor([0, 1, 2, 3, 4, 5, 6, 7, 8, 9])"
            ]
          },
          "metadata": {},
          "execution_count": 36
        }
      ]
    },
    {
      "cell_type": "code",
      "source": [
        "ten_zeros = torch.zeros_like(one_to_ten)\n",
        "ten_zeros"
      ],
      "metadata": {
        "colab": {
          "base_uri": "https://localhost:8080/"
        },
        "id": "rpEDxMpvgTwd",
        "outputId": "9755d7de-561a-45e6-b780-2f7a200e780c"
      },
      "execution_count": 37,
      "outputs": [
        {
          "output_type": "execute_result",
          "data": {
            "text/plain": [
              "tensor([0, 0, 0, 0, 0, 0, 0, 0, 0, 0])"
            ]
          },
          "metadata": {},
          "execution_count": 37
        }
      ]
    },
    {
      "cell_type": "code",
      "source": [
        "TNSR1 = torch.tensor([3.0, 6.0, 9.0], dtype = float , #float16 / float32\n",
        "                                     device = \"cpu\", # or 'cuda'\n",
        "                                      requires_grad = False ) # to track gradient if tensor goes through certain numerical calculations"
      ],
      "metadata": {
        "id": "e7ZtoEUGgr-9"
      },
      "execution_count": 48,
      "outputs": []
    },
    {
      "cell_type": "code",
      "source": [
        "TNSR1"
      ],
      "metadata": {
        "colab": {
          "base_uri": "https://localhost:8080/"
        },
        "id": "qwaDH2cxh9t_",
        "outputId": "0a49b276-a2cc-4c87-94af-102146be9d81"
      },
      "execution_count": 49,
      "outputs": [
        {
          "output_type": "execute_result",
          "data": {
            "text/plain": [
              "tensor([3., 6., 9.], dtype=torch.float64)"
            ]
          },
          "metadata": {},
          "execution_count": 49
        }
      ]
    },
    {
      "cell_type": "code",
      "source": [
        "TNSR2 = torch.tensor([3.0, 6.0, 9.0], dtype = torch.float16 , #float16 / float32\n",
        "                                     device = \"cpu\", # or 'cuda'\n",
        "                                      requires_grad = False ) # to track gradient if tensor goes through certain numerical calculations"
      ],
      "metadata": {
        "id": "KNsJ8pzGiCvB"
      },
      "execution_count": 50,
      "outputs": []
    },
    {
      "cell_type": "code",
      "source": [
        "TNSR2"
      ],
      "metadata": {
        "colab": {
          "base_uri": "https://localhost:8080/"
        },
        "id": "neadR2upiV5L",
        "outputId": "ef103673-74f4-4f35-b749-4883994827eb"
      },
      "execution_count": 51,
      "outputs": [
        {
          "output_type": "execute_result",
          "data": {
            "text/plain": [
              "tensor([3., 6., 9.], dtype=torch.float16)"
            ]
          },
          "metadata": {},
          "execution_count": 51
        }
      ]
    },
    {
      "cell_type": "code",
      "source": [
        ""
      ],
      "metadata": {
        "id": "5RyPlj5IiYcB"
      },
      "execution_count": null,
      "outputs": []
    }
  ]
}