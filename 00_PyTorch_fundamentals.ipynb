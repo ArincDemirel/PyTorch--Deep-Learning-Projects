{
  "nbformat": 4,
  "nbformat_minor": 0,
  "metadata": {
    "colab": {
      "provenance": [],
      "gpuType": "T4",
      "authorship_tag": "ABX9TyPJNYaKUw+Foeu1H2M+810S",
      "include_colab_link": true
    },
    "kernelspec": {
      "name": "python3",
      "display_name": "Python 3"
    },
    "language_info": {
      "name": "python"
    },
    "accelerator": "GPU"
  },
  "cells": [
    {
      "cell_type": "markdown",
      "metadata": {
        "id": "view-in-github",
        "colab_type": "text"
      },
      "source": [
        "<a href=\"https://colab.research.google.com/github/ArincDemirel/PyTorch--Deep-Learning-Projects/blob/main/00_PyTorch_fundamentals.ipynb\" target=\"_parent\"><img src=\"https://colab.research.google.com/assets/colab-badge.svg\" alt=\"Open In Colab\"/></a>"
      ]
    },
    {
      "cell_type": "markdown",
      "source": [
        "## 00. PyTorch Fundamentals\n",
        "\n",
        "Resource Notebook: https://www.learnpytorch.io/00_pytorch_fundamentals/\n"
      ],
      "metadata": {
        "id": "stkG0jxdWkD0"
      }
    },
    {
      "cell_type": "code",
      "source": [
        "!nvidia-smi"
      ],
      "metadata": {
        "colab": {
          "base_uri": "https://localhost:8080/"
        },
        "id": "UO7yzEw1WW9w",
        "outputId": "b4187d16-57e2-42dc-c054-fd1ed6170884"
      },
      "execution_count": 2,
      "outputs": [
        {
          "output_type": "stream",
          "name": "stdout",
          "text": [
            "/bin/bash: line 1: nvidia-smi: command not found\n"
          ]
        }
      ]
    },
    {
      "cell_type": "code",
      "source": [
        "import torch\n",
        "import pandas as pd\n",
        "import numpy as np\n",
        "import matplotlib.pyplot as plt"
      ],
      "metadata": {
        "id": "_4Ic-4cbWLlm"
      },
      "execution_count": 3,
      "outputs": []
    },
    {
      "cell_type": "code",
      "source": [
        "torch.__version__"
      ],
      "metadata": {
        "id": "PsDdG-a6VAO1",
        "colab": {
          "base_uri": "https://localhost:8080/",
          "height": 35
        },
        "outputId": "3190d51e-2187-4942-a71b-306ee4f4b4e0"
      },
      "execution_count": 4,
      "outputs": [
        {
          "output_type": "execute_result",
          "data": {
            "text/plain": [
              "'2.1.0+cu118'"
            ],
            "application/vnd.google.colaboratory.intrinsic+json": {
              "type": "string"
            }
          },
          "metadata": {},
          "execution_count": 4
        }
      ]
    },
    {
      "cell_type": "code",
      "source": [
        "#scalar\n",
        "scalar = torch.tensor(7)\n",
        "scalar"
      ],
      "metadata": {
        "id": "i58IQwp2WIu2",
        "colab": {
          "base_uri": "https://localhost:8080/"
        },
        "outputId": "7d6e032d-72d3-4ef2-c1cc-5208abfa8911"
      },
      "execution_count": 5,
      "outputs": [
        {
          "output_type": "execute_result",
          "data": {
            "text/plain": [
              "tensor(7)"
            ]
          },
          "metadata": {},
          "execution_count": 5
        }
      ]
    },
    {
      "cell_type": "code",
      "source": [
        "scalar.ndim"
      ],
      "metadata": {
        "colab": {
          "base_uri": "https://localhost:8080/"
        },
        "id": "ThGWXMKZdg9c",
        "outputId": "cb21c2d1-ee7f-43e7-e46e-4959886373a1"
      },
      "execution_count": 6,
      "outputs": [
        {
          "output_type": "execute_result",
          "data": {
            "text/plain": [
              "0"
            ]
          },
          "metadata": {},
          "execution_count": 6
        }
      ]
    },
    {
      "cell_type": "code",
      "source": [
        "scalar.item()"
      ],
      "metadata": {
        "colab": {
          "base_uri": "https://localhost:8080/"
        },
        "id": "VOZQ7GrddlwF",
        "outputId": "6726971c-6eaf-41b3-c887-27bd1bff4efb"
      },
      "execution_count": 7,
      "outputs": [
        {
          "output_type": "execute_result",
          "data": {
            "text/plain": [
              "7"
            ]
          },
          "metadata": {},
          "execution_count": 7
        }
      ]
    },
    {
      "cell_type": "code",
      "source": [
        "#Vector\n",
        "vector = torch.tensor([[7,7],[8,8]])\n",
        "vector"
      ],
      "metadata": {
        "colab": {
          "base_uri": "https://localhost:8080/"
        },
        "id": "XCV7kCtsd4Q9",
        "outputId": "8a9da4f5-7fed-4715-9460-562500d4bbac"
      },
      "execution_count": 8,
      "outputs": [
        {
          "output_type": "execute_result",
          "data": {
            "text/plain": [
              "tensor([[7, 7],\n",
              "        [8, 8]])"
            ]
          },
          "metadata": {},
          "execution_count": 8
        }
      ]
    },
    {
      "cell_type": "code",
      "source": [
        "vector.shape"
      ],
      "metadata": {
        "colab": {
          "base_uri": "https://localhost:8080/"
        },
        "id": "KWRA7K7LeB3S",
        "outputId": "13d89e53-e34a-40d5-f1a2-68b366aad77b"
      },
      "execution_count": 9,
      "outputs": [
        {
          "output_type": "execute_result",
          "data": {
            "text/plain": [
              "torch.Size([2, 2])"
            ]
          },
          "metadata": {},
          "execution_count": 9
        }
      ]
    },
    {
      "cell_type": "code",
      "source": [
        "TENSOR = torch.randn(5,3,3)\n",
        "TENSOR"
      ],
      "metadata": {
        "colab": {
          "base_uri": "https://localhost:8080/"
        },
        "id": "re-_SIoEeGkS",
        "outputId": "062fd766-d520-45fe-ac73-70ba0c70be4a"
      },
      "execution_count": 10,
      "outputs": [
        {
          "output_type": "execute_result",
          "data": {
            "text/plain": [
              "tensor([[[-1.1873, -0.0605,  0.3854],\n",
              "         [-2.1014,  0.5827,  0.8315],\n",
              "         [-0.8998, -0.8992,  1.9852]],\n",
              "\n",
              "        [[-0.5056, -0.1917, -1.5142],\n",
              "         [-0.9752, -1.0850, -0.9616],\n",
              "         [-1.1416, -0.0299, -1.0793]],\n",
              "\n",
              "        [[-0.6902,  0.5870,  1.9430],\n",
              "         [-0.4831,  0.4563, -0.4271],\n",
              "         [ 0.6381, -0.1214, -2.9605]],\n",
              "\n",
              "        [[-0.6427,  1.5029,  2.4200],\n",
              "         [ 1.5435,  0.5820,  0.2056],\n",
              "         [-0.0325, -1.1968,  0.5654]],\n",
              "\n",
              "        [[ 0.2050, -1.8322,  1.2125],\n",
              "         [-0.6267,  1.2677, -0.4363],\n",
              "         [ 0.8381,  0.3106, -0.7365]]])"
            ]
          },
          "metadata": {},
          "execution_count": 10
        }
      ]
    },
    {
      "cell_type": "code",
      "source": [
        " TENSOR.ndim"
      ],
      "metadata": {
        "colab": {
          "base_uri": "https://localhost:8080/"
        },
        "id": "T55thsnMedm9",
        "outputId": "f1358064-fbcd-45f1-bcc7-b9848f3c9160"
      },
      "execution_count": 11,
      "outputs": [
        {
          "output_type": "execute_result",
          "data": {
            "text/plain": [
              "3"
            ]
          },
          "metadata": {},
          "execution_count": 11
        }
      ]
    },
    {
      "cell_type": "code",
      "source": [
        "TENSOR.shape"
      ],
      "metadata": {
        "colab": {
          "base_uri": "https://localhost:8080/"
        },
        "id": "cBn44rHNehD3",
        "outputId": "93f40183-7c29-4385-f0f1-5a5967758c73"
      },
      "execution_count": 12,
      "outputs": [
        {
          "output_type": "execute_result",
          "data": {
            "text/plain": [
              "torch.Size([5, 3, 3])"
            ]
          },
          "metadata": {},
          "execution_count": 12
        }
      ]
    },
    {
      "cell_type": "code",
      "source": [
        "TENSOR[0]"
      ],
      "metadata": {
        "colab": {
          "base_uri": "https://localhost:8080/"
        },
        "id": "kKTIovIberrk",
        "outputId": "536008a9-d046-46be-bc02-4522be8a9289"
      },
      "execution_count": 13,
      "outputs": [
        {
          "output_type": "execute_result",
          "data": {
            "text/plain": [
              "tensor([[-1.1873, -0.0605,  0.3854],\n",
              "        [-2.1014,  0.5827,  0.8315],\n",
              "        [-0.8998, -0.8992,  1.9852]])"
            ]
          },
          "metadata": {},
          "execution_count": 13
        }
      ]
    },
    {
      "cell_type": "markdown",
      "source": [
        "Random tensors are impirtant because the way many neural networks is that they start with tensors full of random numbers and then adjust those random numbers to better represent the data."
      ],
      "metadata": {
        "id": "x3RhcpFzfBDa"
      }
    },
    {
      "cell_type": "code",
      "source": [
        "#Create a random tensor with similar shape of an image tensor\n",
        "random_image_size_tensor = torch.rand(size=(3, 224, 224))\n",
        "random_image_size_tensor"
      ],
      "metadata": {
        "colab": {
          "base_uri": "https://localhost:8080/"
        },
        "id": "EKI13SNcfQUG",
        "outputId": "ea904a9d-abf2-4985-e097-6a68bf5d9b3a"
      },
      "execution_count": 14,
      "outputs": [
        {
          "output_type": "execute_result",
          "data": {
            "text/plain": [
              "tensor([[[0.3573, 0.7891, 0.0869,  ..., 0.8994, 0.9065, 0.5901],\n",
              "         [0.3996, 0.7577, 0.1504,  ..., 0.8052, 0.2589, 0.3595],\n",
              "         [0.9225, 0.1171, 0.6564,  ..., 0.2645, 0.0688, 0.0757],\n",
              "         ...,\n",
              "         [0.0886, 0.2736, 0.4990,  ..., 0.0178, 0.3220, 0.1320],\n",
              "         [0.1509, 0.5974, 0.7688,  ..., 0.0931, 0.5204, 0.2756],\n",
              "         [0.7717, 0.7840, 0.8128,  ..., 0.3082, 0.7809, 0.6573]],\n",
              "\n",
              "        [[0.8629, 0.4960, 0.6945,  ..., 0.3917, 0.8004, 0.5743],\n",
              "         [0.4225, 0.5299, 0.3517,  ..., 0.3837, 0.8937, 0.9681],\n",
              "         [0.0123, 0.5557, 0.9604,  ..., 0.1741, 0.2304, 0.3921],\n",
              "         ...,\n",
              "         [0.1890, 0.0688, 0.4464,  ..., 0.2072, 0.7057, 0.2761],\n",
              "         [0.4434, 0.3425, 0.3060,  ..., 0.3737, 0.0125, 0.2547],\n",
              "         [0.6718, 0.7512, 0.9738,  ..., 0.2462, 0.5184, 0.5426]],\n",
              "\n",
              "        [[0.6133, 0.4614, 0.5835,  ..., 0.1070, 0.1033, 0.9195],\n",
              "         [0.6773, 0.8509, 0.5568,  ..., 0.0465, 0.1987, 0.6519],\n",
              "         [0.0418, 0.6618, 0.9055,  ..., 0.6082, 0.7775, 0.8538],\n",
              "         ...,\n",
              "         [0.7242, 0.7620, 0.6374,  ..., 0.3457, 0.0381, 0.8859],\n",
              "         [0.9868, 0.6760, 0.8415,  ..., 0.8596, 0.5417, 0.0738],\n",
              "         [0.7389, 0.5757, 0.5795,  ..., 0.3151, 0.9142, 0.7874]]])"
            ]
          },
          "metadata": {},
          "execution_count": 14
        }
      ]
    },
    {
      "cell_type": "code",
      "source": [
        "random_image_size_tensor.shape , random_image_size_tensor.ndim"
      ],
      "metadata": {
        "colab": {
          "base_uri": "https://localhost:8080/"
        },
        "id": "-CuFig6Yfv_9",
        "outputId": "6004a83b-c421-4c32-f88a-e3587917cce8"
      },
      "execution_count": 15,
      "outputs": [
        {
          "output_type": "execute_result",
          "data": {
            "text/plain": [
              "(torch.Size([3, 224, 224]), 3)"
            ]
          },
          "metadata": {},
          "execution_count": 15
        }
      ]
    },
    {
      "cell_type": "code",
      "source": [
        "one_to_ten = torch.arange(0,10)\n",
        "one_to_ten"
      ],
      "metadata": {
        "colab": {
          "base_uri": "https://localhost:8080/"
        },
        "id": "AfDVZIfff2cU",
        "outputId": "43869e8c-6ed8-4756-cd15-ad5842becbe7"
      },
      "execution_count": 16,
      "outputs": [
        {
          "output_type": "execute_result",
          "data": {
            "text/plain": [
              "tensor([0, 1, 2, 3, 4, 5, 6, 7, 8, 9])"
            ]
          },
          "metadata": {},
          "execution_count": 16
        }
      ]
    },
    {
      "cell_type": "code",
      "source": [
        "ten_zeros = torch.zeros_like(one_to_ten)\n",
        "ten_zeros"
      ],
      "metadata": {
        "colab": {
          "base_uri": "https://localhost:8080/"
        },
        "id": "rpEDxMpvgTwd",
        "outputId": "244bf7c0-b06f-4b60-a747-2003ab23141f"
      },
      "execution_count": 17,
      "outputs": [
        {
          "output_type": "execute_result",
          "data": {
            "text/plain": [
              "tensor([0, 0, 0, 0, 0, 0, 0, 0, 0, 0])"
            ]
          },
          "metadata": {},
          "execution_count": 17
        }
      ]
    },
    {
      "cell_type": "code",
      "source": [
        "TNSR1 = torch.tensor([3.0, 6.0, 9.0], dtype = float , #float16 / float32\n",
        "                                     device = \"cpu\", # or 'cuda'\n",
        "                                      requires_grad = False ) # to track gradient if tensor goes through certain numerical calculations"
      ],
      "metadata": {
        "id": "e7ZtoEUGgr-9"
      },
      "execution_count": 18,
      "outputs": []
    },
    {
      "cell_type": "code",
      "source": [
        "TNSR1"
      ],
      "metadata": {
        "colab": {
          "base_uri": "https://localhost:8080/"
        },
        "id": "qwaDH2cxh9t_",
        "outputId": "8c6152c1-68f1-4376-d4d1-725be020c277"
      },
      "execution_count": 19,
      "outputs": [
        {
          "output_type": "execute_result",
          "data": {
            "text/plain": [
              "tensor([3., 6., 9.], dtype=torch.float64)"
            ]
          },
          "metadata": {},
          "execution_count": 19
        }
      ]
    },
    {
      "cell_type": "code",
      "source": [
        "TNSR2_float16 = torch.tensor([5.0, 2.0, 11.0], dtype = torch.float16 , #float16 / float32\n",
        "                                     device = \"cpu\", # or 'cuda'\n",
        "                                      requires_grad = False ) # to track gradient if tensor goes through certain numerical calculations"
      ],
      "metadata": {
        "id": "KNsJ8pzGiCvB"
      },
      "execution_count": 42,
      "outputs": []
    },
    {
      "cell_type": "code",
      "source": [
        "TNSR2_float16"
      ],
      "metadata": {
        "colab": {
          "base_uri": "https://localhost:8080/"
        },
        "id": "neadR2upiV5L",
        "outputId": "ca6b15de-8ea8-46d1-f53a-33a528ce354a"
      },
      "execution_count": 26,
      "outputs": [
        {
          "output_type": "execute_result",
          "data": {
            "text/plain": [
              "tensor([3., 6., 9.], dtype=torch.float16)"
            ]
          },
          "metadata": {},
          "execution_count": 26
        }
      ]
    },
    {
      "cell_type": "code",
      "source": [
        "int_32_tensor = torch.tensor([3.0, 6.0, 9.0])\n",
        "int_32_tensor"
      ],
      "metadata": {
        "id": "5RyPlj5IiYcB",
        "colab": {
          "base_uri": "https://localhost:8080/"
        },
        "outputId": "66b6063e-c89a-44b2-a05a-4c89bac8d207"
      },
      "execution_count": 27,
      "outputs": [
        {
          "output_type": "execute_result",
          "data": {
            "text/plain": [
              "tensor([3., 6., 9.])"
            ]
          },
          "metadata": {},
          "execution_count": 27
        }
      ]
    },
    {
      "cell_type": "code",
      "source": [
        "TNSR2_float16 * int_32_tensor"
      ],
      "metadata": {
        "colab": {
          "base_uri": "https://localhost:8080/"
        },
        "id": "MseTw_T3yxRV",
        "outputId": "139ae488-0146-4d72-dda0-06080b807f70"
      },
      "execution_count": 28,
      "outputs": [
        {
          "output_type": "execute_result",
          "data": {
            "text/plain": [
              "tensor([ 9., 36., 81.])"
            ]
          },
          "metadata": {},
          "execution_count": 28
        }
      ]
    },
    {
      "cell_type": "code",
      "source": [
        "# Create a tensor\n",
        "some_tensor = torch.rand(3,4)\n",
        "some_tensor"
      ],
      "metadata": {
        "colab": {
          "base_uri": "https://localhost:8080/"
        },
        "id": "rCP1r0Jsy6DC",
        "outputId": "5ba57fb6-d37a-48fd-988c-6bc61a1bc570"
      },
      "execution_count": 31,
      "outputs": [
        {
          "output_type": "execute_result",
          "data": {
            "text/plain": [
              "tensor([[0.9336, 0.0371, 0.8879, 0.8898],\n",
              "        [0.7268, 0.3451, 0.5851, 0.5552],\n",
              "        [0.5358, 0.5650, 0.0554, 0.8095]])"
            ]
          },
          "metadata": {},
          "execution_count": 31
        }
      ]
    },
    {
      "cell_type": "code",
      "source": [
        "# Find out details about some tensor\n",
        "print(some_tensor)\n",
        "print(f\"Datatype of tensor:{some_tensor.dtype}\")\n",
        "print(f\"Datatype of tensor:{some_tensor.shape}\")\n",
        "print(f\"Datatype of tensor:{some_tensor.device}\")"
      ],
      "metadata": {
        "colab": {
          "base_uri": "https://localhost:8080/"
        },
        "id": "O6mhliVbzqB9",
        "outputId": "dcf04370-c718-4054-b9a7-14e6e8e72509"
      },
      "execution_count": 35,
      "outputs": [
        {
          "output_type": "stream",
          "name": "stdout",
          "text": [
            "tensor([[0.9336, 0.0371, 0.8879, 0.8898],\n",
            "        [0.7268, 0.3451, 0.5851, 0.5552],\n",
            "        [0.5358, 0.5650, 0.0554, 0.8095]])\n",
            "Datatype of tensor:torch.float32\n",
            "Datatype of tensor:torch.Size([3, 4])\n",
            "Datatype of tensor:cpu\n"
          ]
        }
      ]
    },
    {
      "cell_type": "markdown",
      "source": [
        "## Matrix Multiplication\n",
        "1. Element- Wise\n",
        "2. Dot product"
      ],
      "metadata": {
        "id": "wPuQePAW0-He"
      }
    },
    {
      "cell_type": "code",
      "source": [
        "## 1\n",
        "tnsr_mul = TNSR2_float16 * int_32_tensor\n",
        "print(TNSR2_float16)\n",
        "print(int_32_tensor)\n",
        "print(tnsr_mul)\n"
      ],
      "metadata": {
        "colab": {
          "base_uri": "https://localhost:8080/"
        },
        "id": "XBdh61Du1FaN",
        "outputId": "a2815bc1-e94c-4a30-b5f1-99966a5a5d13"
      },
      "execution_count": 45,
      "outputs": [
        {
          "output_type": "stream",
          "name": "stdout",
          "text": [
            "tensor([ 5.,  2., 11.], dtype=torch.float16)\n",
            "tensor([3., 6., 9.])\n",
            "tensor([15., 12., 99.])\n"
          ]
        }
      ]
    },
    {
      "cell_type": "code",
      "source": [
        "torch.matmul(int_32_tensor, int_32_tensor)"
      ],
      "metadata": {
        "colab": {
          "base_uri": "https://localhost:8080/"
        },
        "id": "tj1-2VeA1MRI",
        "outputId": "07e1e39a-1ec7-4616-e556-cbb237219608"
      },
      "execution_count": 52,
      "outputs": [
        {
          "output_type": "execute_result",
          "data": {
            "text/plain": [
              "tensor(126.)"
            ]
          },
          "metadata": {},
          "execution_count": 52
        }
      ]
    },
    {
      "cell_type": "code",
      "source": [
        "dot_product = 0\n",
        "for j in range(len(int_32_tensor)):\n",
        "    dot_product += int_32_tensor[j] * int_32_tensor[j]\n",
        "dot_product"
      ],
      "metadata": {
        "colab": {
          "base_uri": "https://localhost:8080/"
        },
        "id": "WIUr-Zqj17Oh",
        "outputId": "7e6bcdef-8575-4125-e62c-eae58a6177f4"
      },
      "execution_count": 53,
      "outputs": [
        {
          "output_type": "execute_result",
          "data": {
            "text/plain": [
              "tensor(126.)"
            ]
          },
          "metadata": {},
          "execution_count": 53
        }
      ]
    },
    {
      "cell_type": "code",
      "source": [
        "## Finding the min, max, mean, sum, etc(tensor aggregation)"
      ],
      "metadata": {
        "id": "4bQDOLEl23Oe"
      },
      "execution_count": 55,
      "outputs": []
    },
    {
      "cell_type": "code",
      "source": [
        "x = torch.arange(0,100,10)\n",
        "x"
      ],
      "metadata": {
        "colab": {
          "base_uri": "https://localhost:8080/"
        },
        "id": "ENELFdaw4t5o",
        "outputId": "dd06a8dc-e273-413f-a50b-2ac1ff70cfd4"
      },
      "execution_count": 56,
      "outputs": [
        {
          "output_type": "execute_result",
          "data": {
            "text/plain": [
              "tensor([ 0, 10, 20, 30, 40, 50, 60, 70, 80, 90])"
            ]
          },
          "metadata": {},
          "execution_count": 56
        }
      ]
    },
    {
      "cell_type": "code",
      "source": [
        "torch.max(x) , torch.min(x)"
      ],
      "metadata": {
        "colab": {
          "base_uri": "https://localhost:8080/"
        },
        "id": "2O1gr2zT4zcs",
        "outputId": "1a7a25f7-62a5-48de-b099-fe443abefa28"
      },
      "execution_count": 57,
      "outputs": [
        {
          "output_type": "execute_result",
          "data": {
            "text/plain": [
              "(tensor(90), tensor(0))"
            ]
          },
          "metadata": {},
          "execution_count": 57
        }
      ]
    },
    {
      "cell_type": "code",
      "source": [
        "torch.mean(x.type(torch.float32))"
      ],
      "metadata": {
        "colab": {
          "base_uri": "https://localhost:8080/"
        },
        "id": "SkidkdjH42Hn",
        "outputId": "e049d960-58b1-4312-a4b6-2d91bf2f4953"
      },
      "execution_count": 59,
      "outputs": [
        {
          "output_type": "execute_result",
          "data": {
            "text/plain": [
              "tensor(45.)"
            ]
          },
          "metadata": {},
          "execution_count": 59
        }
      ]
    },
    {
      "cell_type": "code",
      "source": [
        "x.argmin()"
      ],
      "metadata": {
        "colab": {
          "base_uri": "https://localhost:8080/"
        },
        "id": "klD-GTcZ48Cc",
        "outputId": "ffd0236c-0163-42e6-88c4-bb44b4485ab4"
      },
      "execution_count": 61,
      "outputs": [
        {
          "output_type": "execute_result",
          "data": {
            "text/plain": [
              "tensor(0)"
            ]
          },
          "metadata": {},
          "execution_count": 61
        }
      ]
    },
    {
      "cell_type": "code",
      "source": [
        "x[0]"
      ],
      "metadata": {
        "colab": {
          "base_uri": "https://localhost:8080/"
        },
        "id": "tklQ7br86uch",
        "outputId": "5af672d2-19ae-4269-feb9-c9905639e4c8"
      },
      "execution_count": 62,
      "outputs": [
        {
          "output_type": "execute_result",
          "data": {
            "text/plain": [
              "tensor(0)"
            ]
          },
          "metadata": {},
          "execution_count": 62
        }
      ]
    },
    {
      "cell_type": "markdown",
      "source": [
        "# Reshaping, stacking, sequeezing and unsqueezing tensors\n",
        "\n",
        "* Reshaping - reshapes an input tensor to a defined shape\n",
        "* View - Return a view of an input tensor of certain shape but keep the same memory as the original tensor\n",
        "* Stacking - combine multiple tensors on top of each other(vstack) - side by side(hstack)\n",
        "* Unsqueeze - add a '1' dimension to a target tensor\n",
        "* Sequeeze - removes all '1' dimension from a target\n",
        "* Permute - Return a view of the input with dimensions permuted(swapped) in a certain way\n"
      ],
      "metadata": {
        "id": "XUE-rAoc7EYx"
      }
    },
    {
      "cell_type": "code",
      "source": [
        "import torch"
      ],
      "metadata": {
        "id": "hAT0OM7C7Bbq"
      },
      "execution_count": 73,
      "outputs": []
    },
    {
      "cell_type": "code",
      "source": [
        "vector = torch.arange(1.0,10.0)\n",
        "print(vector)\n",
        "vector.shape"
      ],
      "metadata": {
        "colab": {
          "base_uri": "https://localhost:8080/"
        },
        "id": "yKAIkIxY70o0",
        "outputId": "8061fdc6-7151-4a49-97b0-cbd88e4bd28d"
      },
      "execution_count": 74,
      "outputs": [
        {
          "output_type": "stream",
          "name": "stdout",
          "text": [
            "tensor([1., 2., 3., 4., 5., 6., 7., 8., 9.])\n"
          ]
        },
        {
          "output_type": "execute_result",
          "data": {
            "text/plain": [
              "torch.Size([9])"
            ]
          },
          "metadata": {},
          "execution_count": 74
        }
      ]
    },
    {
      "cell_type": "code",
      "source": [
        "vector_reshaped = vector.reshape(1,9)\n",
        "print(vector_reshaped)\n",
        "vector_reshaped.shape"
      ],
      "metadata": {
        "colab": {
          "base_uri": "https://localhost:8080/"
        },
        "id": "jQmCwQOT76o6",
        "outputId": "477f58a6-6592-4cc2-a631-b7855833e6a2"
      },
      "execution_count": 75,
      "outputs": [
        {
          "output_type": "stream",
          "name": "stdout",
          "text": [
            "tensor([[1., 2., 3., 4., 5., 6., 7., 8., 9.]])\n"
          ]
        },
        {
          "output_type": "execute_result",
          "data": {
            "text/plain": [
              "torch.Size([1, 9])"
            ]
          },
          "metadata": {},
          "execution_count": 75
        }
      ]
    },
    {
      "cell_type": "code",
      "source": [
        "vector_reshaped = vector.reshape(3,3)\n",
        "print(vector_reshaped)\n",
        "vector_reshaped.shape"
      ],
      "metadata": {
        "colab": {
          "base_uri": "https://localhost:8080/"
        },
        "id": "tQpqJl2o8CgM",
        "outputId": "c0efe450-9599-4428-d638-b39ceaf31e03"
      },
      "execution_count": 76,
      "outputs": [
        {
          "output_type": "stream",
          "name": "stdout",
          "text": [
            "tensor([[1., 2., 3.],\n",
            "        [4., 5., 6.],\n",
            "        [7., 8., 9.]])\n"
          ]
        },
        {
          "output_type": "execute_result",
          "data": {
            "text/plain": [
              "torch.Size([3, 3])"
            ]
          },
          "metadata": {},
          "execution_count": 76
        }
      ]
    },
    {
      "cell_type": "code",
      "source": [
        "new_tensor = vector.view(1,9)\n",
        "new_tensor, new_tensor.shape"
      ],
      "metadata": {
        "colab": {
          "base_uri": "https://localhost:8080/"
        },
        "id": "os1k3bcJ8cDl",
        "outputId": "6390dd70-5215-4b1a-d59b-f66b73225a9b"
      },
      "execution_count": 89,
      "outputs": [
        {
          "output_type": "execute_result",
          "data": {
            "text/plain": [
              "(tensor([[5., 2., 3., 4., 5., 6., 7., 8., 9.]]), torch.Size([1, 9]))"
            ]
          },
          "metadata": {},
          "execution_count": 89
        }
      ]
    },
    {
      "cell_type": "code",
      "source": [
        "# Changing variable in tensor will conclude changing values on vector\n",
        "new_tensor[:,0] = 5\n",
        "new_tensor, vector"
      ],
      "metadata": {
        "colab": {
          "base_uri": "https://localhost:8080/"
        },
        "id": "CfTJ27-w8p48",
        "outputId": "9f95b1c7-95a3-4fa0-8d7a-a6334e3589a6"
      },
      "execution_count": 90,
      "outputs": [
        {
          "output_type": "execute_result",
          "data": {
            "text/plain": [
              "(tensor([[5., 2., 3., 4., 5., 6., 7., 8., 9.]]),\n",
              " tensor([5., 2., 3., 4., 5., 6., 7., 8., 9.]))"
            ]
          },
          "metadata": {},
          "execution_count": 90
        }
      ]
    },
    {
      "cell_type": "code",
      "source": [
        "new_tensor_stacked = torch.stack([new_tensor,new_tensor,new_tensor,new_tensor],dim = 2)\n",
        "new_tensor_stacked, new_tensor_stacked.shape"
      ],
      "metadata": {
        "colab": {
          "base_uri": "https://localhost:8080/"
        },
        "id": "s0qA0kxY8sYl",
        "outputId": "223e0f27-da95-4a56-b55a-e190bc377332"
      },
      "execution_count": 102,
      "outputs": [
        {
          "output_type": "execute_result",
          "data": {
            "text/plain": [
              "(tensor([[[5., 5., 5., 5.],\n",
              "          [2., 2., 2., 2.],\n",
              "          [3., 3., 3., 3.],\n",
              "          [4., 4., 4., 4.],\n",
              "          [5., 5., 5., 5.],\n",
              "          [6., 6., 6., 6.],\n",
              "          [7., 7., 7., 7.],\n",
              "          [8., 8., 8., 8.],\n",
              "          [9., 9., 9., 9.]]]),\n",
              " torch.Size([1, 9, 4]))"
            ]
          },
          "metadata": {},
          "execution_count": 102
        }
      ]
    },
    {
      "cell_type": "code",
      "source": [
        "new_tensor_stacked = torch.stack([new_tensor,new_tensor,new_tensor,new_tensor],dim = 1)\n",
        "new_tensor_stacked, new_tensor_stacked.shape"
      ],
      "metadata": {
        "colab": {
          "base_uri": "https://localhost:8080/"
        },
        "id": "XaT8xNQq8s-a",
        "outputId": "69cc9b5c-eafa-474f-804d-0b4af919f36c"
      },
      "execution_count": 101,
      "outputs": [
        {
          "output_type": "execute_result",
          "data": {
            "text/plain": [
              "(tensor([[[5., 2., 3., 4., 5., 6., 7., 8., 9.],\n",
              "          [5., 2., 3., 4., 5., 6., 7., 8., 9.],\n",
              "          [5., 2., 3., 4., 5., 6., 7., 8., 9.],\n",
              "          [5., 2., 3., 4., 5., 6., 7., 8., 9.]]]),\n",
              " torch.Size([1, 4, 9]))"
            ]
          },
          "metadata": {},
          "execution_count": 101
        }
      ]
    },
    {
      "cell_type": "code",
      "source": [
        "y = torch.squeeze(new_tensor)\n",
        "y, y.shape"
      ],
      "metadata": {
        "colab": {
          "base_uri": "https://localhost:8080/"
        },
        "id": "GpUdAAN6-L97",
        "outputId": "988572aa-2068-42fa-e574-5d98c0dde75f"
      },
      "execution_count": 108,
      "outputs": [
        {
          "output_type": "execute_result",
          "data": {
            "text/plain": [
              "(tensor([5., 2., 3., 4., 5., 6., 7., 8., 9.]), torch.Size([9]))"
            ]
          },
          "metadata": {},
          "execution_count": 108
        }
      ]
    },
    {
      "cell_type": "code",
      "source": [
        " y = torch.squeeze(new_tensor_stacked) # torch.Size([9, 4])) 1 dimension is sequezed\n",
        " y, y.shape"
      ],
      "metadata": {
        "colab": {
          "base_uri": "https://localhost:8080/"
        },
        "id": "gjIrdzV_-lU6",
        "outputId": "8bea704e-ddc9-433a-95a0-d460d2ab688b"
      },
      "execution_count": 117,
      "outputs": [
        {
          "output_type": "execute_result",
          "data": {
            "text/plain": [
              "(tensor([[5., 5., 5., 5.],\n",
              "         [2., 2., 2., 2.],\n",
              "         [3., 3., 3., 3.],\n",
              "         [4., 4., 4., 4.],\n",
              "         [5., 5., 5., 5.],\n",
              "         [6., 6., 6., 6.],\n",
              "         [7., 7., 7., 7.],\n",
              "         [8., 8., 8., 8.],\n",
              "         [9., 9., 9., 9.]]),\n",
              " torch.Size([9, 4]))"
            ]
          },
          "metadata": {},
          "execution_count": 117
        }
      ]
    },
    {
      "cell_type": "code",
      "source": [
        "y = torch.unsqueeze(y, dim =0) ##  torch.Size([1, 9, 4]))\n",
        "y, y.shape"
      ],
      "metadata": {
        "colab": {
          "base_uri": "https://localhost:8080/"
        },
        "id": "GXm9k7kh_DUI",
        "outputId": "fc3b1775-7b59-48a9-f983-e14bc254eae9"
      },
      "execution_count": 118,
      "outputs": [
        {
          "output_type": "execute_result",
          "data": {
            "text/plain": [
              "(tensor([[[5., 5., 5., 5.],\n",
              "          [2., 2., 2., 2.],\n",
              "          [3., 3., 3., 3.],\n",
              "          [4., 4., 4., 4.],\n",
              "          [5., 5., 5., 5.],\n",
              "          [6., 6., 6., 6.],\n",
              "          [7., 7., 7., 7.],\n",
              "          [8., 8., 8., 8.],\n",
              "          [9., 9., 9., 9.]]]),\n",
              " torch.Size([1, 9, 4]))"
            ]
          },
          "metadata": {},
          "execution_count": 118
        }
      ]
    },
    {
      "cell_type": "code",
      "source": [
        "vector2 = torch.arange(1,10).reshape(1,3,3)\n",
        "vector2"
      ],
      "metadata": {
        "colab": {
          "base_uri": "https://localhost:8080/"
        },
        "id": "jWRLoCzS_OBE",
        "outputId": "dd0144bc-a30e-46d4-9bbb-78d2282f3d0f"
      },
      "execution_count": 130,
      "outputs": [
        {
          "output_type": "execute_result",
          "data": {
            "text/plain": [
              "tensor([[[1, 2, 3],\n",
              "         [4, 5, 6],\n",
              "         [7, 8, 9]]])"
            ]
          },
          "metadata": {},
          "execution_count": 130
        }
      ]
    },
    {
      "cell_type": "code",
      "source": [
        "vector2[0,0][0]"
      ],
      "metadata": {
        "colab": {
          "base_uri": "https://localhost:8080/"
        },
        "id": "AIQg4V5oFfbE",
        "outputId": "1f91357d-1b53-4ed2-897d-c7e5f784f324"
      },
      "execution_count": 136,
      "outputs": [
        {
          "output_type": "execute_result",
          "data": {
            "text/plain": [
              "tensor(1)"
            ]
          },
          "metadata": {},
          "execution_count": 136
        }
      ]
    },
    {
      "cell_type": "code",
      "source": [
        "vector2[0,:,0]"
      ],
      "metadata": {
        "colab": {
          "base_uri": "https://localhost:8080/"
        },
        "id": "_onyp2BFFomh",
        "outputId": "a36c3af6-090a-463f-ec7f-dd71708c3a8d"
      },
      "execution_count": 139,
      "outputs": [
        {
          "output_type": "execute_result",
          "data": {
            "text/plain": [
              "tensor([1, 4, 7])"
            ]
          },
          "metadata": {},
          "execution_count": 139
        }
      ]
    },
    {
      "cell_type": "code",
      "source": [
        "vector2[0,0,:]"
      ],
      "metadata": {
        "colab": {
          "base_uri": "https://localhost:8080/"
        },
        "id": "ZBKM6iAOF5IC",
        "outputId": "0139f5ab-2268-46d1-ae71-bc29a6769c0c"
      },
      "execution_count": 140,
      "outputs": [
        {
          "output_type": "execute_result",
          "data": {
            "text/plain": [
              "tensor([1, 2, 3])"
            ]
          },
          "metadata": {},
          "execution_count": 140
        }
      ]
    },
    {
      "cell_type": "code",
      "source": [
        "import numpy as np"
      ],
      "metadata": {
        "id": "qM_r9vr4GE7n"
      },
      "execution_count": 141,
      "outputs": []
    },
    {
      "cell_type": "code",
      "source": [
        "array = np.arange(1,9,10)\n",
        "type(array)"
      ],
      "metadata": {
        "colab": {
          "base_uri": "https://localhost:8080/"
        },
        "id": "MxwAEyScGOOg",
        "outputId": "debcb538-6d23-4b9f-8c6b-4a554854aa1c"
      },
      "execution_count": 144,
      "outputs": [
        {
          "output_type": "execute_result",
          "data": {
            "text/plain": [
              "numpy.ndarray"
            ]
          },
          "metadata": {},
          "execution_count": 144
        }
      ]
    },
    {
      "cell_type": "code",
      "source": [
        "tensor = torch.from_numpy(array)\n",
        "tensor"
      ],
      "metadata": {
        "colab": {
          "base_uri": "https://localhost:8080/"
        },
        "id": "uRnBY9TAGTfl",
        "outputId": "34508f5c-e05e-4849-cbb0-94a9cdabe161"
      },
      "execution_count": 146,
      "outputs": [
        {
          "output_type": "execute_result",
          "data": {
            "text/plain": [
              "tensor([1])"
            ]
          },
          "metadata": {},
          "execution_count": 146
        }
      ]
    },
    {
      "cell_type": "code",
      "source": [],
      "metadata": {
        "id": "FDHvfd9HIlK9"
      },
      "execution_count": null,
      "outputs": []
    },
    {
      "cell_type": "markdown",
      "source": [
        "## Running tensors and PyTorch objects on the GPU\n"
      ],
      "metadata": {
        "id": "qtR8jGztInP2"
      }
    },
    {
      "cell_type": "code",
      "source": [
        "!nvidia-smi"
      ],
      "metadata": {
        "colab": {
          "base_uri": "https://localhost:8080/"
        },
        "id": "2fdV1UCzItFA",
        "outputId": "2b58c9c5-be9c-41a5-f043-66bfe388a987"
      },
      "execution_count": 1,
      "outputs": [
        {
          "output_type": "stream",
          "name": "stdout",
          "text": [
            "Wed Oct 25 00:02:34 2023       \n",
            "+-----------------------------------------------------------------------------+\n",
            "| NVIDIA-SMI 525.105.17   Driver Version: 525.105.17   CUDA Version: 12.0     |\n",
            "|-------------------------------+----------------------+----------------------+\n",
            "| GPU  Name        Persistence-M| Bus-Id        Disp.A | Volatile Uncorr. ECC |\n",
            "| Fan  Temp  Perf  Pwr:Usage/Cap|         Memory-Usage | GPU-Util  Compute M. |\n",
            "|                               |                      |               MIG M. |\n",
            "|===============================+======================+======================|\n",
            "|   0  Tesla T4            Off  | 00000000:00:04.0 Off |                    0 |\n",
            "| N/A   43C    P8     9W /  70W |      0MiB / 15360MiB |      0%      Default |\n",
            "|                               |                      |                  N/A |\n",
            "+-------------------------------+----------------------+----------------------+\n",
            "                                                                               \n",
            "+-----------------------------------------------------------------------------+\n",
            "| Processes:                                                                  |\n",
            "|  GPU   GI   CI        PID   Type   Process name                  GPU Memory |\n",
            "|        ID   ID                                                   Usage      |\n",
            "|=============================================================================|\n",
            "|  No running processes found                                                 |\n",
            "+-----------------------------------------------------------------------------+\n"
          ]
        }
      ]
    },
    {
      "cell_type": "code",
      "source": [
        "### 2. Check for GPU access with Pytorch\n",
        "import torch\n",
        "torch.cuda.is_available()"
      ],
      "metadata": {
        "colab": {
          "base_uri": "https://localhost:8080/"
        },
        "id": "0bAPydHsIvc0",
        "outputId": "50a2c42b-22ac-41bd-efad-d70f27f2faaa"
      },
      "execution_count": 4,
      "outputs": [
        {
          "output_type": "execute_result",
          "data": {
            "text/plain": [
              "True"
            ]
          },
          "metadata": {},
          "execution_count": 4
        }
      ]
    },
    {
      "cell_type": "code",
      "source": [
        "## how to make it device agnostic code\n",
        "device = \"cuda\" if torch.cuda.is_available() else \"cpu\"\n",
        "device"
      ],
      "metadata": {
        "colab": {
          "base_uri": "https://localhost:8080/",
          "height": 35
        },
        "id": "JybFYU_-JFNo",
        "outputId": "32b31a43-1ff4-4235-d442-526d5a19a21b"
      },
      "execution_count": 6,
      "outputs": [
        {
          "output_type": "execute_result",
          "data": {
            "text/plain": [
              "'cuda'"
            ],
            "application/vnd.google.colaboratory.intrinsic+json": {
              "type": "string"
            }
          },
          "metadata": {},
          "execution_count": 6
        }
      ]
    },
    {
      "cell_type": "code",
      "source": [
        "torch.device(device)"
      ],
      "metadata": {
        "colab": {
          "base_uri": "https://localhost:8080/"
        },
        "id": "EzDubLJ0JU9h",
        "outputId": "b4061ffa-1915-4deb-da11-7ec8eb691b94"
      },
      "execution_count": 7,
      "outputs": [
        {
          "output_type": "execute_result",
          "data": {
            "text/plain": [
              "device(type='cuda')"
            ]
          },
          "metadata": {},
          "execution_count": 7
        }
      ]
    },
    {
      "cell_type": "code",
      "source": [
        "## 3.Putting tensors on the GPU\n",
        "tensor = torch.tensor([1,2,3], device = 'cpu')\n",
        "print(tensor, tensor.device)"
      ],
      "metadata": {
        "colab": {
          "base_uri": "https://localhost:8080/"
        },
        "id": "ePNMYeqdJhiZ",
        "outputId": "626706a8-adb1-400b-faaf-71f268e3bef2"
      },
      "execution_count": 8,
      "outputs": [
        {
          "output_type": "stream",
          "name": "stdout",
          "text": [
            "tensor([1, 2, 3]) cpu\n"
          ]
        }
      ]
    },
    {
      "cell_type": "code",
      "source": [
        "tensor_on_gpu = tensor.to(device)\n",
        "tensor_on_gpu"
      ],
      "metadata": {
        "colab": {
          "base_uri": "https://localhost:8080/"
        },
        "id": "vsbYPvtgJ6Kc",
        "outputId": "05c39ea4-d8e5-4916-bc42-1f1342f2a4e1"
      },
      "execution_count": 10,
      "outputs": [
        {
          "output_type": "execute_result",
          "data": {
            "text/plain": [
              "tensor([1, 2, 3], device='cuda:0')"
            ]
          },
          "metadata": {},
          "execution_count": 10
        }
      ]
    },
    {
      "cell_type": "code",
      "source": [],
      "metadata": {
        "id": "7izaeV5ZKB-1"
      },
      "execution_count": null,
      "outputs": []
    }
  ]
}