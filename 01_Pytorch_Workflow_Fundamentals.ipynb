{
  "nbformat": 4,
  "nbformat_minor": 0,
  "metadata": {
    "colab": {
      "provenance": [],
      "authorship_tag": "ABX9TyNkGnNl4h1l0O3w9lmt+QI2",
      "include_colab_link": true
    },
    "kernelspec": {
      "name": "python3",
      "display_name": "Python 3"
    },
    "language_info": {
      "name": "python"
    }
  },
  "cells": [
    {
      "cell_type": "markdown",
      "metadata": {
        "id": "view-in-github",
        "colab_type": "text"
      },
      "source": [
        "<a href=\"https://colab.research.google.com/github/ArincDemirel/PyTorch--Deep-Learning-Projects/blob/main/01_Pytorch_Workflow_Fundamentals.ipynb\" target=\"_parent\"><img src=\"https://colab.research.google.com/assets/colab-badge.svg\" alt=\"Open In Colab\"/></a>"
      ]
    },
    {
      "cell_type": "code",
      "execution_count": 44,
      "metadata": {
        "id": "vzFZWIwlK-6f"
      },
      "outputs": [],
      "source": []
    },
    {
      "cell_type": "markdown",
      "source": [
        "## 01.Pytorch Workflow Fundamentals\n",
        "\n",
        "Resource Notebook: https://www.learnpytorch.io/01_pytorch_workflow/"
      ],
      "metadata": {
        "id": "bz_vMx4TLKeB"
      }
    },
    {
      "cell_type": "code",
      "source": [
        "# PyTorch Workflow\n"
      ],
      "metadata": {
        "id": "cohIXgDyLWPf"
      },
      "execution_count": 45,
      "outputs": []
    },
    {
      "cell_type": "code",
      "source": [
        "import torch\n",
        "from torch import nn # nn contains all of PyTorch's building blocks for nueral networks\n",
        "import matplotlib.pyplot as plt"
      ],
      "metadata": {
        "id": "WC1pzF7Sqeid"
      },
      "execution_count": 46,
      "outputs": []
    },
    {
      "cell_type": "markdown",
      "source": [
        "## 1. Data(Preparing and Loading)\n"
      ],
      "metadata": {
        "id": "ZIwjif8wrdx-"
      }
    },
    {
      "cell_type": "code",
      "source": [
        "## Linear Regression\n",
        "# Create *known* parameters\n",
        "weight = 0.7\n",
        "bias = 0.3\n",
        "\n",
        "#Creat data\n",
        "start = 0\n",
        "end = 1\n",
        "step = 0.02\n",
        "X = torch.arange(start, end, step)\n",
        "print('x:',X),print(X.shape)\n",
        "y = weight * X + bias\n",
        "print('y:',y)"
      ],
      "metadata": {
        "colab": {
          "base_uri": "https://localhost:8080/"
        },
        "id": "-Cgn3e6LriOc",
        "outputId": "bc0b14e9-f996-4412-b603-5b67dbb12b71"
      },
      "execution_count": 47,
      "outputs": [
        {
          "output_type": "stream",
          "name": "stdout",
          "text": [
            "x: tensor([0.0000, 0.0200, 0.0400, 0.0600, 0.0800, 0.1000, 0.1200, 0.1400, 0.1600,\n",
            "        0.1800, 0.2000, 0.2200, 0.2400, 0.2600, 0.2800, 0.3000, 0.3200, 0.3400,\n",
            "        0.3600, 0.3800, 0.4000, 0.4200, 0.4400, 0.4600, 0.4800, 0.5000, 0.5200,\n",
            "        0.5400, 0.5600, 0.5800, 0.6000, 0.6200, 0.6400, 0.6600, 0.6800, 0.7000,\n",
            "        0.7200, 0.7400, 0.7600, 0.7800, 0.8000, 0.8200, 0.8400, 0.8600, 0.8800,\n",
            "        0.9000, 0.9200, 0.9400, 0.9600, 0.9800])\n",
            "torch.Size([50])\n",
            "y: tensor([0.3000, 0.3140, 0.3280, 0.3420, 0.3560, 0.3700, 0.3840, 0.3980, 0.4120,\n",
            "        0.4260, 0.4400, 0.4540, 0.4680, 0.4820, 0.4960, 0.5100, 0.5240, 0.5380,\n",
            "        0.5520, 0.5660, 0.5800, 0.5940, 0.6080, 0.6220, 0.6360, 0.6500, 0.6640,\n",
            "        0.6780, 0.6920, 0.7060, 0.7200, 0.7340, 0.7480, 0.7620, 0.7760, 0.7900,\n",
            "        0.8040, 0.8180, 0.8320, 0.8460, 0.8600, 0.8740, 0.8880, 0.9020, 0.9160,\n",
            "        0.9300, 0.9440, 0.9580, 0.9720, 0.9860])\n"
          ]
        }
      ]
    },
    {
      "cell_type": "markdown",
      "source": [
        "## Spliting data into training and test\n"
      ],
      "metadata": {
        "id": "T1HFqeYktoTs"
      }
    },
    {
      "cell_type": "code",
      "source": [
        "train_split = int(0.8 * len(X))\n",
        "train_split"
      ],
      "metadata": {
        "colab": {
          "base_uri": "https://localhost:8080/"
        },
        "id": "9gkc5QJdtudp",
        "outputId": "3e9d13fb-9b89-4ac7-d7f2-21deabdffc82"
      },
      "execution_count": 48,
      "outputs": [
        {
          "output_type": "execute_result",
          "data": {
            "text/plain": [
              "40"
            ]
          },
          "metadata": {},
          "execution_count": 48
        }
      ]
    },
    {
      "cell_type": "code",
      "source": [
        "X_train, y_train = X[:train_split], y[:train_split]\n",
        "X_train, y_train"
      ],
      "metadata": {
        "colab": {
          "base_uri": "https://localhost:8080/"
        },
        "id": "F-Z9TRM5ualA",
        "outputId": "8e74987d-e37f-4a3c-dfc0-ea7802ed5b44"
      },
      "execution_count": 49,
      "outputs": [
        {
          "output_type": "execute_result",
          "data": {
            "text/plain": [
              "(tensor([0.0000, 0.0200, 0.0400, 0.0600, 0.0800, 0.1000, 0.1200, 0.1400, 0.1600,\n",
              "         0.1800, 0.2000, 0.2200, 0.2400, 0.2600, 0.2800, 0.3000, 0.3200, 0.3400,\n",
              "         0.3600, 0.3800, 0.4000, 0.4200, 0.4400, 0.4600, 0.4800, 0.5000, 0.5200,\n",
              "         0.5400, 0.5600, 0.5800, 0.6000, 0.6200, 0.6400, 0.6600, 0.6800, 0.7000,\n",
              "         0.7200, 0.7400, 0.7600, 0.7800]),\n",
              " tensor([0.3000, 0.3140, 0.3280, 0.3420, 0.3560, 0.3700, 0.3840, 0.3980, 0.4120,\n",
              "         0.4260, 0.4400, 0.4540, 0.4680, 0.4820, 0.4960, 0.5100, 0.5240, 0.5380,\n",
              "         0.5520, 0.5660, 0.5800, 0.5940, 0.6080, 0.6220, 0.6360, 0.6500, 0.6640,\n",
              "         0.6780, 0.6920, 0.7060, 0.7200, 0.7340, 0.7480, 0.7620, 0.7760, 0.7900,\n",
              "         0.8040, 0.8180, 0.8320, 0.8460]))"
            ]
          },
          "metadata": {},
          "execution_count": 49
        }
      ]
    },
    {
      "cell_type": "code",
      "source": [
        "test_split = int(0.2 * len(X))\n",
        "test_split"
      ],
      "metadata": {
        "colab": {
          "base_uri": "https://localhost:8080/"
        },
        "id": "71V-ZXjduPz9",
        "outputId": "7003c1f7-0d2c-44ac-9624-ed3a0cca0502"
      },
      "execution_count": 50,
      "outputs": [
        {
          "output_type": "execute_result",
          "data": {
            "text/plain": [
              "10"
            ]
          },
          "metadata": {},
          "execution_count": 50
        }
      ]
    },
    {
      "cell_type": "code",
      "source": [
        "X_test, y_test = X[-test_split:], y[train_split:] ## or X[-test_split:], y[-test_split:]\n",
        "X_test, y_test"
      ],
      "metadata": {
        "colab": {
          "base_uri": "https://localhost:8080/"
        },
        "id": "Ng4-HpGcuV_z",
        "outputId": "dbb8a6bf-5891-444c-aa7b-edbaaf05cffc"
      },
      "execution_count": 51,
      "outputs": [
        {
          "output_type": "execute_result",
          "data": {
            "text/plain": [
              "(tensor([0.8000, 0.8200, 0.8400, 0.8600, 0.8800, 0.9000, 0.9200, 0.9400, 0.9600,\n",
              "         0.9800]),\n",
              " tensor([0.8600, 0.8740, 0.8880, 0.9020, 0.9160, 0.9300, 0.9440, 0.9580, 0.9720,\n",
              "         0.9860]))"
            ]
          },
          "metadata": {},
          "execution_count": 51
        }
      ]
    },
    {
      "cell_type": "code",
      "source": [
        "len(X_train), len(y_train), len(X_test), len(y_test)"
      ],
      "metadata": {
        "colab": {
          "base_uri": "https://localhost:8080/"
        },
        "id": "JkmhDVSKxL68",
        "outputId": "1a219d72-20e7-48b6-935a-3168b0369a70"
      },
      "execution_count": 52,
      "outputs": [
        {
          "output_type": "execute_result",
          "data": {
            "text/plain": [
              "(40, 40, 10, 10)"
            ]
          },
          "metadata": {},
          "execution_count": 52
        }
      ]
    },
    {
      "cell_type": "code",
      "source": [
        "def plot_predictions(train_data = X_train,\n",
        "                     train_labels = y_train,\n",
        "                     test_data = X_test,\n",
        "                     test_labels = y_test,\n",
        "                     predictions = None):\n",
        "\n",
        "\n",
        "    plt.figure(figsize = (10,7))\n",
        "    plt.scatter(train_data, train_labels, c='b', s=4, label = 'Training data')\n",
        "    plt.scatter(test_data, test_labels, c='g', s=4, label = 'Testing data')\n",
        "    if predictions is not None:\n",
        "      plt.scatter(test_data, predictions, c='r')\n",
        "    plt.legend(prop={\"size\":14});"
      ],
      "metadata": {
        "id": "OHlmssKwupdC"
      },
      "execution_count": 53,
      "outputs": []
    },
    {
      "cell_type": "code",
      "source": [
        "plot_predictions()"
      ],
      "metadata": {
        "colab": {
          "base_uri": "https://localhost:8080/",
          "height": 599
        },
        "id": "hwpFKQSxvTTl",
        "outputId": "951da3db-473b-4f7f-cdf3-d25f2fb85ddf"
      },
      "execution_count": 54,
      "outputs": [
        {
          "output_type": "display_data",
          "data": {
            "text/plain": [
              "<Figure size 1000x700 with 1 Axes>"
            ],
            "image/png": "[encoded data removed]"
          },
          "metadata": {}
        }
      ]
    },
    {
      "cell_type": "code",
      "source": [
        "# Build this linear regression model class\n",
        "class LinearRegressionModel(nn.Module):\n",
        "  def __init__(self):\n",
        "    super().__init__()\n",
        "    self.weights = nn.Parameter(torch.randn(1, requires_grad = True, dtype= torch.float))\n",
        "    self.bias = nn.Parameter(torch.randn(1, requires_grad = True, dtype= torch.float))\n",
        "\n",
        "  def forward(self, x: torch.Tensor) -> torch.Tensor: # <- \"×\" is the input data\n",
        "    return self.weights * x + self.bias # this is the linear regression formula"
      ],
      "metadata": {
        "id": "nAstv0yPvvdJ"
      },
      "execution_count": 55,
      "outputs": []
    },
    {
      "cell_type": "code",
      "source": [
        "torch.manual_seed(42)\n",
        "model_0 = LinearRegressionModel()\n",
        "\n",
        "list(model_0.parameters())"
      ],
      "metadata": {
        "colab": {
          "base_uri": "https://localhost:8080/"
        },
        "id": "qDJgWq3Mygt2",
        "outputId": "ea94ada7-7182-41d3-f55b-010ac552ea5f"
      },
      "execution_count": 56,
      "outputs": [
        {
          "output_type": "execute_result",
          "data": {
            "text/plain": [
              "[Parameter containing:\n",
              " tensor([0.3367], requires_grad=True),\n",
              " Parameter containing:\n",
              " tensor([0.1288], requires_grad=True)]"
            ]
          },
          "metadata": {},
          "execution_count": 56
        }
      ]
    },
    {
      "cell_type": "code",
      "source": [
        "model_0.state_dict(), weight, bias"
      ],
      "metadata": {
        "colab": {
          "base_uri": "https://localhost:8080/"
        },
        "id": "UtoiWZdG0g-k",
        "outputId": "ec2d716e-b1e6-45f9-d25f-42243ddfce4c"
      },
      "execution_count": 57,
      "outputs": [
        {
          "output_type": "execute_result",
          "data": {
            "text/plain": [
              "(OrderedDict([('weights', tensor([0.3367])), ('bias', tensor([0.1288]))]),\n",
              " 0.7,\n",
              " 0.3)"
            ]
          },
          "metadata": {},
          "execution_count": 57
        }
      ]
    },
    {
      "cell_type": "code",
      "source": [
        "# Now I am gonna try train the random values that torch calculated for us to fit into the weight and bias I have assigned at the beginning"
      ],
      "metadata": {
        "id": "hAKyoeza5Nkr"
      },
      "execution_count": 58,
      "outputs": []
    },
    {
      "cell_type": "code",
      "source": [
        "with torch.inference_mode(): ## Inference mode is gonna keep track of the gradient\n",
        "  y_preds = model_0(X_test)\n",
        "\n",
        "y_preds"
      ],
      "metadata": {
        "colab": {
          "base_uri": "https://localhost:8080/"
        },
        "id": "1YXPp-Hj5npW",
        "outputId": "d56e8410-d052-4c95-f2e3-64414be526fd"
      },
      "execution_count": 59,
      "outputs": [
        {
          "output_type": "execute_result",
          "data": {
            "text/plain": [
              "tensor([0.3982, 0.4049, 0.4116, 0.4184, 0.4251, 0.4318, 0.4386, 0.4453, 0.4520,\n",
              "        0.4588])"
            ]
          },
          "metadata": {},
          "execution_count": 59
        }
      ]
    },
    {
      "cell_type": "code",
      "source": [
        "y_test"
      ],
      "metadata": {
        "colab": {
          "base_uri": "https://localhost:8080/"
        },
        "id": "AN2QFJtJ6Uin",
        "outputId": "b319e082-6eaf-4e52-d073-28fcbb9e5f3e"
      },
      "execution_count": 60,
      "outputs": [
        {
          "output_type": "execute_result",
          "data": {
            "text/plain": [
              "tensor([0.8600, 0.8740, 0.8880, 0.9020, 0.9160, 0.9300, 0.9440, 0.9580, 0.9720,\n",
              "        0.9860])"
            ]
          },
          "metadata": {},
          "execution_count": 60
        }
      ]
    },
    {
      "cell_type": "code",
      "source": [
        "print(f\"Number of testing samples: {len(X_test)}\")\n",
        "print(f\"Number of predictions made: {len(y_preds)}\")\n",
        "print(f\"Predicted values:\\n{y_preds}\")"
      ],
      "metadata": {
        "colab": {
          "base_uri": "https://localhost:8080/"
        },
        "id": "vZx1yxc960Ll",
        "outputId": "750ec750-1293-4921-d58b-d043a7294082"
      },
      "execution_count": 61,
      "outputs": [
        {
          "output_type": "stream",
          "name": "stdout",
          "text": [
            "Number of testing samples: 10\n",
            "Number of predictions made: 10\n",
            "Predicted values:\n",
            "tensor([0.3982, 0.4049, 0.4116, 0.4184, 0.4251, 0.4318, 0.4386, 0.4453, 0.4520,\n",
            "        0.4588])\n"
          ]
        }
      ]
    },
    {
      "cell_type": "code",
      "source": [
        "plot_predictions(predictions=y_preds)"
      ],
      "metadata": {
        "colab": {
          "base_uri": "https://localhost:8080/",
          "height": 599
        },
        "id": "cjGH5vFb65V2",
        "outputId": "ab1ebe0c-7441-46f0-ee73-f3d7ddbf94f1"
      },
      "execution_count": 62,
      "outputs": [
        {
          "output_type": "display_data",
          "data": {
            "text/plain": [
              "<Figure size 1000x700 with 1 Axes>"
            ],
            "image/png": "[encoded data removed]"
          },
          "metadata": {}
        }
      ]
    },
    {
      "cell_type": "code",
      "source": [
        "y_test - y_preds"
      ],
      "metadata": {
        "colab": {
          "base_uri": "https://localhost:8080/"
        },
        "id": "jvx1lRbn7BOC",
        "outputId": "62df11aa-a33e-41c7-d695-f4c4a0cb8af1"
      },
      "execution_count": 63,
      "outputs": [
        {
          "output_type": "execute_result",
          "data": {
            "text/plain": [
              "tensor([0.4618, 0.4691, 0.4764, 0.4836, 0.4909, 0.4982, 0.5054, 0.5127, 0.5200,\n",
              "        0.5272])"
            ]
          },
          "metadata": {},
          "execution_count": 63
        }
      ]
    },
    {
      "cell_type": "markdown",
      "source": [
        "# The difference is so high, and the results are so bad, will train the model more ..."
      ],
      "metadata": {
        "id": "dl6P0S1O8sFL"
      }
    },
    {
      "cell_type": "code",
      "source": [
        "# Let's calculate MAE_loss\n",
        "\n",
        "MAE_loss = torch.mean(torch.abs(y_preds - y_test))\n",
        "MAE_loss"
      ],
      "metadata": {
        "colab": {
          "base_uri": "https://localhost:8080/"
        },
        "id": "HNSUmjL88uyE",
        "outputId": "e1f86354-da11-4147-b75a-e5f817c24f1c"
      },
      "execution_count": 64,
      "outputs": [
        {
          "output_type": "execute_result",
          "data": {
            "text/plain": [
              "tensor(0.4945)"
            ]
          },
          "metadata": {},
          "execution_count": 64
        }
      ]
    },
    {
      "cell_type": "code",
      "source": [
        "# or\n",
        "loss_fn = torch.nn.L1Loss()\n",
        "loss_fn(y_test, y_preds )\n"
      ],
      "metadata": {
        "colab": {
          "base_uri": "https://localhost:8080/"
        },
        "id": "aRZrNhBQ9wDy",
        "outputId": "0b051d48-daf9-4bdd-d40a-4e007319e809"
      },
      "execution_count": 65,
      "outputs": [
        {
          "output_type": "execute_result",
          "data": {
            "text/plain": [
              "tensor(0.4945)"
            ]
          },
          "metadata": {},
          "execution_count": 65
        }
      ]
    },
    {
      "cell_type": "code",
      "source": [
        "#Set up optimizer\n",
        "optimizer = torch.optim.SGD(params = model_0.parameters(), lr = 0.01) # lr learnining rate"
      ],
      "metadata": {
        "id": "B6-EIwjD95Wu"
      },
      "execution_count": 66,
      "outputs": []
    },
    {
      "cell_type": "markdown",
      "source": [
        "### Building a training loop (and a testing loop) in PyTorch\n",
        "A couple of things we need in a training loop:\n",
        "0. Loop through the data 1\n",
        "1. Forward pass (this involves data moving through our model's forward()\n",
        "functions) to make predictions on data - also called forward propagation\n",
        "2. Calculate the loss (compare forward pass predictions to ground truth labels)\n",
        "3. Optimizer zero grad\n",
        "4. Loss backward - move backwards through the network to calculate the gradients of rach parmeters of our model with respect to the loss\n",
        "5. Optimizer step - use optimezer to adjust our model's parameters to try and improve the loss"
      ],
      "metadata": {
        "id": "8TLWlSXtCXZE"
      }
    },
    {
      "cell_type": "code",
      "source": [
        "epochs = 100\n",
        "\n",
        "## loop through in data\n",
        "for epoch in range(epochs):\n",
        "  model_0.train() ## set the model to training mode\n",
        "\n",
        "  y_preds_train = model_0(X_train) ## forwards pass\n",
        "\n",
        "  train_loss = loss_fn(y_train, y_preds_train) ## Calculate loss\n",
        "\n",
        "\n",
        "  optimizer.zero_grad() ## Optimizer zero grad\n",
        "\n",
        "  train_loss.backward() ## perform backpropagation it is tensor backward you ccan only use it with tensors\n",
        "\n",
        "  optimizer.step() # Step the optimizer(perform gradient descent)\n",
        "\n",
        "  model_0.eval() # turns off gradient tracking(testing step)\n",
        "\n",
        "  with torch.inference_mode():\n",
        "    y_preds_new = model_0(X_test)\n",
        "    test_loss = loss_fn(y_test, y_preds_new)\n",
        "\n",
        "    if epoch %10 == 0:\n",
        "      print(f\"Epoch:{epoch}\")\n",
        "      print(f\" Train Loss:{train_loss}\")\n",
        "      print(f\" Test Loss:{test_loss}\")\n",
        "      print(f\"model params:{model_0.state_dict()}\")\n",
        "      print(f\"-------\")"
      ],
      "metadata": {
        "colab": {
          "base_uri": "https://localhost:8080/"
        },
        "id": "FxPCNgpMCZL3",
        "outputId": "6d147fbb-3010-4c69-867d-5d1b20890a4a"
      },
      "execution_count": 69,
      "outputs": [
        {
          "output_type": "stream",
          "name": "stdout",
          "text": [
            "Epoch:0\n",
            " Train Loss:0.024458957836031914\n",
            " Test Loss:0.05646304413676262\n",
            "model params:OrderedDict([('weights', tensor([0.5800])), ('bias', tensor([0.3503]))])\n",
            "-------\n",
            "Epoch:10\n",
            " Train Loss:0.021020207554101944\n",
            " Test Loss:0.04819049686193466\n",
            "model params:OrderedDict([('weights', tensor([0.5972])), ('bias', tensor([0.3433]))])\n",
            "-------\n",
            "Epoch:20\n",
            " Train Loss:0.01758546568453312\n",
            " Test Loss:0.04060482233762741\n",
            "model params:OrderedDict([('weights', tensor([0.6141])), ('bias', tensor([0.3358]))])\n",
            "-------\n",
            "Epoch:30\n",
            " Train Loss:0.014155393466353416\n",
            " Test Loss:0.03233227878808975\n",
            "model params:OrderedDict([('weights', tensor([0.6313])), ('bias', tensor([0.3288]))])\n",
            "-------\n",
            "Epoch:40\n",
            " Train Loss:0.010716589167714119\n",
            " Test Loss:0.024059748277068138\n",
            "model params:OrderedDict([('weights', tensor([0.6485])), ('bias', tensor([0.3218]))])\n",
            "-------\n",
            "Epoch:50\n",
            " Train Loss:0.0072835334576666355\n",
            " Test Loss:0.016474086791276932\n",
            "model params:OrderedDict([('weights', tensor([0.6654])), ('bias', tensor([0.3143]))])\n",
            "-------\n",
            "Epoch:60\n",
            " Train Loss:0.0038517764769494534\n",
            " Test Loss:0.008201557211577892\n",
            "model params:OrderedDict([('weights', tensor([0.6826])), ('bias', tensor([0.3073]))])\n",
            "-------\n",
            "Epoch:70\n",
            " Train Loss:0.008932482451200485\n",
            " Test Loss:0.005023092031478882\n",
            "model params:OrderedDict([('weights', tensor([0.6951])), ('bias', tensor([0.2993]))])\n",
            "-------\n",
            "Epoch:80\n",
            " Train Loss:0.008932482451200485\n",
            " Test Loss:0.005023092031478882\n",
            "model params:OrderedDict([('weights', tensor([0.6951])), ('bias', tensor([0.2993]))])\n",
            "-------\n",
            "Epoch:90\n",
            " Train Loss:0.008932482451200485\n",
            " Test Loss:0.005023092031478882\n",
            "model params:OrderedDict([('weights', tensor([0.6951])), ('bias', tensor([0.2993]))])\n",
            "-------\n"
          ]
        }
      ]
    },
    {
      "cell_type": "code",
      "source": [
        "from os import pread\n",
        "with torch.inference_mode(): ## Inference mode is gonna keep track of the gradient\n",
        "  y_preds_new = model_0(X_test)\n",
        "\n",
        "plot_predictions(predictions=y_preds_new)"
      ],
      "metadata": {
        "colab": {
          "base_uri": "https://localhost:8080/",
          "height": 599
        },
        "id": "J2JMAuSuHk_P",
        "outputId": "eeaf8d6c-9aa2-4418-8d09-cf53ed177cd6"
      },
      "execution_count": 70,
      "outputs": [
        {
          "output_type": "display_data",
          "data": {
            "text/plain": [
              "<Figure size 1000x700 with 1 Axes>"
            ],
            "image/png": "[encoded data removed]"
          },
          "metadata": {}
        }
      ]
    },
    {
      "cell_type": "markdown",
      "source": [
        "As we can see from the graph the training the model only 5 epochs are decreasing the loss and the red dots are getting closer to our green dots. So fun... :)"
      ],
      "metadata": {
        "id": "tRcdQiLpIDoI"
      }
    },
    {
      "cell_type": "code",
      "source": [],
      "metadata": {
        "id": "3u7c3ZK-IPaN"
      },
      "execution_count": 68,
      "outputs": []
    }
  ]
}