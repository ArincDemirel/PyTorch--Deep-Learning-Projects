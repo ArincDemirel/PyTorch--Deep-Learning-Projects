{
  "nbformat": 4,
  "nbformat_minor": 0,
  "metadata": {
    "colab": {
      "provenance": [],
      "gpuType": "T4",
      "authorship_tag": "ABX9TyMaafYamUX63UXVx3USZDcd",
      "include_colab_link": true
    },
    "kernelspec": {
      "name": "python3",
      "display_name": "Python 3"
    },
    "language_info": {
      "name": "python"
    },
    "accelerator": "GPU"
  },
  "cells": [
    {
      "cell_type": "markdown",
      "metadata": {
        "id": "view-in-github",
        "colab_type": "text"
      },
      "source": [
        "<a href=\"https://colab.research.google.com/github/ArincDemirel/PyTorch--Deep-Learning-Projects/blob/main/01_Pytorch_Workflow_Fundamentals.ipynb\" target=\"_parent\"><img src=\"https://colab.research.google.com/assets/colab-badge.svg\" alt=\"Open In Colab\"/></a>"
      ]
    },
    {
      "cell_type": "code",
      "execution_count": 2,
      "metadata": {
        "id": "vzFZWIwlK-6f"
      },
      "outputs": [],
      "source": []
    },
    {
      "cell_type": "markdown",
      "source": [
        "## 01.Pytorch Workflow Fundamentals\n",
        "\n",
        "Resource Notebook: https://www.learnpytorch.io/01_pytorch_workflow/"
      ],
      "metadata": {
        "id": "bz_vMx4TLKeB"
      }
    },
    {
      "cell_type": "code",
      "source": [
        "# PyTorch Workflow\n"
      ],
      "metadata": {
        "id": "cohIXgDyLWPf"
      },
      "execution_count": 3,
      "outputs": []
    },
    {
      "cell_type": "code",
      "source": [
        "import torch\n",
        "from torch import nn # nn contains all of PyTorch's building blocks for nueral networks\n",
        "import matplotlib.pyplot as plt"
      ],
      "metadata": {
        "id": "WC1pzF7Sqeid"
      },
      "execution_count": 4,
      "outputs": []
    },
    {
      "cell_type": "markdown",
      "source": [
        "## 1. Data(Preparing and Loading)\n"
      ],
      "metadata": {
        "id": "ZIwjif8wrdx-"
      }
    },
    {
      "cell_type": "code",
      "source": [
        "## Linear Regression\n",
        "# Create *known* parameters\n",
        "weight = 0.7\n",
        "bias = 0.3\n",
        "\n",
        "#Creat data\n",
        "start = 0\n",
        "end = 1\n",
        "step = 0.02\n",
        "X = torch.arange(start, end, step)\n",
        "print('x:',X),print(X.shape)\n",
        "y = weight * X + bias\n",
        "print('y:',y)"
      ],
      "metadata": {
        "colab": {
          "base_uri": "https://localhost:8080/"
        },
        "id": "-Cgn3e6LriOc",
        "outputId": "0aea93de-9bf5-4864-a964-9ee7a6811a2a"
      },
      "execution_count": 5,
      "outputs": [
        {
          "output_type": "stream",
          "name": "stdout",
          "text": [
            "x: tensor([0.0000, 0.0200, 0.0400, 0.0600, 0.0800, 0.1000, 0.1200, 0.1400, 0.1600,\n",
            "        0.1800, 0.2000, 0.2200, 0.2400, 0.2600, 0.2800, 0.3000, 0.3200, 0.3400,\n",
            "        0.3600, 0.3800, 0.4000, 0.4200, 0.4400, 0.4600, 0.4800, 0.5000, 0.5200,\n",
            "        0.5400, 0.5600, 0.5800, 0.6000, 0.6200, 0.6400, 0.6600, 0.6800, 0.7000,\n",
            "        0.7200, 0.7400, 0.7600, 0.7800, 0.8000, 0.8200, 0.8400, 0.8600, 0.8800,\n",
            "        0.9000, 0.9200, 0.9400, 0.9600, 0.9800])\n",
            "torch.Size([50])\n",
            "y: tensor([0.3000, 0.3140, 0.3280, 0.3420, 0.3560, 0.3700, 0.3840, 0.3980, 0.4120,\n",
            "        0.4260, 0.4400, 0.4540, 0.4680, 0.4820, 0.4960, 0.5100, 0.5240, 0.5380,\n",
            "        0.5520, 0.5660, 0.5800, 0.5940, 0.6080, 0.6220, 0.6360, 0.6500, 0.6640,\n",
            "        0.6780, 0.6920, 0.7060, 0.7200, 0.7340, 0.7480, 0.7620, 0.7760, 0.7900,\n",
            "        0.8040, 0.8180, 0.8320, 0.8460, 0.8600, 0.8740, 0.8880, 0.9020, 0.9160,\n",
            "        0.9300, 0.9440, 0.9580, 0.9720, 0.9860])\n"
          ]
        }
      ]
    },
    {
      "cell_type": "markdown",
      "source": [
        "## Spliting data into training and test\n"
      ],
      "metadata": {
        "id": "T1HFqeYktoTs"
      }
    },
    {
      "cell_type": "code",
      "source": [
        "train_split = int(0.8 * len(X))\n",
        "train_split"
      ],
      "metadata": {
        "colab": {
          "base_uri": "https://localhost:8080/"
        },
        "id": "9gkc5QJdtudp",
        "outputId": "e7dd3578-8529-437a-d4ce-38baa9a738b7"
      },
      "execution_count": 6,
      "outputs": [
        {
          "output_type": "execute_result",
          "data": {
            "text/plain": [
              "40"
            ]
          },
          "metadata": {},
          "execution_count": 6
        }
      ]
    },
    {
      "cell_type": "code",
      "source": [
        "X_train, y_train = X[:train_split], y[:train_split]\n",
        "X_train, y_train"
      ],
      "metadata": {
        "colab": {
          "base_uri": "https://localhost:8080/"
        },
        "id": "F-Z9TRM5ualA",
        "outputId": "861d9dcf-4e47-4da9-c3bf-1ffdbcc6f03f"
      },
      "execution_count": 7,
      "outputs": [
        {
          "output_type": "execute_result",
          "data": {
            "text/plain": [
              "(tensor([0.0000, 0.0200, 0.0400, 0.0600, 0.0800, 0.1000, 0.1200, 0.1400, 0.1600,\n",
              "         0.1800, 0.2000, 0.2200, 0.2400, 0.2600, 0.2800, 0.3000, 0.3200, 0.3400,\n",
              "         0.3600, 0.3800, 0.4000, 0.4200, 0.4400, 0.4600, 0.4800, 0.5000, 0.5200,\n",
              "         0.5400, 0.5600, 0.5800, 0.6000, 0.6200, 0.6400, 0.6600, 0.6800, 0.7000,\n",
              "         0.7200, 0.7400, 0.7600, 0.7800]),\n",
              " tensor([0.3000, 0.3140, 0.3280, 0.3420, 0.3560, 0.3700, 0.3840, 0.3980, 0.4120,\n",
              "         0.4260, 0.4400, 0.4540, 0.4680, 0.4820, 0.4960, 0.5100, 0.5240, 0.5380,\n",
              "         0.5520, 0.5660, 0.5800, 0.5940, 0.6080, 0.6220, 0.6360, 0.6500, 0.6640,\n",
              "         0.6780, 0.6920, 0.7060, 0.7200, 0.7340, 0.7480, 0.7620, 0.7760, 0.7900,\n",
              "         0.8040, 0.8180, 0.8320, 0.8460]))"
            ]
          },
          "metadata": {},
          "execution_count": 7
        }
      ]
    },
    {
      "cell_type": "code",
      "source": [
        "test_split = int(0.2 * len(X))\n",
        "test_split"
      ],
      "metadata": {
        "colab": {
          "base_uri": "https://localhost:8080/"
        },
        "id": "71V-ZXjduPz9",
        "outputId": "21e02760-cd3f-47d6-9fc9-ff053c75532c"
      },
      "execution_count": 8,
      "outputs": [
        {
          "output_type": "execute_result",
          "data": {
            "text/plain": [
              "10"
            ]
          },
          "metadata": {},
          "execution_count": 8
        }
      ]
    },
    {
      "cell_type": "code",
      "source": [
        "X_test, y_test = X[-test_split:], y[train_split:] ## or X[-test_split:], y[-test_split:]\n",
        "X_test, y_test"
      ],
      "metadata": {
        "colab": {
          "base_uri": "https://localhost:8080/"
        },
        "id": "Ng4-HpGcuV_z",
        "outputId": "4b4b3946-fda8-44b5-ac27-e6a93cd48237"
      },
      "execution_count": 9,
      "outputs": [
        {
          "output_type": "execute_result",
          "data": {
            "text/plain": [
              "(tensor([0.8000, 0.8200, 0.8400, 0.8600, 0.8800, 0.9000, 0.9200, 0.9400, 0.9600,\n",
              "         0.9800]),\n",
              " tensor([0.8600, 0.8740, 0.8880, 0.9020, 0.9160, 0.9300, 0.9440, 0.9580, 0.9720,\n",
              "         0.9860]))"
            ]
          },
          "metadata": {},
          "execution_count": 9
        }
      ]
    },
    {
      "cell_type": "code",
      "source": [
        "len(X_train), len(y_train), len(X_test), len(y_test)"
      ],
      "metadata": {
        "colab": {
          "base_uri": "https://localhost:8080/"
        },
        "id": "JkmhDVSKxL68",
        "outputId": "6d3d248d-5836-4d6e-abfe-fa7647046c51"
      },
      "execution_count": 10,
      "outputs": [
        {
          "output_type": "execute_result",
          "data": {
            "text/plain": [
              "(40, 40, 10, 10)"
            ]
          },
          "metadata": {},
          "execution_count": 10
        }
      ]
    },
    {
      "cell_type": "code",
      "source": [
        "def plot_predictions(train_data = X_train,\n",
        "                     train_labels = y_train,\n",
        "                     test_data = X_test,\n",
        "                     test_labels = y_test,\n",
        "                     predictions = None):\n",
        "\n",
        "\n",
        "    plt.figure(figsize = (10,7))\n",
        "    plt.scatter(train_data, train_labels, c='b', s=4, label = 'Training data')\n",
        "    plt.scatter(test_data, test_labels, c='g', s=4, label = 'Testing data')\n",
        "    if predictions is not None:\n",
        "      plt.scatter(test_data, predictions, c='r')\n",
        "    plt.legend(prop={\"size\":14});"
      ],
      "metadata": {
        "id": "OHlmssKwupdC"
      },
      "execution_count": 11,
      "outputs": []
    },
    {
      "cell_type": "code",
      "source": [
        "plot_predictions()"
      ],
      "metadata": {
        "colab": {
          "base_uri": "https://localhost:8080/",
          "height": 599
        },
        "id": "hwpFKQSxvTTl",
        "outputId": "9832ab04-0cac-44f5-852f-6951e6d2b1e9"
      },
      "execution_count": 12,
      "outputs": [
        {
          "output_type": "display_data",
          "data": {
            "text/plain": [
              "<Figure size 1000x700 with 1 Axes>"
            ],
            "image/png": "[encoded data removed]"
          },
          "metadata": {}
        }
      ]
    },
    {
      "cell_type": "code",
      "source": [
        "# Build this linear regression model class\n",
        "class LinearRegressionModel(nn.Module):\n",
        "  def __init__(self):\n",
        "    super().__init__()\n",
        "    self.weights = nn.Parameter(torch.randn(1, requires_grad = True, dtype= torch.float))\n",
        "    self.bias = nn.Parameter(torch.randn(1, requires_grad = True, dtype= torch.float))\n",
        "\n",
        "  def forward(self, x: torch.Tensor) -> torch.Tensor: # <- \"×\" is the input data\n",
        "    return self.weights * x + self.bias # this is the linear regression formula"
      ],
      "metadata": {
        "id": "nAstv0yPvvdJ"
      },
      "execution_count": 13,
      "outputs": []
    },
    {
      "cell_type": "code",
      "source": [
        "torch.manual_seed(42)\n",
        "model_0 = LinearRegressionModel()\n",
        "\n",
        "list(model_0.parameters())"
      ],
      "metadata": {
        "colab": {
          "base_uri": "https://localhost:8080/"
        },
        "id": "qDJgWq3Mygt2",
        "outputId": "8b1cc93a-48d5-4b09-a37e-1b90d716086a"
      },
      "execution_count": 14,
      "outputs": [
        {
          "output_type": "execute_result",
          "data": {
            "text/plain": [
              "[Parameter containing:\n",
              " tensor([0.3367], requires_grad=True),\n",
              " Parameter containing:\n",
              " tensor([0.1288], requires_grad=True)]"
            ]
          },
          "metadata": {},
          "execution_count": 14
        }
      ]
    },
    {
      "cell_type": "code",
      "source": [
        "model_0.state_dict(), weight, bias"
      ],
      "metadata": {
        "colab": {
          "base_uri": "https://localhost:8080/"
        },
        "id": "UtoiWZdG0g-k",
        "outputId": "58e00cdb-4f15-43e9-e31e-433dc1a5f954"
      },
      "execution_count": 15,
      "outputs": [
        {
          "output_type": "execute_result",
          "data": {
            "text/plain": [
              "(OrderedDict([('weights', tensor([0.3367])), ('bias', tensor([0.1288]))]),\n",
              " 0.7,\n",
              " 0.3)"
            ]
          },
          "metadata": {},
          "execution_count": 15
        }
      ]
    },
    {
      "cell_type": "code",
      "source": [
        "# Now I am gonna try train the random values that torch calculated for us to fit into the weight and bias I have assigned at the beginning"
      ],
      "metadata": {
        "id": "hAKyoeza5Nkr"
      },
      "execution_count": 16,
      "outputs": []
    },
    {
      "cell_type": "code",
      "source": [
        "with torch.inference_mode(): ## Inference mode is gonna keep track of the gradient\n",
        "  y_preds = model_0(X_test)\n",
        "\n",
        "y_preds"
      ],
      "metadata": {
        "colab": {
          "base_uri": "https://localhost:8080/"
        },
        "id": "1YXPp-Hj5npW",
        "outputId": "8e0d61ad-d34d-4db7-fd14-b7522ab723e4"
      },
      "execution_count": 17,
      "outputs": [
        {
          "output_type": "execute_result",
          "data": {
            "text/plain": [
              "tensor([0.3982, 0.4049, 0.4116, 0.4184, 0.4251, 0.4318, 0.4386, 0.4453, 0.4520,\n",
              "        0.4588])"
            ]
          },
          "metadata": {},
          "execution_count": 17
        }
      ]
    },
    {
      "cell_type": "code",
      "source": [
        "y_test"
      ],
      "metadata": {
        "colab": {
          "base_uri": "https://localhost:8080/"
        },
        "id": "AN2QFJtJ6Uin",
        "outputId": "559b6e4d-9bf4-4f1f-cc43-7541f65fd3e1"
      },
      "execution_count": 18,
      "outputs": [
        {
          "output_type": "execute_result",
          "data": {
            "text/plain": [
              "tensor([0.8600, 0.8740, 0.8880, 0.9020, 0.9160, 0.9300, 0.9440, 0.9580, 0.9720,\n",
              "        0.9860])"
            ]
          },
          "metadata": {},
          "execution_count": 18
        }
      ]
    },
    {
      "cell_type": "code",
      "source": [
        "print(f\"Number of testing samples: {len(X_test)}\")\n",
        "print(f\"Number of predictions made: {len(y_preds)}\")\n",
        "print(f\"Predicted values:\\n{y_preds}\")"
      ],
      "metadata": {
        "colab": {
          "base_uri": "https://localhost:8080/"
        },
        "id": "vZx1yxc960Ll",
        "outputId": "62f09519-e218-41f7-a734-893968e71900"
      },
      "execution_count": 19,
      "outputs": [
        {
          "output_type": "stream",
          "name": "stdout",
          "text": [
            "Number of testing samples: 10\n",
            "Number of predictions made: 10\n",
            "Predicted values:\n",
            "tensor([0.3982, 0.4049, 0.4116, 0.4184, 0.4251, 0.4318, 0.4386, 0.4453, 0.4520,\n",
            "        0.4588])\n"
          ]
        }
      ]
    },
    {
      "cell_type": "code",
      "source": [
        "plot_predictions(predictions=y_preds)"
      ],
      "metadata": {
        "colab": {
          "base_uri": "https://localhost:8080/",
          "height": 599
        },
        "id": "cjGH5vFb65V2",
        "outputId": "5e77e5e7-805b-4ec7-f360-8222bd0bd7a1"
      },
      "execution_count": 20,
      "outputs": [
        {
          "output_type": "display_data",
          "data": {
            "text/plain": [
              "<Figure size 1000x700 with 1 Axes>"
            ],
            "image/png": "[encoded data removed]"
          },
          "metadata": {}
        }
      ]
    },
    {
      "cell_type": "code",
      "source": [
        "y_test - y_preds"
      ],
      "metadata": {
        "colab": {
          "base_uri": "https://localhost:8080/"
        },
        "id": "jvx1lRbn7BOC",
        "outputId": "37c8ee07-af6d-4be8-8bdb-5bb754f153e2"
      },
      "execution_count": 21,
      "outputs": [
        {
          "output_type": "execute_result",
          "data": {
            "text/plain": [
              "tensor([0.4618, 0.4691, 0.4764, 0.4836, 0.4909, 0.4982, 0.5054, 0.5127, 0.5200,\n",
              "        0.5272])"
            ]
          },
          "metadata": {},
          "execution_count": 21
        }
      ]
    },
    {
      "cell_type": "markdown",
      "source": [
        "# The difference is so high, and the results are so bad, will train the model more ..."
      ],
      "metadata": {
        "id": "dl6P0S1O8sFL"
      }
    },
    {
      "cell_type": "code",
      "source": [
        "# Let's calculate MAE_loss\n",
        "\n",
        "MAE_loss = torch.mean(torch.abs(y_preds - y_test))\n",
        "MAE_loss"
      ],
      "metadata": {
        "colab": {
          "base_uri": "https://localhost:8080/"
        },
        "id": "HNSUmjL88uyE",
        "outputId": "a11f7637-0fad-4ca9-f630-bbab4be48341"
      },
      "execution_count": 22,
      "outputs": [
        {
          "output_type": "execute_result",
          "data": {
            "text/plain": [
              "tensor(0.4945)"
            ]
          },
          "metadata": {},
          "execution_count": 22
        }
      ]
    },
    {
      "cell_type": "code",
      "source": [
        "# or\n",
        "loss_fn = torch.nn.L1Loss()\n",
        "loss_fn(y_test, y_preds )\n"
      ],
      "metadata": {
        "colab": {
          "base_uri": "https://localhost:8080/"
        },
        "id": "aRZrNhBQ9wDy",
        "outputId": "56eee6fe-1b79-46e5-9fd8-fba3b7579108"
      },
      "execution_count": 23,
      "outputs": [
        {
          "output_type": "execute_result",
          "data": {
            "text/plain": [
              "tensor(0.4945)"
            ]
          },
          "metadata": {},
          "execution_count": 23
        }
      ]
    },
    {
      "cell_type": "code",
      "source": [
        "#Set up optimizer\n",
        "optimizer = torch.optim.SGD(params = model_0.parameters(), lr = 0.01) # lr learnining rate"
      ],
      "metadata": {
        "id": "B6-EIwjD95Wu"
      },
      "execution_count": 24,
      "outputs": []
    },
    {
      "cell_type": "markdown",
      "source": [
        "### Building a training loop (and a testing loop) in PyTorch\n",
        "A couple of things we need in a training loop:\n",
        "0. Loop through the data 1\n",
        "1. Forward pass (this involves data moving through our model's forward()\n",
        "functions) to make predictions on data - also called forward propagation\n",
        "2. Calculate the loss (compare forward pass predictions to ground truth labels)\n",
        "3. Optimizer zero grad\n",
        "4. Loss backward - move backwards through the network to calculate the gradients of rach parmeters of our model with respect to the loss\n",
        "5. Optimizer step - use optimezer to adjust our model's parameters to try and improve the loss"
      ],
      "metadata": {
        "id": "8TLWlSXtCXZE"
      }
    },
    {
      "cell_type": "code",
      "source": [
        "epochs = 100\n",
        "\n",
        "## loop through in data\n",
        "for epoch in range(epochs):\n",
        "  model_0.train() ## set the model to training mode\n",
        "\n",
        "  y_preds_train = model_0(X_train) ## forwards pass\n",
        "\n",
        "  train_loss = loss_fn(y_train, y_preds_train) ## Calculate loss\n",
        "\n",
        "\n",
        "  optimizer.zero_grad() ## Optimizer zero grad\n",
        "\n",
        "  train_loss.backward() ## perform backpropagation it is tensor backward you ccan only use it with tensors\n",
        "\n",
        "  optimizer.step() # Step the optimizer(perform gradient descent)\n",
        "\n",
        "  model_0.eval() # turns off gradient tracking(testing step)\n",
        "\n",
        "  with torch.inference_mode():\n",
        "    y_preds_new = model_0(X_test)\n",
        "    test_loss = loss_fn(y_test, y_preds_new)\n",
        "\n",
        "    if epoch %10 == 0:\n",
        "      print(f\"Epoch:{epoch}\")\n",
        "      print(f\" Train Loss:{train_loss}\")\n",
        "      print(f\" Test Loss:{test_loss}\")\n",
        "      print(f\"model params:{model_0.state_dict()}\")\n",
        "      print(f\"-------\")"
      ],
      "metadata": {
        "colab": {
          "base_uri": "https://localhost:8080/"
        },
        "id": "FxPCNgpMCZL3",
        "outputId": "589176de-2fbf-4b14-b073-0a9cea8f32c3"
      },
      "execution_count": 25,
      "outputs": [
        {
          "output_type": "stream",
          "name": "stdout",
          "text": [
            "Epoch:0\n",
            " Train Loss:0.31288138031959534\n",
            " Test Loss:0.48106518387794495\n",
            "model params:OrderedDict([('weights', tensor([0.3406])), ('bias', tensor([0.1388]))])\n",
            "-------\n",
            "Epoch:10\n",
            " Train Loss:0.1976713240146637\n",
            " Test Loss:0.3463551998138428\n",
            "model params:OrderedDict([('weights', tensor([0.3796])), ('bias', tensor([0.2388]))])\n",
            "-------\n",
            "Epoch:20\n",
            " Train Loss:0.08908725529909134\n",
            " Test Loss:0.21729660034179688\n",
            "model params:OrderedDict([('weights', tensor([0.4184])), ('bias', tensor([0.3333]))])\n",
            "-------\n",
            "Epoch:30\n",
            " Train Loss:0.053148526698350906\n",
            " Test Loss:0.14464017748832703\n",
            "model params:OrderedDict([('weights', tensor([0.4512])), ('bias', tensor([0.3768]))])\n",
            "-------\n",
            "Epoch:40\n",
            " Train Loss:0.04543796554207802\n",
            " Test Loss:0.11360953003168106\n",
            "model params:OrderedDict([('weights', tensor([0.4748])), ('bias', tensor([0.3868]))])\n",
            "-------\n",
            "Epoch:50\n",
            " Train Loss:0.04167863354086876\n",
            " Test Loss:0.09919948130846024\n",
            "model params:OrderedDict([('weights', tensor([0.4938])), ('bias', tensor([0.3843]))])\n",
            "-------\n",
            "Epoch:60\n",
            " Train Loss:0.03818932920694351\n",
            " Test Loss:0.08886633068323135\n",
            "model params:OrderedDict([('weights', tensor([0.5116])), ('bias', tensor([0.3788]))])\n",
            "-------\n",
            "Epoch:70\n",
            " Train Loss:0.03476089984178543\n",
            " Test Loss:0.0805937647819519\n",
            "model params:OrderedDict([('weights', tensor([0.5288])), ('bias', tensor([0.3718]))])\n",
            "-------\n",
            "Epoch:80\n",
            " Train Loss:0.03132382780313492\n",
            " Test Loss:0.07232122868299484\n",
            "model params:OrderedDict([('weights', tensor([0.5459])), ('bias', tensor([0.3648]))])\n",
            "-------\n",
            "Epoch:90\n",
            " Train Loss:0.02788739837706089\n",
            " Test Loss:0.06473556160926819\n",
            "model params:OrderedDict([('weights', tensor([0.5629])), ('bias', tensor([0.3573]))])\n",
            "-------\n"
          ]
        }
      ]
    },
    {
      "cell_type": "code",
      "source": [
        "from os import pread\n",
        "with torch.inference_mode(): ## Inference mode is gonna keep track of the gradient\n",
        "  y_preds_new = model_0(X_test)\n",
        "\n",
        "plot_predictions(predictions=y_preds_new)"
      ],
      "metadata": {
        "colab": {
          "base_uri": "https://localhost:8080/",
          "height": 599
        },
        "id": "J2JMAuSuHk_P",
        "outputId": "afa188d4-83d0-4d9f-ba60-c0d44c45115d"
      },
      "execution_count": 26,
      "outputs": [
        {
          "output_type": "display_data",
          "data": {
            "text/plain": [
              "<Figure size 1000x700 with 1 Axes>"
            ],
            "image/png": "[encoded data removed]"
          },
          "metadata": {}
        }
      ]
    },
    {
      "cell_type": "markdown",
      "source": [
        "As we can see from the graph the training the model only 5 epochs are decreasing the loss and the red dots are getting closer to our green dots. So fun... :)"
      ],
      "metadata": {
        "id": "tRcdQiLpIDoI"
      }
    },
    {
      "cell_type": "code",
      "source": [
        "## Let's save this model\n",
        "\n",
        "# torch.save -> allows you to save a PyTorch object in python's pickle format(serialize and desrialize)\n",
        "# torch.load -> allows you to load a saved Pytorch object\n",
        "# torch.nn.Module.load_state_dict() -> this allows to load a model's saved state dictionary\n",
        "\n"
      ],
      "metadata": {
        "id": "3u7c3ZK-IPaN"
      },
      "execution_count": 27,
      "outputs": []
    },
    {
      "cell_type": "code",
      "source": [
        "model_0.state_dict()"
      ],
      "metadata": {
        "colab": {
          "base_uri": "https://localhost:8080/"
        },
        "id": "DqCLA3pC-VN_",
        "outputId": "eedfce64-f799-4f9a-aca0-a336d7ebabd1"
      },
      "execution_count": 28,
      "outputs": [
        {
          "output_type": "execute_result",
          "data": {
            "text/plain": [
              "OrderedDict([('weights', tensor([0.5784])), ('bias', tensor([0.3513]))])"
            ]
          },
          "metadata": {},
          "execution_count": 28
        }
      ]
    },
    {
      "cell_type": "code",
      "source": [
        "from pathlib import Path\n",
        "\n",
        "\n",
        "model_path = Path(\"models\")\n",
        "model_path.mkdir(parents = True, exist_ok=True)\n",
        "\n",
        "model_name = \"01_Pytorch_Workflow_Fundamentals.pth\"\n",
        "model_save_path = model_path / model_name\n",
        "model_save_path\n",
        "\n",
        "torch.save(model_0.state_dict(),\n",
        "           model_save_path)"
      ],
      "metadata": {
        "id": "UDu3GiUY-Wp_"
      },
      "execution_count": 40,
      "outputs": []
    },
    {
      "cell_type": "code",
      "source": [
        "ls -l models"
      ],
      "metadata": {
        "colab": {
          "base_uri": "https://localhost:8080/"
        },
        "id": "2ZecZ1Iy_b-Y",
        "outputId": "46a6ad8a-876e-4ade-da02-0ce900e32726"
      },
      "execution_count": 41,
      "outputs": [
        {
          "output_type": "stream",
          "name": "stdout",
          "text": [
            "total 4\n",
            "-rw-r--r-- 1 root root 1710 Oct 26 22:01 01_Pytorch_Workflow_Fundamentals.pth\n"
          ]
        }
      ]
    },
    {
      "cell_type": "code",
      "source": [
        "loaded_model_0 = LinearRegressionModel()\n",
        "loaded_model_0.load_state_dict(torch.load(f = model_save_path))"
      ],
      "metadata": {
        "colab": {
          "base_uri": "https://localhost:8080/"
        },
        "id": "_gNGBWlu_h2E",
        "outputId": "0fe59682-0235-4630-cb1f-c61d0065d137"
      },
      "execution_count": 42,
      "outputs": [
        {
          "output_type": "execute_result",
          "data": {
            "text/plain": [
              "<All keys matched successfully>"
            ]
          },
          "metadata": {},
          "execution_count": 42
        }
      ]
    },
    {
      "cell_type": "code",
      "source": [
        "loaded_model_0.eval()\n",
        "with torch.inference_mode():\n",
        "  loaded_model_preds = loaded_model_0(X_test)\n",
        "\n",
        "loaded_model_preds,loss_fn(y_test, loaded_model_preds)"
      ],
      "metadata": {
        "colab": {
          "base_uri": "https://localhost:8080/"
        },
        "id": "PO3iRB_TATch",
        "outputId": "ff8addc4-d483-4e1d-c9cd-752957c67713"
      },
      "execution_count": 48,
      "outputs": [
        {
          "output_type": "execute_result",
          "data": {
            "text/plain": [
              "(tensor([0.8141, 0.8256, 0.8372, 0.8488, 0.8603, 0.8719, 0.8835, 0.8950, 0.9066,\n",
              "         0.9182]),\n",
              " tensor(0.0569))"
            ]
          },
          "metadata": {},
          "execution_count": 48
        }
      ]
    }
  ]
}