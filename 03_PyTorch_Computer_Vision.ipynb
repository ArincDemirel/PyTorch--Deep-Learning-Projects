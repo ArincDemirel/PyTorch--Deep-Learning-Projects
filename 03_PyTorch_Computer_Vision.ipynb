{
  "nbformat": 4,
  "nbformat_minor": 0,
  "metadata": {
    "colab": {
      "provenance": [],
      "gpuType": "T4",
      "mount_file_id": "1ubbgQC4k5_4HxYGDzA_vR0O4OsCcw_uf",
      "authorship_tag": "ABX9TyPVZgGdQyh25UBC1Z4D8AwC",
      "include_colab_link": true
    },
    "kernelspec": {
      "name": "python3",
      "display_name": "Python 3"
    },
    "language_info": {
      "name": "python"
    },
    "accelerator": "GPU",
    "widgets": {
      "application/vnd.jupyter.widget-state+json": {
        "54d35ee819a847a59b5fecbdcff69069": {
          "model_module": "@jupyter-widgets/controls",
          "model_name": "HBoxModel",
          "model_module_version": "1.5.0",
          "state": {
            "_dom_classes": [],
            "_model_module": "@jupyter-widgets/controls",
            "_model_module_version": "1.5.0",
            "_model_name": "HBoxModel",
            "_view_count": null,
            "_view_module": "@jupyter-widgets/controls",
            "_view_module_version": "1.5.0",
            "_view_name": "HBoxView",
            "box_style": "",
            "children": [
              "IPY_MODEL_1214ae08d6a9478fb2f65bfdb934db9d",
              "IPY_MODEL_7d0afcb0b60b41ac98e9679497a0d9c4",
              "IPY_MODEL_b5d226a5ae2543a5a8a9d7edcf3c42b2"
            ],
            "layout": "IPY_MODEL_bc825a022a844d67aad2fc1610c7c6a7"
          }
        },
        "1214ae08d6a9478fb2f65bfdb934db9d": {
          "model_module": "@jupyter-widgets/controls",
          "model_name": "HTMLModel",
          "model_module_version": "1.5.0",
          "state": {
            "_dom_classes": [],
            "_model_module": "@jupyter-widgets/controls",
            "_model_module_version": "1.5.0",
            "_model_name": "HTMLModel",
            "_view_count": null,
            "_view_module": "@jupyter-widgets/controls",
            "_view_module_version": "1.5.0",
            "_view_name": "HTMLView",
            "description": "",
            "description_tooltip": null,
            "layout": "IPY_MODEL_e8231fb9d5524f5b9f0adf8143b8cf00",
            "placeholder": "​",
            "style": "IPY_MODEL_b7afca951f9b4da08983a5eddf33a119",
            "value": "100%"
          }
        },
        "7d0afcb0b60b41ac98e9679497a0d9c4": {
          "model_module": "@jupyter-widgets/controls",
          "model_name": "FloatProgressModel",
          "model_module_version": "1.5.0",
          "state": {
            "_dom_classes": [],
            "_model_module": "@jupyter-widgets/controls",
            "_model_module_version": "1.5.0",
            "_model_name": "FloatProgressModel",
            "_view_count": null,
            "_view_module": "@jupyter-widgets/controls",
            "_view_module_version": "1.5.0",
            "_view_name": "ProgressView",
            "bar_style": "success",
            "description": "",
            "description_tooltip": null,
            "layout": "IPY_MODEL_b45e01367afb434f88195f9e30e742c3",
            "max": 5,
            "min": 0,
            "orientation": "horizontal",
            "style": "IPY_MODEL_7f59369cca4b4da193957fbc8ac1b85a",
            "value": 5
          }
        },
        "b5d226a5ae2543a5a8a9d7edcf3c42b2": {
          "model_module": "@jupyter-widgets/controls",
          "model_name": "HTMLModel",
          "model_module_version": "1.5.0",
          "state": {
            "_dom_classes": [],
            "_model_module": "@jupyter-widgets/controls",
            "_model_module_version": "1.5.0",
            "_model_name": "HTMLModel",
            "_view_count": null,
            "_view_module": "@jupyter-widgets/controls",
            "_view_module_version": "1.5.0",
            "_view_name": "HTMLView",
            "description": "",
            "description_tooltip": null,
            "layout": "IPY_MODEL_b0869c02c82544fa9e722065564168d0",
            "placeholder": "​",
            "style": "IPY_MODEL_dc344404e08d473ebe6fab4417762e17",
            "value": " 5/5 [00:53&lt;00:00,  9.98s/it]"
          }
        },
        "bc825a022a844d67aad2fc1610c7c6a7": {
          "model_module": "@jupyter-widgets/base",
          "model_name": "LayoutModel",
          "model_module_version": "1.2.0",
          "state": {
            "_model_module": "@jupyter-widgets/base",
            "_model_module_version": "1.2.0",
            "_model_name": "LayoutModel",
            "_view_count": null,
            "_view_module": "@jupyter-widgets/base",
            "_view_module_version": "1.2.0",
            "_view_name": "LayoutView",
            "align_content": null,
            "align_items": null,
            "align_self": null,
            "border": null,
            "bottom": null,
            "display": null,
            "flex": null,
            "flex_flow": null,
            "grid_area": null,
            "grid_auto_columns": null,
            "grid_auto_flow": null,
            "grid_auto_rows": null,
            "grid_column": null,
            "grid_gap": null,
            "grid_row": null,
            "grid_template_areas": null,
            "grid_template_columns": null,
            "grid_template_rows": null,
            "height": null,
            "justify_content": null,
            "justify_items": null,
            "left": null,
            "margin": null,
            "max_height": null,
            "max_width": null,
            "min_height": null,
            "min_width": null,
            "object_fit": null,
            "object_position": null,
            "order": null,
            "overflow": null,
            "overflow_x": null,
            "overflow_y": null,
            "padding": null,
            "right": null,
            "top": null,
            "visibility": null,
            "width": null
          }
        },
        "e8231fb9d5524f5b9f0adf8143b8cf00": {
          "model_module": "@jupyter-widgets/base",
          "model_name": "LayoutModel",
          "model_module_version": "1.2.0",
          "state": {
            "_model_module": "@jupyter-widgets/base",
            "_model_module_version": "1.2.0",
            "_model_name": "LayoutModel",
            "_view_count": null,
            "_view_module": "@jupyter-widgets/base",
            "_view_module_version": "1.2.0",
            "_view_name": "LayoutView",
            "align_content": null,
            "align_items": null,
            "align_self": null,
            "border": null,
            "bottom": null,
            "display": null,
            "flex": null,
            "flex_flow": null,
            "grid_area": null,
            "grid_auto_columns": null,
            "grid_auto_flow": null,
            "grid_auto_rows": null,
            "grid_column": null,
            "grid_gap": null,
            "grid_row": null,
            "grid_template_areas": null,
            "grid_template_columns": null,
            "grid_template_rows": null,
            "height": null,
            "justify_content": null,
            "justify_items": null,
            "left": null,
            "margin": null,
            "max_height": null,
            "max_width": null,
            "min_height": null,
            "min_width": null,
            "object_fit": null,
            "object_position": null,
            "order": null,
            "overflow": null,
            "overflow_x": null,
            "overflow_y": null,
            "padding": null,
            "right": null,
            "top": null,
            "visibility": null,
            "width": null
          }
        },
        "b7afca951f9b4da08983a5eddf33a119": {
          "model_module": "@jupyter-widgets/controls",
          "model_name": "DescriptionStyleModel",
          "model_module_version": "1.5.0",
          "state": {
            "_model_module": "@jupyter-widgets/controls",
            "_model_module_version": "1.5.0",
            "_model_name": "DescriptionStyleModel",
            "_view_count": null,
            "_view_module": "@jupyter-widgets/base",
            "_view_module_version": "1.2.0",
            "_view_name": "StyleView",
            "description_width": ""
          }
        },
        "b45e01367afb434f88195f9e30e742c3": {
          "model_module": "@jupyter-widgets/base",
          "model_name": "LayoutModel",
          "model_module_version": "1.2.0",
          "state": {
            "_model_module": "@jupyter-widgets/base",
            "_model_module_version": "1.2.0",
            "_model_name": "LayoutModel",
            "_view_count": null,
            "_view_module": "@jupyter-widgets/base",
            "_view_module_version": "1.2.0",
            "_view_name": "LayoutView",
            "align_content": null,
            "align_items": null,
            "align_self": null,
            "border": null,
            "bottom": null,
            "display": null,
            "flex": null,
            "flex_flow": null,
            "grid_area": null,
            "grid_auto_columns": null,
            "grid_auto_flow": null,
            "grid_auto_rows": null,
            "grid_column": null,
            "grid_gap": null,
            "grid_row": null,
            "grid_template_areas": null,
            "grid_template_columns": null,
            "grid_template_rows": null,
            "height": null,
            "justify_content": null,
            "justify_items": null,
            "left": null,
            "margin": null,
            "max_height": null,
            "max_width": null,
            "min_height": null,
            "min_width": null,
            "object_fit": null,
            "object_position": null,
            "order": null,
            "overflow": null,
            "overflow_x": null,
            "overflow_y": null,
            "padding": null,
            "right": null,
            "top": null,
            "visibility": null,
            "width": null
          }
        },
        "7f59369cca4b4da193957fbc8ac1b85a": {
          "model_module": "@jupyter-widgets/controls",
          "model_name": "ProgressStyleModel",
          "model_module_version": "1.5.0",
          "state": {
            "_model_module": "@jupyter-widgets/controls",
            "_model_module_version": "1.5.0",
            "_model_name": "ProgressStyleModel",
            "_view_count": null,
            "_view_module": "@jupyter-widgets/base",
            "_view_module_version": "1.2.0",
            "_view_name": "StyleView",
            "bar_color": null,
            "description_width": ""
          }
        },
        "b0869c02c82544fa9e722065564168d0": {
          "model_module": "@jupyter-widgets/base",
          "model_name": "LayoutModel",
          "model_module_version": "1.2.0",
          "state": {
            "_model_module": "@jupyter-widgets/base",
            "_model_module_version": "1.2.0",
            "_model_name": "LayoutModel",
            "_view_count": null,
            "_view_module": "@jupyter-widgets/base",
            "_view_module_version": "1.2.0",
            "_view_name": "LayoutView",
            "align_content": null,
            "align_items": null,
            "align_self": null,
            "border": null,
            "bottom": null,
            "display": null,
            "flex": null,
            "flex_flow": null,
            "grid_area": null,
            "grid_auto_columns": null,
            "grid_auto_flow": null,
            "grid_auto_rows": null,
            "grid_column": null,
            "grid_gap": null,
            "grid_row": null,
            "grid_template_areas": null,
            "grid_template_columns": null,
            "grid_template_rows": null,
            "height": null,
            "justify_content": null,
            "justify_items": null,
            "left": null,
            "margin": null,
            "max_height": null,
            "max_width": null,
            "min_height": null,
            "min_width": null,
            "object_fit": null,
            "object_position": null,
            "order": null,
            "overflow": null,
            "overflow_x": null,
            "overflow_y": null,
            "padding": null,
            "right": null,
            "top": null,
            "visibility": null,
            "width": null
          }
        },
        "dc344404e08d473ebe6fab4417762e17": {
          "model_module": "@jupyter-widgets/controls",
          "model_name": "DescriptionStyleModel",
          "model_module_version": "1.5.0",
          "state": {
            "_model_module": "@jupyter-widgets/controls",
            "_model_module_version": "1.5.0",
            "_model_name": "DescriptionStyleModel",
            "_view_count": null,
            "_view_module": "@jupyter-widgets/base",
            "_view_module_version": "1.2.0",
            "_view_name": "StyleView",
            "description_width": ""
          }
        },
        "b94f42792e3441df9ae779ded6e0d3af": {
          "model_module": "@jupyter-widgets/controls",
          "model_name": "HBoxModel",
          "model_module_version": "1.5.0",
          "state": {
            "_dom_classes": [],
            "_model_module": "@jupyter-widgets/controls",
            "_model_module_version": "1.5.0",
            "_model_name": "HBoxModel",
            "_view_count": null,
            "_view_module": "@jupyter-widgets/controls",
            "_view_module_version": "1.5.0",
            "_view_name": "HBoxView",
            "box_style": "",
            "children": [
              "IPY_MODEL_03e75618f5b0484295980f71fba4e2ce",
              "IPY_MODEL_b2b3bbe87f564ac696e199253a51719b",
              "IPY_MODEL_7b151176057b445bbad62011839f67a3"
            ],
            "layout": "IPY_MODEL_3a921d66425e4d1b8ca0cdeab0220ac8"
          }
        },
        "03e75618f5b0484295980f71fba4e2ce": {
          "model_module": "@jupyter-widgets/controls",
          "model_name": "HTMLModel",
          "model_module_version": "1.5.0",
          "state": {
            "_dom_classes": [],
            "_model_module": "@jupyter-widgets/controls",
            "_model_module_version": "1.5.0",
            "_model_name": "HTMLModel",
            "_view_count": null,
            "_view_module": "@jupyter-widgets/controls",
            "_view_module_version": "1.5.0",
            "_view_name": "HTMLView",
            "description": "",
            "description_tooltip": null,
            "layout": "IPY_MODEL_c078c90d38674ebb94d68e73ae905a1c",
            "placeholder": "​",
            "style": "IPY_MODEL_ab35664c26ad46e6834edc7fb8f7c97d",
            "value": "100%"
          }
        },
        "b2b3bbe87f564ac696e199253a51719b": {
          "model_module": "@jupyter-widgets/controls",
          "model_name": "FloatProgressModel",
          "model_module_version": "1.5.0",
          "state": {
            "_dom_classes": [],
            "_model_module": "@jupyter-widgets/controls",
            "_model_module_version": "1.5.0",
            "_model_name": "FloatProgressModel",
            "_view_count": null,
            "_view_module": "@jupyter-widgets/controls",
            "_view_module_version": "1.5.0",
            "_view_name": "ProgressView",
            "bar_style": "success",
            "description": "",
            "description_tooltip": null,
            "layout": "IPY_MODEL_1db1bbc5387c450ea3620343f2184272",
            "max": 5,
            "min": 0,
            "orientation": "horizontal",
            "style": "IPY_MODEL_7d7f866eaab94c60ae22d32e258a73ee",
            "value": 5
          }
        },
        "7b151176057b445bbad62011839f67a3": {
          "model_module": "@jupyter-widgets/controls",
          "model_name": "HTMLModel",
          "model_module_version": "1.5.0",
          "state": {
            "_dom_classes": [],
            "_model_module": "@jupyter-widgets/controls",
            "_model_module_version": "1.5.0",
            "_model_name": "HTMLModel",
            "_view_count": null,
            "_view_module": "@jupyter-widgets/controls",
            "_view_module_version": "1.5.0",
            "_view_name": "HTMLView",
            "description": "",
            "description_tooltip": null,
            "layout": "IPY_MODEL_2ab975a0b9604224b1e5564add44cb28",
            "placeholder": "​",
            "style": "IPY_MODEL_830b9b5858a24e7ebcc0bfa0f7b22a9e",
            "value": " 5/5 [00:52&lt;00:00, 10.40s/it]"
          }
        },
        "3a921d66425e4d1b8ca0cdeab0220ac8": {
          "model_module": "@jupyter-widgets/base",
          "model_name": "LayoutModel",
          "model_module_version": "1.2.0",
          "state": {
            "_model_module": "@jupyter-widgets/base",
            "_model_module_version": "1.2.0",
            "_model_name": "LayoutModel",
            "_view_count": null,
            "_view_module": "@jupyter-widgets/base",
            "_view_module_version": "1.2.0",
            "_view_name": "LayoutView",
            "align_content": null,
            "align_items": null,
            "align_self": null,
            "border": null,
            "bottom": null,
            "display": null,
            "flex": null,
            "flex_flow": null,
            "grid_area": null,
            "grid_auto_columns": null,
            "grid_auto_flow": null,
            "grid_auto_rows": null,
            "grid_column": null,
            "grid_gap": null,
            "grid_row": null,
            "grid_template_areas": null,
            "grid_template_columns": null,
            "grid_template_rows": null,
            "height": null,
            "justify_content": null,
            "justify_items": null,
            "left": null,
            "margin": null,
            "max_height": null,
            "max_width": null,
            "min_height": null,
            "min_width": null,
            "object_fit": null,
            "object_position": null,
            "order": null,
            "overflow": null,
            "overflow_x": null,
            "overflow_y": null,
            "padding": null,
            "right": null,
            "top": null,
            "visibility": null,
            "width": null
          }
        },
        "c078c90d38674ebb94d68e73ae905a1c": {
          "model_module": "@jupyter-widgets/base",
          "model_name": "LayoutModel",
          "model_module_version": "1.2.0",
          "state": {
            "_model_module": "@jupyter-widgets/base",
            "_model_module_version": "1.2.0",
            "_model_name": "LayoutModel",
            "_view_count": null,
            "_view_module": "@jupyter-widgets/base",
            "_view_module_version": "1.2.0",
            "_view_name": "LayoutView",
            "align_content": null,
            "align_items": null,
            "align_self": null,
            "border": null,
            "bottom": null,
            "display": null,
            "flex": null,
            "flex_flow": null,
            "grid_area": null,
            "grid_auto_columns": null,
            "grid_auto_flow": null,
            "grid_auto_rows": null,
            "grid_column": null,
            "grid_gap": null,
            "grid_row": null,
            "grid_template_areas": null,
            "grid_template_columns": null,
            "grid_template_rows": null,
            "height": null,
            "justify_content": null,
            "justify_items": null,
            "left": null,
            "margin": null,
            "max_height": null,
            "max_width": null,
            "min_height": null,
            "min_width": null,
            "object_fit": null,
            "object_position": null,
            "order": null,
            "overflow": null,
            "overflow_x": null,
            "overflow_y": null,
            "padding": null,
            "right": null,
            "top": null,
            "visibility": null,
            "width": null
          }
        },
        "ab35664c26ad46e6834edc7fb8f7c97d": {
          "model_module": "@jupyter-widgets/controls",
          "model_name": "DescriptionStyleModel",
          "model_module_version": "1.5.0",
          "state": {
            "_model_module": "@jupyter-widgets/controls",
            "_model_module_version": "1.5.0",
            "_model_name": "DescriptionStyleModel",
            "_view_count": null,
            "_view_module": "@jupyter-widgets/base",
            "_view_module_version": "1.2.0",
            "_view_name": "StyleView",
            "description_width": ""
          }
        },
        "1db1bbc5387c450ea3620343f2184272": {
          "model_module": "@jupyter-widgets/base",
          "model_name": "LayoutModel",
          "model_module_version": "1.2.0",
          "state": {
            "_model_module": "@jupyter-widgets/base",
            "_model_module_version": "1.2.0",
            "_model_name": "LayoutModel",
            "_view_count": null,
            "_view_module": "@jupyter-widgets/base",
            "_view_module_version": "1.2.0",
            "_view_name": "LayoutView",
            "align_content": null,
            "align_items": null,
            "align_self": null,
            "border": null,
            "bottom": null,
            "display": null,
            "flex": null,
            "flex_flow": null,
            "grid_area": null,
            "grid_auto_columns": null,
            "grid_auto_flow": null,
            "grid_auto_rows": null,
            "grid_column": null,
            "grid_gap": null,
            "grid_row": null,
            "grid_template_areas": null,
            "grid_template_columns": null,
            "grid_template_rows": null,
            "height": null,
            "justify_content": null,
            "justify_items": null,
            "left": null,
            "margin": null,
            "max_height": null,
            "max_width": null,
            "min_height": null,
            "min_width": null,
            "object_fit": null,
            "object_position": null,
            "order": null,
            "overflow": null,
            "overflow_x": null,
            "overflow_y": null,
            "padding": null,
            "right": null,
            "top": null,
            "visibility": null,
            "width": null
          }
        },
        "7d7f866eaab94c60ae22d32e258a73ee": {
          "model_module": "@jupyter-widgets/controls",
          "model_name": "ProgressStyleModel",
          "model_module_version": "1.5.0",
          "state": {
            "_model_module": "@jupyter-widgets/controls",
            "_model_module_version": "1.5.0",
            "_model_name": "ProgressStyleModel",
            "_view_count": null,
            "_view_module": "@jupyter-widgets/base",
            "_view_module_version": "1.2.0",
            "_view_name": "StyleView",
            "bar_color": null,
            "description_width": ""
          }
        },
        "2ab975a0b9604224b1e5564add44cb28": {
          "model_module": "@jupyter-widgets/base",
          "model_name": "LayoutModel",
          "model_module_version": "1.2.0",
          "state": {
            "_model_module": "@jupyter-widgets/base",
            "_model_module_version": "1.2.0",
            "_model_name": "LayoutModel",
            "_view_count": null,
            "_view_module": "@jupyter-widgets/base",
            "_view_module_version": "1.2.0",
            "_view_name": "LayoutView",
            "align_content": null,
            "align_items": null,
            "align_self": null,
            "border": null,
            "bottom": null,
            "display": null,
            "flex": null,
            "flex_flow": null,
            "grid_area": null,
            "grid_auto_columns": null,
            "grid_auto_flow": null,
            "grid_auto_rows": null,
            "grid_column": null,
            "grid_gap": null,
            "grid_row": null,
            "grid_template_areas": null,
            "grid_template_columns": null,
            "grid_template_rows": null,
            "height": null,
            "justify_content": null,
            "justify_items": null,
            "left": null,
            "margin": null,
            "max_height": null,
            "max_width": null,
            "min_height": null,
            "min_width": null,
            "object_fit": null,
            "object_position": null,
            "order": null,
            "overflow": null,
            "overflow_x": null,
            "overflow_y": null,
            "padding": null,
            "right": null,
            "top": null,
            "visibility": null,
            "width": null
          }
        },
        "830b9b5858a24e7ebcc0bfa0f7b22a9e": {
          "model_module": "@jupyter-widgets/controls",
          "model_name": "DescriptionStyleModel",
          "model_module_version": "1.5.0",
          "state": {
            "_model_module": "@jupyter-widgets/controls",
            "_model_module_version": "1.5.0",
            "_model_name": "DescriptionStyleModel",
            "_view_count": null,
            "_view_module": "@jupyter-widgets/base",
            "_view_module_version": "1.2.0",
            "_view_name": "StyleView",
            "description_width": ""
          }
        },
        "260a3fb4f7494c6a9c266695c184b91a": {
          "model_module": "@jupyter-widgets/controls",
          "model_name": "HBoxModel",
          "model_module_version": "1.5.0",
          "state": {
            "_dom_classes": [],
            "_model_module": "@jupyter-widgets/controls",
            "_model_module_version": "1.5.0",
            "_model_name": "HBoxModel",
            "_view_count": null,
            "_view_module": "@jupyter-widgets/controls",
            "_view_module_version": "1.5.0",
            "_view_name": "HBoxView",
            "box_style": "",
            "children": [
              "IPY_MODEL_d7f3d8c4fc1443ab815591ba704b29cb",
              "IPY_MODEL_41ba9b7b918f4a1881be506948a29e1a",
              "IPY_MODEL_39166003a1fa44c29082b6ba47855b7d"
            ],
            "layout": "IPY_MODEL_239422279e23426696e0d17be70a65f9"
          }
        },
        "d7f3d8c4fc1443ab815591ba704b29cb": {
          "model_module": "@jupyter-widgets/controls",
          "model_name": "HTMLModel",
          "model_module_version": "1.5.0",
          "state": {
            "_dom_classes": [],
            "_model_module": "@jupyter-widgets/controls",
            "_model_module_version": "1.5.0",
            "_model_name": "HTMLModel",
            "_view_count": null,
            "_view_module": "@jupyter-widgets/controls",
            "_view_module_version": "1.5.0",
            "_view_name": "HTMLView",
            "description": "",
            "description_tooltip": null,
            "layout": "IPY_MODEL_2ab7d2b5d38045de9c53f59d107b423c",
            "placeholder": "​",
            "style": "IPY_MODEL_dfaa5afb38664d959358f1feaa268d34",
            "value": "100%"
          }
        },
        "41ba9b7b918f4a1881be506948a29e1a": {
          "model_module": "@jupyter-widgets/controls",
          "model_name": "FloatProgressModel",
          "model_module_version": "1.5.0",
          "state": {
            "_dom_classes": [],
            "_model_module": "@jupyter-widgets/controls",
            "_model_module_version": "1.5.0",
            "_model_name": "FloatProgressModel",
            "_view_count": null,
            "_view_module": "@jupyter-widgets/controls",
            "_view_module_version": "1.5.0",
            "_view_name": "ProgressView",
            "bar_style": "success",
            "description": "",
            "description_tooltip": null,
            "layout": "IPY_MODEL_586061faade7451ea46720687c663a07",
            "max": 5,
            "min": 0,
            "orientation": "horizontal",
            "style": "IPY_MODEL_9b1fc6ac6c584af3ba8a64dd5f1725f3",
            "value": 5
          }
        },
        "39166003a1fa44c29082b6ba47855b7d": {
          "model_module": "@jupyter-widgets/controls",
          "model_name": "HTMLModel",
          "model_module_version": "1.5.0",
          "state": {
            "_dom_classes": [],
            "_model_module": "@jupyter-widgets/controls",
            "_model_module_version": "1.5.0",
            "_model_name": "HTMLModel",
            "_view_count": null,
            "_view_module": "@jupyter-widgets/controls",
            "_view_module_version": "1.5.0",
            "_view_name": "HTMLView",
            "description": "",
            "description_tooltip": null,
            "layout": "IPY_MODEL_27fb5574c4de4eda8587de62142b1296",
            "placeholder": "​",
            "style": "IPY_MODEL_16d368c412ca4943bd4978bfd1cba166",
            "value": " 5/5 [01:17&lt;00:00, 17.93s/it]"
          }
        },
        "239422279e23426696e0d17be70a65f9": {
          "model_module": "@jupyter-widgets/base",
          "model_name": "LayoutModel",
          "model_module_version": "1.2.0",
          "state": {
            "_model_module": "@jupyter-widgets/base",
            "_model_module_version": "1.2.0",
            "_model_name": "LayoutModel",
            "_view_count": null,
            "_view_module": "@jupyter-widgets/base",
            "_view_module_version": "1.2.0",
            "_view_name": "LayoutView",
            "align_content": null,
            "align_items": null,
            "align_self": null,
            "border": null,
            "bottom": null,
            "display": null,
            "flex": null,
            "flex_flow": null,
            "grid_area": null,
            "grid_auto_columns": null,
            "grid_auto_flow": null,
            "grid_auto_rows": null,
            "grid_column": null,
            "grid_gap": null,
            "grid_row": null,
            "grid_template_areas": null,
            "grid_template_columns": null,
            "grid_template_rows": null,
            "height": null,
            "justify_content": null,
            "justify_items": null,
            "left": null,
            "margin": null,
            "max_height": null,
            "max_width": null,
            "min_height": null,
            "min_width": null,
            "object_fit": null,
            "object_position": null,
            "order": null,
            "overflow": null,
            "overflow_x": null,
            "overflow_y": null,
            "padding": null,
            "right": null,
            "top": null,
            "visibility": null,
            "width": null
          }
        },
        "2ab7d2b5d38045de9c53f59d107b423c": {
          "model_module": "@jupyter-widgets/base",
          "model_name": "LayoutModel",
          "model_module_version": "1.2.0",
          "state": {
            "_model_module": "@jupyter-widgets/base",
            "_model_module_version": "1.2.0",
            "_model_name": "LayoutModel",
            "_view_count": null,
            "_view_module": "@jupyter-widgets/base",
            "_view_module_version": "1.2.0",
            "_view_name": "LayoutView",
            "align_content": null,
            "align_items": null,
            "align_self": null,
            "border": null,
            "bottom": null,
            "display": null,
            "flex": null,
            "flex_flow": null,
            "grid_area": null,
            "grid_auto_columns": null,
            "grid_auto_flow": null,
            "grid_auto_rows": null,
            "grid_column": null,
            "grid_gap": null,
            "grid_row": null,
            "grid_template_areas": null,
            "grid_template_columns": null,
            "grid_template_rows": null,
            "height": null,
            "justify_content": null,
            "justify_items": null,
            "left": null,
            "margin": null,
            "max_height": null,
            "max_width": null,
            "min_height": null,
            "min_width": null,
            "object_fit": null,
            "object_position": null,
            "order": null,
            "overflow": null,
            "overflow_x": null,
            "overflow_y": null,
            "padding": null,
            "right": null,
            "top": null,
            "visibility": null,
            "width": null
          }
        },
        "dfaa5afb38664d959358f1feaa268d34": {
          "model_module": "@jupyter-widgets/controls",
          "model_name": "DescriptionStyleModel",
          "model_module_version": "1.5.0",
          "state": {
            "_model_module": "@jupyter-widgets/controls",
            "_model_module_version": "1.5.0",
            "_model_name": "DescriptionStyleModel",
            "_view_count": null,
            "_view_module": "@jupyter-widgets/base",
            "_view_module_version": "1.2.0",
            "_view_name": "StyleView",
            "description_width": ""
          }
        },
        "586061faade7451ea46720687c663a07": {
          "model_module": "@jupyter-widgets/base",
          "model_name": "LayoutModel",
          "model_module_version": "1.2.0",
          "state": {
            "_model_module": "@jupyter-widgets/base",
            "_model_module_version": "1.2.0",
            "_model_name": "LayoutModel",
            "_view_count": null,
            "_view_module": "@jupyter-widgets/base",
            "_view_module_version": "1.2.0",
            "_view_name": "LayoutView",
            "align_content": null,
            "align_items": null,
            "align_self": null,
            "border": null,
            "bottom": null,
            "display": null,
            "flex": null,
            "flex_flow": null,
            "grid_area": null,
            "grid_auto_columns": null,
            "grid_auto_flow": null,
            "grid_auto_rows": null,
            "grid_column": null,
            "grid_gap": null,
            "grid_row": null,
            "grid_template_areas": null,
            "grid_template_columns": null,
            "grid_template_rows": null,
            "height": null,
            "justify_content": null,
            "justify_items": null,
            "left": null,
            "margin": null,
            "max_height": null,
            "max_width": null,
            "min_height": null,
            "min_width": null,
            "object_fit": null,
            "object_position": null,
            "order": null,
            "overflow": null,
            "overflow_x": null,
            "overflow_y": null,
            "padding": null,
            "right": null,
            "top": null,
            "visibility": null,
            "width": null
          }
        },
        "9b1fc6ac6c584af3ba8a64dd5f1725f3": {
          "model_module": "@jupyter-widgets/controls",
          "model_name": "ProgressStyleModel",
          "model_module_version": "1.5.0",
          "state": {
            "_model_module": "@jupyter-widgets/controls",
            "_model_module_version": "1.5.0",
            "_model_name": "ProgressStyleModel",
            "_view_count": null,
            "_view_module": "@jupyter-widgets/base",
            "_view_module_version": "1.2.0",
            "_view_name": "StyleView",
            "bar_color": null,
            "description_width": ""
          }
        },
        "27fb5574c4de4eda8587de62142b1296": {
          "model_module": "@jupyter-widgets/base",
          "model_name": "LayoutModel",
          "model_module_version": "1.2.0",
          "state": {
            "_model_module": "@jupyter-widgets/base",
            "_model_module_version": "1.2.0",
            "_model_name": "LayoutModel",
            "_view_count": null,
            "_view_module": "@jupyter-widgets/base",
            "_view_module_version": "1.2.0",
            "_view_name": "LayoutView",
            "align_content": null,
            "align_items": null,
            "align_self": null,
            "border": null,
            "bottom": null,
            "display": null,
            "flex": null,
            "flex_flow": null,
            "grid_area": null,
            "grid_auto_columns": null,
            "grid_auto_flow": null,
            "grid_auto_rows": null,
            "grid_column": null,
            "grid_gap": null,
            "grid_row": null,
            "grid_template_areas": null,
            "grid_template_columns": null,
            "grid_template_rows": null,
            "height": null,
            "justify_content": null,
            "justify_items": null,
            "left": null,
            "margin": null,
            "max_height": null,
            "max_width": null,
            "min_height": null,
            "min_width": null,
            "object_fit": null,
            "object_position": null,
            "order": null,
            "overflow": null,
            "overflow_x": null,
            "overflow_y": null,
            "padding": null,
            "right": null,
            "top": null,
            "visibility": null,
            "width": null
          }
        },
        "16d368c412ca4943bd4978bfd1cba166": {
          "model_module": "@jupyter-widgets/controls",
          "model_name": "DescriptionStyleModel",
          "model_module_version": "1.5.0",
          "state": {
            "_model_module": "@jupyter-widgets/controls",
            "_model_module_version": "1.5.0",
            "_model_name": "DescriptionStyleModel",
            "_view_count": null,
            "_view_module": "@jupyter-widgets/base",
            "_view_module_version": "1.2.0",
            "_view_name": "StyleView",
            "description_width": ""
          }
        }
      }
    }
  },
  "cells": [
    {
      "cell_type": "markdown",
      "metadata": {
        "id": "view-in-github",
        "colab_type": "text"
      },
      "source": [
        "<a href=\"https://colab.research.google.com/github/ArincDemirel/PyTorch--Deep-Learning-Projects/blob/main/03_PyTorch_Computer_Vision.ipynb\" target=\"_parent\"><img src=\"https://colab.research.google.com/assets/colab-badge.svg\" alt=\"Open In Colab\"/></a>"
      ]
    },
    {
      "cell_type": "code",
      "execution_count": null,
      "metadata": {
        "id": "CMoWm9g7Go9s"
      },
      "outputs": [],
      "source": []
    },
    {
      "cell_type": "markdown",
      "source": [
        "## 03.PyTorch Computer Vision\n",
        "https://www.learnpytorch.io/03_pytorch_computer_vision/"
      ],
      "metadata": {
        "id": "zCVi05YRGydC"
      }
    },
    {
      "cell_type": "code",
      "source": [
        "import torch\n",
        "from torch import nn\n",
        "\n",
        "import torchvision\n",
        "from torchvision import datasets\n",
        "from torchvision import transforms\n",
        "from torchvision.transforms import ToTensor\n",
        "\n",
        "import matplotlib.pyplot as plt\n"
      ],
      "metadata": {
        "id": "exXmLy8OHCV_"
      },
      "execution_count": 1,
      "outputs": []
    },
    {
      "cell_type": "code",
      "source": [
        "torch.__version__ , torchvision.__version__"
      ],
      "metadata": {
        "colab": {
          "base_uri": "https://localhost:8080/"
        },
        "id": "cAss45jkql5u",
        "outputId": "eb9de287-84b2-4dfe-ef65-8c263911ec24"
      },
      "execution_count": 2,
      "outputs": [
        {
          "output_type": "execute_result",
          "data": {
            "text/plain": [
              "('2.1.0+cu118', '0.16.0+cu118')"
            ]
          },
          "metadata": {},
          "execution_count": 2
        }
      ]
    },
    {
      "cell_type": "code",
      "source": [
        "# Getting dataset - Fashion MNIST"
      ],
      "metadata": {
        "id": "YfjMK8koqo_I"
      },
      "execution_count": 3,
      "outputs": []
    },
    {
      "cell_type": "code",
      "source": [
        "from torchvision import datasets\n",
        "train_data = datasets.FashionMNIST(\n",
        "    root = \"data\", #where to download the data\n",
        "    train = True,\n",
        "    download=True,\n",
        "    transform= ToTensor(),\n",
        "   target_transform=None\n",
        ")\n",
        "test_data = datasets.FashionMNIST(\n",
        "    root = \"data\", #where to download the data\n",
        "    train = False,\n",
        "    download=True,\n",
        "    transform= ToTensor(),\n",
        "   target_transform=None\n",
        ")"
      ],
      "metadata": {
        "id": "3T6LnFdArPHc"
      },
      "execution_count": 4,
      "outputs": []
    },
    {
      "cell_type": "code",
      "source": [
        "len(train_data), len(test_data), type(train_data)"
      ],
      "metadata": {
        "colab": {
          "base_uri": "https://localhost:8080/"
        },
        "id": "h2GQxKSvtybg",
        "outputId": "8dca7bcc-6345-4965-aef4-bc5341b4fbe3"
      },
      "execution_count": 5,
      "outputs": [
        {
          "output_type": "execute_result",
          "data": {
            "text/plain": [
              "(60000, 10000, torchvision.datasets.mnist.FashionMNIST)"
            ]
          },
          "metadata": {},
          "execution_count": 5
        }
      ]
    },
    {
      "cell_type": "code",
      "source": [
        "image, label = train_data[0]\n",
        "class_names = train_data.classes\n",
        "len(class_names),class_names"
      ],
      "metadata": {
        "colab": {
          "base_uri": "https://localhost:8080/"
        },
        "id": "n-QqUqAcvCVW",
        "outputId": "5509b1e9-622c-431c-cad5-16c08dd06965"
      },
      "execution_count": 6,
      "outputs": [
        {
          "output_type": "execute_result",
          "data": {
            "text/plain": [
              "(10,\n",
              " ['T-shirt/top',\n",
              "  'Trouser',\n",
              "  'Pullover',\n",
              "  'Dress',\n",
              "  'Coat',\n",
              "  'Sandal',\n",
              "  'Shirt',\n",
              "  'Sneaker',\n",
              "  'Bag',\n",
              "  'Ankle boot'])"
            ]
          },
          "metadata": {},
          "execution_count": 6
        }
      ]
    },
    {
      "cell_type": "code",
      "source": [
        "class_to_idx = train_data.class_to_idx\n",
        "class_to_idx"
      ],
      "metadata": {
        "colab": {
          "base_uri": "https://localhost:8080/"
        },
        "id": "MUzAfKAPvNdd",
        "outputId": "16852659-dcc5-4436-9379-0b69dca60120"
      },
      "execution_count": 7,
      "outputs": [
        {
          "output_type": "execute_result",
          "data": {
            "text/plain": [
              "{'T-shirt/top': 0,\n",
              " 'Trouser': 1,\n",
              " 'Pullover': 2,\n",
              " 'Dress': 3,\n",
              " 'Coat': 4,\n",
              " 'Sandal': 5,\n",
              " 'Shirt': 6,\n",
              " 'Sneaker': 7,\n",
              " 'Bag': 8,\n",
              " 'Ankle boot': 9}"
            ]
          },
          "metadata": {},
          "execution_count": 7
        }
      ]
    },
    {
      "cell_type": "code",
      "source": [
        "train_data.targets[:5], len(train_data.targets)"
      ],
      "metadata": {
        "colab": {
          "base_uri": "https://localhost:8080/"
        },
        "id": "-eCxiwWbznEB",
        "outputId": "e27af9fe-e184-44c1-c1f0-3606c0c436dd"
      },
      "execution_count": 8,
      "outputs": [
        {
          "output_type": "execute_result",
          "data": {
            "text/plain": [
              "(tensor([9, 0, 0, 3, 0]), 60000)"
            ]
          },
          "metadata": {},
          "execution_count": 8
        }
      ]
    },
    {
      "cell_type": "code",
      "source": [
        "print(f\"Image shape:{image.shape} -> [color_channels, height, width]\")\n",
        "print(f\"Image label:{class_names[label]}\")"
      ],
      "metadata": {
        "colab": {
          "base_uri": "https://localhost:8080/"
        },
        "id": "AxPvRES4zwkV",
        "outputId": "57c99b33-430f-4694-9dc1-ebd50dfd2bdb"
      },
      "execution_count": 9,
      "outputs": [
        {
          "output_type": "stream",
          "name": "stdout",
          "text": [
            "Image shape:torch.Size([1, 28, 28]) -> [color_channels, height, width]\n",
            "Image label:Ankle boot\n"
          ]
        }
      ]
    },
    {
      "cell_type": "code",
      "source": [
        "# So this is a 1 color chanel which is grayscale image"
      ],
      "metadata": {
        "id": "hCUOpr5G0Mw7"
      },
      "execution_count": 10,
      "outputs": []
    },
    {
      "cell_type": "code",
      "source": [
        "plt.imshow(image.squeeze(), cmap=\"gray\")\n",
        "plt.title(f\"{class_names[label]}\")\n",
        "plt.axis(False)"
      ],
      "metadata": {
        "colab": {
          "base_uri": "https://localhost:8080/",
          "height": 445
        },
        "id": "cflOg_fk0xnC",
        "outputId": "3729be88-15c3-4abf-962c-71ba841b9549"
      },
      "execution_count": 11,
      "outputs": [
        {
          "output_type": "execute_result",
          "data": {
            "text/plain": [
              "(-0.5, 27.5, 27.5, -0.5)"
            ]
          },
          "metadata": {},
          "execution_count": 11
        },
        {
          "output_type": "display_data",
          "data": {
            "text/plain": [
              "<Figure size 640x480 with 1 Axes>"
            ],
            "image/png": "[encoded data removed]"
          },
          "metadata": {}
        }
      ]
    },
    {
      "cell_type": "code",
      "source": [
        "random_idx = torch.randint(0, len(train_data),size=[1]).item()\n",
        "random_idx"
      ],
      "metadata": {
        "colab": {
          "base_uri": "https://localhost:8080/"
        },
        "id": "_fl2VBZK1LrH",
        "outputId": "43794004-f9bc-40c6-8bfc-b6b2039a8197"
      },
      "execution_count": 12,
      "outputs": [
        {
          "output_type": "execute_result",
          "data": {
            "text/plain": [
              "10696"
            ]
          },
          "metadata": {},
          "execution_count": 12
        }
      ]
    },
    {
      "cell_type": "code",
      "source": [
        "rows , cols = 4,4\n",
        "plt.show()\n",
        "fig = plt.figure(figsize=(9,9))\n",
        "for i in range(1, rows*cols+1):\n",
        "  random_idx = torch.randint(0, len(train_data),size=[1]).item()\n",
        "  new_image, label = train_data[random_idx]\n",
        "  fig.add_subplot(rows, cols,i)\n",
        "  plt.imshow(new_image.squeeze(), cmap=\"gray\")\n",
        "  plt.title(f\"{class_names[label]}\")\n",
        "  plt.axis(False)"
      ],
      "metadata": {
        "colab": {
          "base_uri": "https://localhost:8080/",
          "height": 752
        },
        "id": "gw3ePYjU15m3",
        "outputId": "e5641c3c-56c7-4caa-e22e-492e39cd92dc"
      },
      "execution_count": 13,
      "outputs": [
        {
          "output_type": "display_data",
          "data": {
            "text/plain": [
              "<Figure size 900x900 with 16 Axes>"
            ],
            "image/png": "[encoded data removed]"
          },
          "metadata": {}
        }
      ]
    },
    {
      "cell_type": "code",
      "source": [
        "from torch.utils.data import DataLoader\n",
        "# We have 6000 datapoints, let's do batch_size = 32, to divide into batches we can use dataloader from pytorch\n",
        "BATCH_SIZE = 32\n",
        "train_dataloader = DataLoader(dataset=train_data,\n",
        "                              batch_size=32,\n",
        "                              shuffle=True)\n",
        "\n",
        "test_dataloader = DataLoader(dataset=test_data,\n",
        "                              batch_size=32,\n",
        "                              shuffle=False)"
      ],
      "metadata": {
        "id": "KXcklVGn2t8Y"
      },
      "execution_count": 14,
      "outputs": []
    },
    {
      "cell_type": "code",
      "source": [
        "len(train_dataloader) # 1875*32 = 60000"
      ],
      "metadata": {
        "colab": {
          "base_uri": "https://localhost:8080/"
        },
        "id": "kuFIQwfI5rx7",
        "outputId": "eb11b2cd-1865-488b-f20d-4580c19f33c7"
      },
      "execution_count": 15,
      "outputs": [
        {
          "output_type": "execute_result",
          "data": {
            "text/plain": [
              "1875"
            ]
          },
          "metadata": {},
          "execution_count": 15
        }
      ]
    },
    {
      "cell_type": "code",
      "source": [
        "train_features_batch, train_labels_batch = next(iter(train_dataloader))\n",
        "train_features_batch.shape, train_labels_batch.shape"
      ],
      "metadata": {
        "colab": {
          "base_uri": "https://localhost:8080/"
        },
        "id": "pwmO26wM6KvU",
        "outputId": "d4451db6-3ae0-4acf-b97d-df6e51156337"
      },
      "execution_count": 16,
      "outputs": [
        {
          "output_type": "execute_result",
          "data": {
            "text/plain": [
              "(torch.Size([32, 1, 28, 28]), torch.Size([32]))"
            ]
          },
          "metadata": {},
          "execution_count": 16
        }
      ]
    },
    {
      "cell_type": "code",
      "source": [
        "train_features_batch[5].shape"
      ],
      "metadata": {
        "colab": {
          "base_uri": "https://localhost:8080/"
        },
        "id": "VR_SAESb6fJk",
        "outputId": "99e71407-c469-4021-ce79-afe591b95c2f"
      },
      "execution_count": 17,
      "outputs": [
        {
          "output_type": "execute_result",
          "data": {
            "text/plain": [
              "torch.Size([1, 28, 28])"
            ]
          },
          "metadata": {},
          "execution_count": 17
        }
      ]
    },
    {
      "cell_type": "code",
      "source": [
        "train_features_batch[9][0,:,:],train_labels_batch[5]\n",
        "plt.imshow(train_features_batch[4][0,:,:], cmap= \"gray\")\n",
        "plt.title(class_names[train_labels_batch[4]])"
      ],
      "metadata": {
        "colab": {
          "base_uri": "https://localhost:8080/",
          "height": 469
        },
        "id": "WiIbpkc-8XA6",
        "outputId": "3f424dc2-629f-4369-ea33-2d37e51fdaf0"
      },
      "execution_count": 18,
      "outputs": [
        {
          "output_type": "execute_result",
          "data": {
            "text/plain": [
              "Text(0.5, 1.0, 'Trouser')"
            ]
          },
          "metadata": {},
          "execution_count": 18
        },
        {
          "output_type": "display_data",
          "data": {
            "text/plain": [
              "<Figure size 640x480 with 1 Axes>"
            ],
            "image/png": "[encoded data removed]"
          },
          "metadata": {}
        }
      ]
    },
    {
      "cell_type": "code",
      "source": [
        "# To flatten the input we will use nn.flatten\n",
        "flatten_model = nn.Flatten()\n",
        "x = train_features_batch[0]\n",
        "output = flatten_model(x)\n",
        "x.shape, output.shape"
      ],
      "metadata": {
        "colab": {
          "base_uri": "https://localhost:8080/"
        },
        "id": "khu-pTkV8mrl",
        "outputId": "7110c32d-a95c-4cd1-e771-85e90c30542f"
      },
      "execution_count": 19,
      "outputs": [
        {
          "output_type": "execute_result",
          "data": {
            "text/plain": [
              "(torch.Size([1, 28, 28]), torch.Size([1, 784]))"
            ]
          },
          "metadata": {},
          "execution_count": 19
        }
      ]
    },
    {
      "cell_type": "code",
      "source": [
        "from torch.nn.modules.flatten import Flatten\n",
        "class FashionMNISTModelV0(nn.Module):\n",
        "  def __init__(self, input_shape:int, hidden_units:int, output_shape:int):\n",
        "    super().__init__()\n",
        "    self.layer_stack = nn.Sequential(nn.Flatten(),\n",
        "                                     nn.Linear(in_features=input_shape, out_features=hidden_units),\n",
        "                                     nn.Linear(in_features=hidden_units, out_features=output_shape)\n",
        "                                     )\n",
        "  def forward(self,x):\n",
        "    return self.layer_stack(x)"
      ],
      "metadata": {
        "id": "ShWkWOO5CMaK"
      },
      "execution_count": 20,
      "outputs": []
    },
    {
      "cell_type": "code",
      "source": [],
      "metadata": {
        "id": "bQPCDgRjG0OH"
      },
      "execution_count": 20,
      "outputs": []
    },
    {
      "cell_type": "code",
      "source": [
        "device = \"cpu\""
      ],
      "metadata": {
        "id": "4kbxl6OfGZ_h"
      },
      "execution_count": 37,
      "outputs": []
    },
    {
      "cell_type": "code",
      "source": [
        "torch.manual_seed(42)\n",
        "model_0 = FashionMNISTModelV0(input_shape = 784,\n",
        "                               hidden_units=10,\n",
        "                               output_shape=len(class_names)).to(\"cpu\")"
      ],
      "metadata": {
        "id": "1ZJWLK8YDwRs"
      },
      "execution_count": 38,
      "outputs": []
    },
    {
      "cell_type": "code",
      "source": [
        "#test the model\n",
        "dummy_x = torch.randn([1,1,28,28])\n",
        "model_0(dummy_x).shape"
      ],
      "metadata": {
        "colab": {
          "base_uri": "https://localhost:8080/"
        },
        "id": "Oqll4m7fD1fl",
        "outputId": "a754d429-c0d1-406e-e602-f4c6fb62cca6"
      },
      "execution_count": 39,
      "outputs": [
        {
          "output_type": "execute_result",
          "data": {
            "text/plain": [
              "torch.Size([1, 10])"
            ]
          },
          "metadata": {},
          "execution_count": 39
        }
      ]
    },
    {
      "cell_type": "code",
      "source": [
        "from google.colab import drive\n",
        "drive.mount('/content/drive')\n"
      ],
      "metadata": {
        "colab": {
          "base_uri": "https://localhost:8080/"
        },
        "id": "8QNCSWNyEZkR",
        "outputId": "fff0efbc-ecd0-4740-9a27-adf6d53f04c0"
      },
      "execution_count": 40,
      "outputs": [
        {
          "output_type": "stream",
          "name": "stdout",
          "text": [
            "Drive already mounted at /content/drive; to attempt to forcibly remount, call drive.mount(\"/content/drive\", force_remount=True).\n"
          ]
        }
      ]
    },
    {
      "cell_type": "code",
      "source": [
        "import sys\n",
        "path = '/content/drive/MyDrive/PyTorchTraining/'\n",
        "sys.path.insert(0, path)\n",
        "import helper_functions as hlpfnc"
      ],
      "metadata": {
        "id": "bo0tet5bdtIN"
      },
      "execution_count": 41,
      "outputs": []
    },
    {
      "cell_type": "code",
      "source": [
        "loss_fn = nn.CrossEntropyLoss()\n",
        "optimizer = torch.optim.SGD(params= model_0.parameters(),lr = 0.1 )"
      ],
      "metadata": {
        "id": "Ltv5isgCdueK"
      },
      "execution_count": 42,
      "outputs": []
    },
    {
      "cell_type": "code",
      "source": [
        "from timeit import default_timer as timer"
      ],
      "metadata": {
        "id": "2syYGUIcGLU7"
      },
      "execution_count": 43,
      "outputs": []
    },
    {
      "cell_type": "code",
      "source": [
        "def print_train_time(start:float, end:float, device: torch.device = None):\n",
        "  total_time = end - start\n",
        "  print(f\"Total time elapsed on {device}:{total_time} seconds\")\n",
        "  return\n"
      ],
      "metadata": {
        "id": "bqKpPs0IGQRd"
      },
      "execution_count": 44,
      "outputs": []
    },
    {
      "cell_type": "markdown",
      "source": [
        "Creating a training loop and training a model on batches of data\n",
        "1. Loop through epochs.\n",
        "2. Loop through training batches, perform training steps, calculate the train loss per batch.\n",
        "3. Loop through testing batches, perform testing steps, calcula he test loss per batch.\n",
        "4. Print out what's happening.\n",
        "5. Time it all (for fun)."
      ],
      "metadata": {
        "id": "iBsMFOoTJ9lJ"
      }
    },
    {
      "cell_type": "code",
      "source": [
        "from torch.nn.modules import loss\n",
        "from tqdm.auto import tqdm\n",
        "torch.manual_seed(42)"
      ],
      "metadata": {
        "colab": {
          "base_uri": "https://localhost:8080/"
        },
        "id": "2XV0TgmiCqlN",
        "outputId": "26f32b45-1d62-4724-ad5f-0c7b7883d2f0"
      },
      "execution_count": 45,
      "outputs": [
        {
          "output_type": "execute_result",
          "data": {
            "text/plain": [
              "<torch._C.Generator at 0x7d22a4be81f0>"
            ]
          },
          "metadata": {},
          "execution_count": 45
        }
      ]
    },
    {
      "cell_type": "code",
      "source": [
        "\n",
        "\n",
        "\n",
        "train_time_start_on_cpu = timer()\n",
        "\n",
        "epochs = 5\n",
        "\n",
        "for epoch in tqdm(range(epochs)):\n",
        "  print(f\"Epoch:{epoch+1}\\n----\")\n",
        "  train_loss,train_acc = 0,0\n",
        "  for batch,(X_train,y_train) in enumerate(train_dataloader):\n",
        "\n",
        "    model_0.train() # put the model in to the training mode\n",
        "\n",
        "    #do the forward pass\n",
        "    y_pred = model_0(X_train)\n",
        "\n",
        "    # calculate the loss\n",
        "    loss = loss_fn(y_pred,y_train)\n",
        "    train_loss += loss # accumalate train loss\n",
        "    train_acc += hlpfnc.accuracy_fn(y_true = y_train, y_pred = y_pred.argmax(dim=1))\n",
        "\n",
        "    #optimizer zero grad\n",
        "    optimizer.zero_grad()\n",
        "\n",
        "    #loss backward - calculating the gradients\n",
        "    loss.backward()\n",
        "\n",
        "    #update the weights\n",
        "    optimizer.step()\n",
        "\n",
        "    if batch % 800 == 0:\n",
        "      print(f\"Looked at {batch * len(X_train)}/{len(train_dataloader.dataset)} samples.\")\n",
        "\n",
        "  train_loss /= len(train_dataloader) # averaging out the acumulated values\n",
        "  train_acc /= len(train_dataloader)\n",
        "\n",
        "  test_loss, test_acc = 0, 0\n",
        "\n",
        "  model_0.eval()# put the model in to the evaluation mode before testing starts\n",
        "\n",
        "  with torch.inference_mode():\n",
        "    for X_test,y_test in test_dataloader:\n",
        "      test_pred = model_0(X_test)\n",
        "      test_loss += loss_fn(test_pred, y_test)\n",
        "      test_acc += hlpfnc.accuracy_fn(y_true = y_test, y_pred = test_pred.argmax(dim=1))\n",
        "\n",
        "    test_loss /= len(test_dataloader)\n",
        "    test_acc /= len(test_dataloader) # averaging out the acumulated values\n",
        "\n",
        "  print(f\"\\nLoss: {train_loss:.5f} , Train acc: {train_acc:.2f}% | Test loss: {test_loss:.5f}, Test acc: {test_acc:.2f}%\\n\")\n",
        "\n",
        "train_time_end_on_cpu = timer()\n",
        "print_train_time(train_time_start_on_cpu, train_time_end_on_cpu, device = device)"
      ],
      "metadata": {
        "id": "eVO2wK5NHnEF",
        "colab": {
          "base_uri": "https://localhost:8080/",
          "height": 746,
          "referenced_widgets": [
            "54d35ee819a847a59b5fecbdcff69069",
            "1214ae08d6a9478fb2f65bfdb934db9d",
            "7d0afcb0b60b41ac98e9679497a0d9c4",
            "b5d226a5ae2543a5a8a9d7edcf3c42b2",
            "bc825a022a844d67aad2fc1610c7c6a7",
            "e8231fb9d5524f5b9f0adf8143b8cf00",
            "b7afca951f9b4da08983a5eddf33a119",
            "b45e01367afb434f88195f9e30e742c3",
            "7f59369cca4b4da193957fbc8ac1b85a",
            "b0869c02c82544fa9e722065564168d0",
            "dc344404e08d473ebe6fab4417762e17"
          ]
        },
        "outputId": "5cca8af8-40ca-4e44-bfa1-a87058bdc831"
      },
      "execution_count": 46,
      "outputs": [
        {
          "output_type": "display_data",
          "data": {
            "text/plain": [
              "  0%|          | 0/5 [00:00<?, ?it/s]"
            ],
            "application/vnd.jupyter.widget-view+json": {
              "version_major": 2,
              "version_minor": 0,
              "model_id": "54d35ee819a847a59b5fecbdcff69069"
            }
          },
          "metadata": {}
        },
        {
          "output_type": "stream",
          "name": "stdout",
          "text": [
            "Epoch:1\n",
            "----\n",
            "Looked at 0/60000 samples.\n",
            "Looked at 25600/60000 samples.\n",
            "Looked at 51200/60000 samples.\n",
            "\n",
            "Loss: 0.59039 , Train acc: 79.17% | Test loss: 0.50954, Test acc: 82.04%\n",
            "\n",
            "Epoch:2\n",
            "----\n",
            "Looked at 0/60000 samples.\n",
            "Looked at 25600/60000 samples.\n",
            "Looked at 51200/60000 samples.\n",
            "\n",
            "Loss: 0.47633 , Train acc: 83.32% | Test loss: 0.47989, Test acc: 83.20%\n",
            "\n",
            "Epoch:3\n",
            "----\n",
            "Looked at 0/60000 samples.\n",
            "Looked at 25600/60000 samples.\n",
            "Looked at 51200/60000 samples.\n",
            "\n",
            "Loss: 0.45503 , Train acc: 84.05% | Test loss: 0.47664, Test acc: 83.43%\n",
            "\n",
            "Epoch:4\n",
            "----\n",
            "Looked at 0/60000 samples.\n",
            "Looked at 25600/60000 samples.\n",
            "Looked at 51200/60000 samples.\n",
            "\n",
            "Loss: 0.44251 , Train acc: 84.47% | Test loss: 0.46306, Test acc: 83.75%\n",
            "\n",
            "Epoch:5\n",
            "----\n",
            "Looked at 0/60000 samples.\n",
            "Looked at 25600/60000 samples.\n",
            "Looked at 51200/60000 samples.\n",
            "\n",
            "Loss: 0.43582 , Train acc: 84.70% | Test loss: 0.46869, Test acc: 83.27%\n",
            "\n",
            "Total time elapsed on cpu:53.6888134790006 seconds\n"
          ]
        }
      ]
    },
    {
      "cell_type": "code",
      "source": [],
      "metadata": {
        "id": "zRHPWqAZiVav"
      },
      "execution_count": 30,
      "outputs": []
    },
    {
      "cell_type": "code",
      "source": [
        "model_0"
      ],
      "metadata": {
        "id": "FdzsfCD8Vd8e",
        "colab": {
          "base_uri": "https://localhost:8080/"
        },
        "outputId": "fe593aae-87da-4a3f-d9f1-745d5063caa6"
      },
      "execution_count": 31,
      "outputs": [
        {
          "output_type": "execute_result",
          "data": {
            "text/plain": [
              "FashionMNISTModelV0(\n",
              "  (layer_stack): Sequential(\n",
              "    (0): Flatten(start_dim=1, end_dim=-1)\n",
              "    (1): Linear(in_features=784, out_features=10, bias=True)\n",
              "    (2): Linear(in_features=10, out_features=10, bias=True)\n",
              "  )\n",
              ")"
            ]
          },
          "metadata": {},
          "execution_count": 31
        }
      ]
    },
    {
      "cell_type": "code",
      "source": [
        "model_0_results = eval_model(model=model_0, data_loader= test_dataloader,\n",
        "    loss_fn=loss_fn, accuracy_fn=hlpfnc.accuracy_fn)\n",
        "model_0_results"
      ],
      "metadata": {
        "colab": {
          "base_uri": "https://localhost:8080/"
        },
        "id": "XEAHKoiFU9Bg",
        "outputId": "fc3598cc-227d-4568-b84c-a59761c5d7f5"
      },
      "execution_count": 47,
      "outputs": [
        {
          "output_type": "execute_result",
          "data": {
            "text/plain": [
              "{'model_name': 'FashionMNISTModelV0',\n",
              " 'model_loss': 0.46869373321533203,\n",
              " 'model_acc': 83.2667731629393}"
            ]
          },
          "metadata": {},
          "execution_count": 47
        }
      ]
    },
    {
      "cell_type": "code",
      "source": [
        "device = \"cuda\" if torch.cuda.is_available else \"cpu\""
      ],
      "metadata": {
        "id": "ynGAlhTZU4l0"
      },
      "execution_count": 48,
      "outputs": []
    },
    {
      "cell_type": "code",
      "source": [
        "from torch.nn.modules.flatten import Flatten\n",
        "class FashionMNISTModelV1(nn.Module):\n",
        "  def __init__(self, input_shape:int, hidden_units:int, output_shape:int):\n",
        "    super().__init__()\n",
        "    self.layer_stack = nn.Sequential(nn.Flatten(),\n",
        "                                     nn.Linear(in_features=input_shape, out_features=hidden_units),\n",
        "                                     nn.ReLU(),\n",
        "                                     nn.Linear(in_features=hidden_units, out_features=output_shape),\n",
        "                                     nn.ReLU(),\n",
        "                                     )\n",
        "  def forward(self,x):\n",
        "    return self.layer_stack(x)"
      ],
      "metadata": {
        "id": "LvroWQhHVxqU"
      },
      "execution_count": 49,
      "outputs": []
    },
    {
      "cell_type": "code",
      "source": [
        "model_1 = FashionMNISTModelV1(input_shape=28*28,\n",
        "                              hidden_units=8,\n",
        "                              output_shape=len(class_names)).to(device)"
      ],
      "metadata": {
        "id": "V8ZaeShbf7bS"
      },
      "execution_count": 50,
      "outputs": []
    },
    {
      "cell_type": "code",
      "source": [
        "model_1.parameters()"
      ],
      "metadata": {
        "id": "tgObQCA0gHcl",
        "colab": {
          "base_uri": "https://localhost:8080/"
        },
        "outputId": "f39f5864-0786-4871-ffdd-c3be80ae590a"
      },
      "execution_count": 51,
      "outputs": [
        {
          "output_type": "execute_result",
          "data": {
            "text/plain": [
              "<generator object Module.parameters at 0x7d21e37d38b0>"
            ]
          },
          "metadata": {},
          "execution_count": 51
        }
      ]
    },
    {
      "cell_type": "code",
      "source": [
        "torch.manual_seed(42)\n",
        "def eval_model(model: torch.nn.Module,\n",
        "               data_loader: torch.utils.data.DataLoader,\n",
        "               loss_fn: torch.nn.Module,\n",
        "               accuracy_fn):\n",
        "    loss, acc = 0, 0\n",
        "    model.eval()\n",
        "    with torch.inference_mode():\n",
        "        for X, y in data_loader:\n",
        "            X = X.to(device)\n",
        "            y = y.to(device)\n",
        "            # Make predictions with the model\n",
        "            y_pred = model(X)\n",
        "\n",
        "            # Accumulate the loss and accuracy values per batch\n",
        "            loss += loss_fn(y_pred, y)\n",
        "            acc += accuracy_fn(y_true=y,\n",
        "                                y_pred=y_pred.argmax(dim=1)) # For accuracy, need the prediction labels (logits -> pred_prob -> pred_labels)\n",
        "\n",
        "        # Scale loss and acc to find the average loss/acc per batch\n",
        "        loss /= len(data_loader)\n",
        "        acc /= len(data_loader)\n",
        "\n",
        "    return {\"model_name\": model.__class__.__name__, # only works when model was created with a class\n",
        "            \"model_loss\": loss.item(),\n",
        "            \"model_acc\": acc}\n",
        "\n"
      ],
      "metadata": {
        "id": "ReG9waatQAsQ"
      },
      "execution_count": 52,
      "outputs": []
    },
    {
      "cell_type": "code",
      "source": [],
      "metadata": {
        "id": "A6l_5wjDTLOk"
      },
      "execution_count": 52,
      "outputs": []
    },
    {
      "cell_type": "code",
      "source": [
        "def train_step(model: torch.nn.Module,\n",
        "              data_loader: torch.utils.data.DataLoader,\n",
        "              optimizer: torch.optim.Optimizer,\n",
        "              loss: torch.nn.Module,\n",
        "              device : torch.device = device):\n",
        "  model.train() # put the model in to the training mode\n",
        "\n",
        "  train_loss,train_acc = 0,0\n",
        "  for batch,(X_train,y_train) in enumerate(train_dataloader):\n",
        "    X_train = X_train.to(device)\n",
        "    y_train = y_train.to(device)\n",
        "\n",
        "    #do the forward pass\n",
        "    y_pred = model(X_train)\n",
        "\n",
        "    # calculate the loss\n",
        "    loss = loss_fn(y_pred,y_train)\n",
        "    train_loss += loss # accumalate train loss\n",
        "    train_acc += hlpfnc.accuracy_fn(y_true = y_train,\n",
        "                                    y_pred = y_pred.argmax(dim=1)) # go from logits -> prediction labels\n",
        "\n",
        "    #optimizer zero grad\n",
        "    optimizer.zero_grad()\n",
        "\n",
        "    #loss backward - calculating the gradients\n",
        "    loss.backward()\n",
        "\n",
        "    #update the weights\n",
        "    optimizer.step()\n",
        "\n",
        "  train_loss /= len(data_loader) # averaging out the acumulated values\n",
        "  train_acc /= len(data_loader)\n",
        "  print(f\"\\n Train Loss: {train_loss:.5f} , Train acc: {train_acc:.2f}% \")\n"
      ],
      "metadata": {
        "id": "8anlChPTgaHc"
      },
      "execution_count": 53,
      "outputs": []
    },
    {
      "cell_type": "code",
      "source": [
        "def test_step(model: torch.nn.Module,\n",
        "              data_loader: torch.utils.data.DataLoader,\n",
        "              optimizer: torch.optim.Optimizer,\n",
        "              loss: torch.nn.Module,\n",
        "              device : torch.device = device):\n",
        "\n",
        "  test_loss, test_acc = 0, 0\n",
        "  model.eval()# put the model in to the evaluation mode before testing starts\n",
        "\n",
        "  with torch.inference_mode():\n",
        "    for X_test,y_test in data_loader:\n",
        "      X_test,y_test = X_test.to(device) , y_test.to(device)\n",
        "      test_pred = model(X_test)\n",
        "      test_loss += loss_fn(test_pred, y_test)\n",
        "      test_acc += hlpfnc.accuracy_fn(y_true = y_test, y_pred = test_pred.argmax(dim=1))\n",
        "\n",
        "    test_loss /= len(data_loader)\n",
        "    test_acc /= len(data_loader) # averaging out the acumulated values\n",
        "\n",
        "  print(f\"\\n Test loss: {test_loss:.5f}, Test acc: {test_acc:.2f}%\\n\")\n",
        "  return\n"
      ],
      "metadata": {
        "id": "JU2VUyepj6ma"
      },
      "execution_count": 54,
      "outputs": []
    },
    {
      "cell_type": "code",
      "source": [
        "loss_fn = nn.CrossEntropyLoss()\n",
        "optimizer = torch.optim.SGD(params= model_1.parameters(),lr = 0.1 )"
      ],
      "metadata": {
        "id": "ualaUBlKM8sJ"
      },
      "execution_count": 55,
      "outputs": []
    },
    {
      "cell_type": "code",
      "source": [
        "train_time_start_on_gpu = timer()\n",
        "\n",
        "epochs = 5\n",
        "results = {}\n",
        "for epoch in tqdm(range(epochs)):\n",
        "  print(f\"Epoch: {epoch}\\n-----\")\n",
        "  train_step(model= model_1,\n",
        "            data_loader=train_dataloader,\n",
        "            optimizer= optimizer,\n",
        "            loss = loss_fn,\n",
        "            device = device)\n",
        "  results = test_step(model= model_1,\n",
        "            data_loader=test_dataloader,\n",
        "            optimizer= optimizer,\n",
        "            loss = loss_fn,\n",
        "            device = device)\n",
        "\n",
        "\n",
        "train_time_end_on_gpu = timer()\n",
        "print_train_time(train_time_start_on_gpu, train_time_end_on_gpu, device = device)"
      ],
      "metadata": {
        "id": "vnkmng6HkVEl",
        "colab": {
          "base_uri": "https://localhost:8080/",
          "height": 661,
          "referenced_widgets": [
            "b94f42792e3441df9ae779ded6e0d3af",
            "03e75618f5b0484295980f71fba4e2ce",
            "b2b3bbe87f564ac696e199253a51719b",
            "7b151176057b445bbad62011839f67a3",
            "3a921d66425e4d1b8ca0cdeab0220ac8",
            "c078c90d38674ebb94d68e73ae905a1c",
            "ab35664c26ad46e6834edc7fb8f7c97d",
            "1db1bbc5387c450ea3620343f2184272",
            "7d7f866eaab94c60ae22d32e258a73ee",
            "2ab975a0b9604224b1e5564add44cb28",
            "830b9b5858a24e7ebcc0bfa0f7b22a9e"
          ]
        },
        "outputId": "0a5c9df4-4012-4c25-b17d-e038460fba56"
      },
      "execution_count": 56,
      "outputs": [
        {
          "output_type": "display_data",
          "data": {
            "text/plain": [
              "  0%|          | 0/5 [00:00<?, ?it/s]"
            ],
            "application/vnd.jupyter.widget-view+json": {
              "version_major": 2,
              "version_minor": 0,
              "model_id": "b94f42792e3441df9ae779ded6e0d3af"
            }
          },
          "metadata": {}
        },
        {
          "output_type": "stream",
          "name": "stdout",
          "text": [
            "Epoch: 0\n",
            "-----\n",
            "\n",
            " Train Loss: 1.04461 , Train acc: 65.21% \n",
            "\n",
            " Test loss: 0.95177, Test acc: 66.85%\n",
            "\n",
            "Epoch: 1\n",
            "-----\n",
            "\n",
            " Train Loss: 0.91378 , Train acc: 68.47% \n",
            "\n",
            " Test loss: 0.91940, Test acc: 68.34%\n",
            "\n",
            "Epoch: 2\n",
            "-----\n",
            "\n",
            " Train Loss: 0.88647 , Train acc: 69.02% \n",
            "\n",
            " Test loss: 0.92139, Test acc: 68.33%\n",
            "\n",
            "Epoch: 3\n",
            "-----\n",
            "\n",
            " Train Loss: 0.75205 , Train acc: 73.05% \n",
            "\n",
            " Test loss: 0.71330, Test acc: 74.39%\n",
            "\n",
            "Epoch: 4\n",
            "-----\n",
            "\n",
            " Train Loss: 0.67885 , Train acc: 75.09% \n",
            "\n",
            " Test loss: 0.70572, Test acc: 74.22%\n",
            "\n",
            "Total time elapsed on cuda:52.87593662400013 seconds\n"
          ]
        }
      ]
    },
    {
      "cell_type": "code",
      "source": [
        "model_1_result = eval_model(model=model_1, data_loader= test_dataloader,\n",
        "    loss_fn=loss_fn, accuracy_fn=hlpfnc.accuracy_fn)\n",
        "model_1_result"
      ],
      "metadata": {
        "colab": {
          "base_uri": "https://localhost:8080/"
        },
        "id": "joclxw3POEoD",
        "outputId": "d6ef61b5-a91a-419b-c709-782dec736bfc"
      },
      "execution_count": 57,
      "outputs": [
        {
          "output_type": "execute_result",
          "data": {
            "text/plain": [
              "{'model_name': 'FashionMNISTModelV1',\n",
              " 'model_loss': 0.7057155966758728,\n",
              " 'model_acc': 74.22124600638978}"
            ]
          },
          "metadata": {},
          "execution_count": 57
        }
      ]
    },
    {
      "cell_type": "code",
      "source": [
        "len(class_names)"
      ],
      "metadata": {
        "id": "_XIU87zLble3",
        "colab": {
          "base_uri": "https://localhost:8080/"
        },
        "outputId": "2ab65aa4-e1b5-4a25-a2b6-7a4c0d4df854"
      },
      "execution_count": 58,
      "outputs": [
        {
          "output_type": "execute_result",
          "data": {
            "text/plain": [
              "10"
            ]
          },
          "metadata": {},
          "execution_count": 58
        }
      ]
    },
    {
      "cell_type": "code",
      "source": [
        "class CNN(nn.Module):\n",
        "  def __init__(self, input_shape:int, hidden_units: int, output_shape:int):\n",
        "    super().__init__()\n",
        "    self.conv_block_1 = nn.Sequential(nn.Conv2d(in_channels=input_shape,\n",
        "                                              out_channels=hidden_units,\n",
        "                                              kernel_size=3,\n",
        "                                              stride=1,# take a step one pixel at a time\n",
        "                                              padding=1), # add an extra pixel aroun the input image\n",
        "\n",
        "                                    nn.ReLU(),\n",
        "                                    nn.Conv2d(in_channels=hidden_units,\n",
        "                                              out_channels=hidden_units,\n",
        "                                              kernel_size=3,\n",
        "                                              stride=1,# take a step one pixel at a time\n",
        "                                              padding=1),\n",
        "                                    nn.ReLU(),\n",
        "                                    nn.MaxPool2d(kernel_size=2))\n",
        "\n",
        "    self.conv_block_2 = nn.Sequential(nn.Conv2d(in_channels=hidden_units,\n",
        "                                              out_channels=hidden_units,\n",
        "                                              kernel_size=3,\n",
        "                                              stride=1,# take a step one pixel at a time\n",
        "                                              padding=1), # add an extra pixel aroun the input image\n",
        "                                    nn.ReLU(),\n",
        "                                    nn.Conv2d(in_channels=hidden_units,\n",
        "                                              out_channels=hidden_units,\n",
        "                                              kernel_size=3,\n",
        "                                              stride=1,# take a step one pixel at a time\n",
        "                                              padding=1),\n",
        "                                    nn.ReLU(),\n",
        "                                    nn.MaxPool2d(kernel_size=2))\n",
        "    self.classifier = nn.Sequential(nn.Flatten(),\n",
        "                                        nn.Linear(in_features= hidden_units*7*7, out_features= output_shape),\n",
        "                                    )\n",
        "\n",
        "  def forward(self,X):\n",
        "    X = self.conv_block_1(X)\n",
        "    # print(f\"Output shape of conv_block_1: {X.shape}\")\n",
        "    X = self.conv_block_2(X)\n",
        "    # print(f\"Output shape of conv_block_2: {X.shape}\")\n",
        "    X = self.classifier(X)\n",
        "    # print(f\"Output shape of classifier: {X.shape}\")\n",
        "    return X"
      ],
      "metadata": {
        "id": "DNkuxwEllqEg"
      },
      "execution_count": 59,
      "outputs": []
    },
    {
      "cell_type": "code",
      "source": [
        "model_2 = CNN(input_shape = 1,\n",
        "              hidden_units = 10,\n",
        "              output_shape = len(class_names)).to(device)\n",
        "model_2"
      ],
      "metadata": {
        "id": "PFvZJS5hkso_",
        "colab": {
          "base_uri": "https://localhost:8080/"
        },
        "outputId": "6af4cdd1-c980-4538-9f14-3da29d9cb7af"
      },
      "execution_count": 60,
      "outputs": [
        {
          "output_type": "execute_result",
          "data": {
            "text/plain": [
              "CNN(\n",
              "  (conv_block_1): Sequential(\n",
              "    (0): Conv2d(1, 10, kernel_size=(3, 3), stride=(1, 1), padding=(1, 1))\n",
              "    (1): ReLU()\n",
              "    (2): Conv2d(10, 10, kernel_size=(3, 3), stride=(1, 1), padding=(1, 1))\n",
              "    (3): ReLU()\n",
              "    (4): MaxPool2d(kernel_size=2, stride=2, padding=0, dilation=1, ceil_mode=False)\n",
              "  )\n",
              "  (conv_block_2): Sequential(\n",
              "    (0): Conv2d(10, 10, kernel_size=(3, 3), stride=(1, 1), padding=(1, 1))\n",
              "    (1): ReLU()\n",
              "    (2): Conv2d(10, 10, kernel_size=(3, 3), stride=(1, 1), padding=(1, 1))\n",
              "    (3): ReLU()\n",
              "    (4): MaxPool2d(kernel_size=2, stride=2, padding=0, dilation=1, ceil_mode=False)\n",
              "  )\n",
              "  (classifier): Sequential(\n",
              "    (0): Flatten(start_dim=1, end_dim=-1)\n",
              "    (1): Linear(in_features=490, out_features=10, bias=True)\n",
              "  )\n",
              ")"
            ]
          },
          "metadata": {},
          "execution_count": 60
        }
      ]
    },
    {
      "cell_type": "code",
      "source": [
        "X_train.shape, X_train[0].shape"
      ],
      "metadata": {
        "id": "OUrchKYPlHgz",
        "colab": {
          "base_uri": "https://localhost:8080/"
        },
        "outputId": "3eaa91a3-38f0-4a9f-f455-c84b53ac40a2"
      },
      "execution_count": 61,
      "outputs": [
        {
          "output_type": "execute_result",
          "data": {
            "text/plain": [
              "(torch.Size([32, 1, 28, 28]), torch.Size([1, 28, 28]))"
            ]
          },
          "metadata": {},
          "execution_count": 61
        }
      ]
    },
    {
      "cell_type": "code",
      "source": [
        "conv_layer = nn.Sequential(nn.Conv2d(in_channels= 1,\n",
        "                                      out_channels=8,\n",
        "                                              kernel_size=(3,3),\n",
        "                                              stride=1,# take a step one pixel at a time\n",
        "                                              padding=1)) # add an extra pixel aroun the input image"
      ],
      "metadata": {
        "id": "WmOKoyuF7LGU"
      },
      "execution_count": 62,
      "outputs": []
    },
    {
      "cell_type": "code",
      "source": [
        "conv_layer(X_train[0]).shape"
      ],
      "metadata": {
        "colab": {
          "base_uri": "https://localhost:8080/"
        },
        "id": "YdGat0t97-fi",
        "outputId": "606b6570-50c8-439b-8d68-60cd186f1810"
      },
      "execution_count": 63,
      "outputs": [
        {
          "output_type": "execute_result",
          "data": {
            "text/plain": [
              "torch.Size([8, 28, 28])"
            ]
          },
          "metadata": {},
          "execution_count": 63
        }
      ]
    },
    {
      "cell_type": "code",
      "source": [
        "max_layer = nn.MaxPool2d(kernel_size=2)"
      ],
      "metadata": {
        "id": "5__7xBJS8Wrl"
      },
      "execution_count": 64,
      "outputs": []
    },
    {
      "cell_type": "code",
      "source": [
        "max_layer(conv_layer(X_train[0])).shape"
      ],
      "metadata": {
        "colab": {
          "base_uri": "https://localhost:8080/"
        },
        "id": "NuIJN1rg9NFh",
        "outputId": "394a02b9-e9a6-4682-e292-e0f92c8c95f0"
      },
      "execution_count": 65,
      "outputs": [
        {
          "output_type": "execute_result",
          "data": {
            "text/plain": [
              "torch.Size([8, 14, 14])"
            ]
          },
          "metadata": {},
          "execution_count": 65
        }
      ]
    },
    {
      "cell_type": "code",
      "source": [
        "model_2(X_train[0].unsqueeze(0).to(device))"
      ],
      "metadata": {
        "colab": {
          "base_uri": "https://localhost:8080/"
        },
        "id": "SHQ4-iYH90hM",
        "outputId": "3e889cbd-3e76-41bc-f016-f4b8869a648b"
      },
      "execution_count": 66,
      "outputs": [
        {
          "output_type": "execute_result",
          "data": {
            "text/plain": [
              "tensor([[-0.0142, -0.0367, -0.0081, -0.0269,  0.0128, -0.0316,  0.0223,  0.0445,\n",
              "         -0.0324,  0.0542]], device='cuda:0', grad_fn=<AddmmBackward0>)"
            ]
          },
          "metadata": {},
          "execution_count": 66
        }
      ]
    },
    {
      "cell_type": "code",
      "source": [
        "inp = torch.rand([1, 10, 7, 7])\n",
        "out = nn.Flatten()\n",
        "out(inp).size()"
      ],
      "metadata": {
        "colab": {
          "base_uri": "https://localhost:8080/"
        },
        "id": "pR5-eUqA_G3F",
        "outputId": "45493d4b-6b5f-49da-e6e6-32c245fe2a09"
      },
      "execution_count": 67,
      "outputs": [
        {
          "output_type": "execute_result",
          "data": {
            "text/plain": [
              "torch.Size([1, 490])"
            ]
          },
          "metadata": {},
          "execution_count": 67
        }
      ]
    },
    {
      "cell_type": "code",
      "source": [
        "inp.size()[1]*inp.size()[2]*inp.size()[3]"
      ],
      "metadata": {
        "colab": {
          "base_uri": "https://localhost:8080/"
        },
        "id": "Zym4KIhAEL64",
        "outputId": "74ea8168-2c8e-409d-f6eb-570a43f3ffb7"
      },
      "execution_count": 68,
      "outputs": [
        {
          "output_type": "execute_result",
          "data": {
            "text/plain": [
              "490"
            ]
          },
          "metadata": {},
          "execution_count": 68
        }
      ]
    },
    {
      "cell_type": "code",
      "source": [
        "out2 = nn.Linear(in_features=490,\n",
        "          out_features=1)\n",
        "out2(out(inp))"
      ],
      "metadata": {
        "colab": {
          "base_uri": "https://localhost:8080/"
        },
        "id": "_EQ8C-dJDbY_",
        "outputId": "b9236d68-31f4-4559-e183-e1925347af80"
      },
      "execution_count": 69,
      "outputs": [
        {
          "output_type": "execute_result",
          "data": {
            "text/plain": [
              "tensor([[-0.2936]], grad_fn=<AddmmBackward0>)"
            ]
          },
          "metadata": {},
          "execution_count": 69
        }
      ]
    },
    {
      "cell_type": "code",
      "source": [
        "loss_fn = nn.CrossEntropyLoss()\n",
        "optimizer = torch.optim.SGD(params= model_2.parameters(),lr = 0.1 )"
      ],
      "metadata": {
        "id": "ZrcjH_1HNzwS"
      },
      "execution_count": 70,
      "outputs": []
    },
    {
      "cell_type": "code",
      "source": [
        "rain_time_start_on_gpu_CNN = timer()\n",
        "\n",
        "epochs = 5\n",
        "\n",
        "for epoch in tqdm(range(epochs)):\n",
        "  print(f\"Epoch: {epoch}\\n-----\")\n",
        "  train_step(model=model_2,\n",
        "            data_loader=train_dataloader,\n",
        "            optimizer=optimizer,\n",
        "            loss=loss_fn,\n",
        "            device=device)\n",
        "  test_pred = test_step(model=model_2,\n",
        "            data_loader=test_dataloader,\n",
        "            optimizer=optimizer,\n",
        "            loss=loss_fn,\n",
        "            device=device)\n",
        "\n",
        "\n",
        "train_time_end_on_gpu_CNN = timer()\n",
        "print_train_time(rain_time_start_on_gpu_CNN, train_time_end_on_gpu_CNN, device = device)"
      ],
      "metadata": {
        "colab": {
          "base_uri": "https://localhost:8080/",
          "height": 661,
          "referenced_widgets": [
            "260a3fb4f7494c6a9c266695c184b91a",
            "d7f3d8c4fc1443ab815591ba704b29cb",
            "41ba9b7b918f4a1881be506948a29e1a",
            "39166003a1fa44c29082b6ba47855b7d",
            "239422279e23426696e0d17be70a65f9",
            "2ab7d2b5d38045de9c53f59d107b423c",
            "dfaa5afb38664d959358f1feaa268d34",
            "586061faade7451ea46720687c663a07",
            "9b1fc6ac6c584af3ba8a64dd5f1725f3",
            "27fb5574c4de4eda8587de62142b1296",
            "16d368c412ca4943bd4978bfd1cba166"
          ]
        },
        "id": "j8kvXXHG9P31",
        "outputId": "7481714f-458c-4962-e532-82e5fd941e60"
      },
      "execution_count": 71,
      "outputs": [
        {
          "output_type": "display_data",
          "data": {
            "text/plain": [
              "  0%|          | 0/5 [00:00<?, ?it/s]"
            ],
            "application/vnd.jupyter.widget-view+json": {
              "version_major": 2,
              "version_minor": 0,
              "model_id": "260a3fb4f7494c6a9c266695c184b91a"
            }
          },
          "metadata": {}
        },
        {
          "output_type": "stream",
          "name": "stdout",
          "text": [
            "Epoch: 0\n",
            "-----\n",
            "\n",
            " Train Loss: 0.71765 , Train acc: 73.57% \n",
            "\n",
            " Test loss: 0.41679, Test acc: 84.66%\n",
            "\n",
            "Epoch: 1\n",
            "-----\n",
            "\n",
            " Train Loss: 0.37430 , Train acc: 86.35% \n",
            "\n",
            " Test loss: 0.38060, Test acc: 85.84%\n",
            "\n",
            "Epoch: 2\n",
            "-----\n",
            "\n",
            " Train Loss: 0.33119 , Train acc: 88.07% \n",
            "\n",
            " Test loss: 0.34166, Test acc: 87.78%\n",
            "\n",
            "Epoch: 3\n",
            "-----\n",
            "\n",
            " Train Loss: 0.30415 , Train acc: 88.93% \n",
            "\n",
            " Test loss: 0.31931, Test acc: 88.11%\n",
            "\n",
            "Epoch: 4\n",
            "-----\n",
            "\n",
            " Train Loss: 0.28697 , Train acc: 89.59% \n",
            "\n",
            " Test loss: 0.33005, Test acc: 87.61%\n",
            "\n",
            "Total time elapsed on cuda:77.70887038399997 seconds\n"
          ]
        }
      ]
    },
    {
      "cell_type": "code",
      "source": [
        "model_2_results = eval_model(model=model_2, data_loader= test_dataloader,\n",
        "    loss_fn=loss_fn, accuracy_fn=hlpfnc.accuracy_fn)\n",
        "model_2_results"
      ],
      "metadata": {
        "colab": {
          "base_uri": "https://localhost:8080/"
        },
        "id": "S4kh141lRTtp",
        "outputId": "8b7e0bc9-b394-48f5-f9e6-726cb6750ab7"
      },
      "execution_count": 72,
      "outputs": [
        {
          "output_type": "execute_result",
          "data": {
            "text/plain": [
              "{'model_name': 'CNN',\n",
              " 'model_loss': 0.3300483226776123,\n",
              " 'model_acc': 87.60982428115015}"
            ]
          },
          "metadata": {},
          "execution_count": 72
        }
      ]
    },
    {
      "cell_type": "code",
      "source": [
        "import pandas as pd\n",
        "compare_results = pd.DataFrame([model_0_results, model_1_result, model_2_results])\n",
        "compare_results"
      ],
      "metadata": {
        "colab": {
          "base_uri": "https://localhost:8080/",
          "height": 142
        },
        "id": "k3owPD-p9q-E",
        "outputId": "6e108e3c-6bae-4005-d509-32210bc85595"
      },
      "execution_count": 104,
      "outputs": [
        {
          "output_type": "execute_result",
          "data": {
            "text/plain": [
              "            model_name  model_loss  model_acc\n",
              "0  FashionMNISTModelV0    0.468694  83.266773\n",
              "1  FashionMNISTModelV1    0.705716  74.221246\n",
              "2                  CNN    0.330048  87.609824"
            ],
            "text/html": [
              "\n",
              "  <div id=\"df-d1cb6d19-caeb-4242-aa36-ee01378ee21f\" class=\"colab-df-container\">\n",
              "    <div>\n",
              "<style scoped>\n",
              "    .dataframe tbody tr th:only-of-type {\n",
              "        vertical-align: middle;\n",
              "    }\n",
              "\n",
              "    .dataframe tbody tr th {\n",
              "        vertical-align: top;\n",
              "    }\n",
              "\n",
              "    .dataframe thead th {\n",
              "        text-align: right;\n",
              "    }\n",
              "</style>\n",
              "<table border=\"1\" class=\"dataframe\">\n",
              "  <thead>\n",
              "    <tr style=\"text-align: right;\">\n",
              "      <th></th>\n",
              "      <th>model_name</th>\n",
              "      <th>model_loss</th>\n",
              "      <th>model_acc</th>\n",
              "    </tr>\n",
              "  </thead>\n",
              "  <tbody>\n",
              "    <tr>\n",
              "      <th>0</th>\n",
              "      <td>FashionMNISTModelV0</td>\n",
              "      <td>0.468694</td>\n",
              "      <td>83.266773</td>\n",
              "    </tr>\n",
              "    <tr>\n",
              "      <th>1</th>\n",
              "      <td>FashionMNISTModelV1</td>\n",
              "      <td>0.705716</td>\n",
              "      <td>74.221246</td>\n",
              "    </tr>\n",
              "    <tr>\n",
              "      <th>2</th>\n",
              "      <td>CNN</td>\n",
              "      <td>0.330048</td>\n",
              "      <td>87.609824</td>\n",
              "    </tr>\n",
              "  </tbody>\n",
              "</table>\n",
              "</div>\n",
              "    <div class=\"colab-df-buttons\">\n",
              "\n",
              "  <div class=\"colab-df-container\">\n",
              "    <button class=\"colab-df-convert\" onclick=\"convertToInteractive('df-d1cb6d19-caeb-4242-aa36-ee01378ee21f')\"\n",
              "            title=\"Convert this dataframe to an interactive table.\"\n",
              "            style=\"display:none;\">\n",
              "\n",
              "  <svg xmlns=\"http://www.w3.org/2000/svg\" height=\"24px\" viewBox=\"0 -960 960 960\">\n",
              "    <path d=\"M120-120v-720h720v720H120Zm60-500h600v-160H180v160Zm220 220h160v-160H400v160Zm0 220h160v-160H400v160ZM180-400h160v-160H180v160Zm440 0h160v-160H620v160ZM180-180h160v-160H180v160Zm440 0h160v-160H620v160Z\"/>\n",
              "  </svg>\n",
              "    </button>\n",
              "\n",
              "  <style>\n",
              "    .colab-df-container {\n",
              "      display:flex;\n",
              "      gap: 12px;\n",
              "    }\n",
              "\n",
              "    .colab-df-convert {\n",
              "      background-color: #E8F0FE;\n",
              "      border: none;\n",
              "      border-radius: 50%;\n",
              "      cursor: pointer;\n",
              "      display: none;\n",
              "      fill: #1967D2;\n",
              "      height: 32px;\n",
              "      padding: 0 0 0 0;\n",
              "      width: 32px;\n",
              "    }\n",
              "\n",
              "    .colab-df-convert:hover {\n",
              "      background-color: #E2EBFA;\n",
              "      box-shadow: 0px 1px 2px rgba(60, 64, 67, 0.3), 0px 1px 3px 1px rgba(60, 64, 67, 0.15);\n",
              "      fill: #174EA6;\n",
              "    }\n",
              "\n",
              "    .colab-df-buttons div {\n",
              "      margin-bottom: 4px;\n",
              "    }\n",
              "\n",
              "    [theme=dark] .colab-df-convert {\n",
              "      background-color: #3B4455;\n",
              "      fill: #D2E3FC;\n",
              "    }\n",
              "\n",
              "    [theme=dark] .colab-df-convert:hover {\n",
              "      background-color: #434B5C;\n",
              "      box-shadow: 0px 1px 3px 1px rgba(0, 0, 0, 0.15);\n",
              "      filter: drop-shadow(0px 1px 2px rgba(0, 0, 0, 0.3));\n",
              "      fill: #FFFFFF;\n",
              "    }\n",
              "  </style>\n",
              "\n",
              "    <script>\n",
              "      const buttonEl =\n",
              "        document.querySelector('#df-d1cb6d19-caeb-4242-aa36-ee01378ee21f button.colab-df-convert');\n",
              "      buttonEl.style.display =\n",
              "        google.colab.kernel.accessAllowed ? 'block' : 'none';\n",
              "\n",
              "      async function convertToInteractive(key) {\n",
              "        const element = document.querySelector('#df-d1cb6d19-caeb-4242-aa36-ee01378ee21f');\n",
              "        const dataTable =\n",
              "          await google.colab.kernel.invokeFunction('convertToInteractive',\n",
              "                                                    [key], {});\n",
              "        if (!dataTable) return;\n",
              "\n",
              "        const docLinkHtml = 'Like what you see? Visit the ' +\n",
              "          '<a target=\"_blank\" href=https://colab.research.google.com/notebooks/data_table.ipynb>data table notebook</a>'\n",
              "          + ' to learn more about interactive tables.';\n",
              "        element.innerHTML = '';\n",
              "        dataTable['output_type'] = 'display_data';\n",
              "        await google.colab.output.renderOutput(dataTable, element);\n",
              "        const docLink = document.createElement('div');\n",
              "        docLink.innerHTML = docLinkHtml;\n",
              "        element.appendChild(docLink);\n",
              "      }\n",
              "    </script>\n",
              "  </div>\n",
              "\n",
              "\n",
              "<div id=\"df-8e957b7b-c40b-442e-a35b-5ea5e9c915c6\">\n",
              "  <button class=\"colab-df-quickchart\" onclick=\"quickchart('df-8e957b7b-c40b-442e-a35b-5ea5e9c915c6')\"\n",
              "            title=\"Suggest charts.\"\n",
              "            style=\"display:none;\">\n",
              "\n",
              "<svg xmlns=\"http://www.w3.org/2000/svg\" height=\"24px\"viewBox=\"0 0 24 24\"\n",
              "     width=\"24px\">\n",
              "    <g>\n",
              "        <path d=\"M19 3H5c-1.1 0-2 .9-2 2v14c0 1.1.9 2 2 2h14c1.1 0 2-.9 2-2V5c0-1.1-.9-2-2-2zM9 17H7v-7h2v7zm4 0h-2V7h2v10zm4 0h-2v-4h2v4z\"/>\n",
              "    </g>\n",
              "</svg>\n",
              "  </button>\n",
              "\n",
              "<style>\n",
              "  .colab-df-quickchart {\n",
              "      --bg-color: #E8F0FE;\n",
              "      --fill-color: #1967D2;\n",
              "      --hover-bg-color: #E2EBFA;\n",
              "      --hover-fill-color: #174EA6;\n",
              "      --disabled-fill-color: #AAA;\n",
              "      --disabled-bg-color: #DDD;\n",
              "  }\n",
              "\n",
              "  [theme=dark] .colab-df-quickchart {\n",
              "      --bg-color: #3B4455;\n",
              "      --fill-color: #D2E3FC;\n",
              "      --hover-bg-color: #434B5C;\n",
              "      --hover-fill-color: #FFFFFF;\n",
              "      --disabled-bg-color: #3B4455;\n",
              "      --disabled-fill-color: #666;\n",
              "  }\n",
              "\n",
              "  .colab-df-quickchart {\n",
              "    background-color: var(--bg-color);\n",
              "    border: none;\n",
              "    border-radius: 50%;\n",
              "    cursor: pointer;\n",
              "    display: none;\n",
              "    fill: var(--fill-color);\n",
              "    height: 32px;\n",
              "    padding: 0;\n",
              "    width: 32px;\n",
              "  }\n",
              "\n",
              "  .colab-df-quickchart:hover {\n",
              "    background-color: var(--hover-bg-color);\n",
              "    box-shadow: 0 1px 2px rgba(60, 64, 67, 0.3), 0 1px 3px 1px rgba(60, 64, 67, 0.15);\n",
              "    fill: var(--button-hover-fill-color);\n",
              "  }\n",
              "\n",
              "  .colab-df-quickchart-complete:disabled,\n",
              "  .colab-df-quickchart-complete:disabled:hover {\n",
              "    background-color: var(--disabled-bg-color);\n",
              "    fill: var(--disabled-fill-color);\n",
              "    box-shadow: none;\n",
              "  }\n",
              "\n",
              "  .colab-df-spinner {\n",
              "    border: 2px solid var(--fill-color);\n",
              "    border-color: transparent;\n",
              "    border-bottom-color: var(--fill-color);\n",
              "    animation:\n",
              "      spin 1s steps(1) infinite;\n",
              "  }\n",
              "\n",
              "  @keyframes spin {\n",
              "    0% {\n",
              "      border-color: transparent;\n",
              "      border-bottom-color: var(--fill-color);\n",
              "      border-left-color: var(--fill-color);\n",
              "    }\n",
              "    20% {\n",
              "      border-color: transparent;\n",
              "      border-left-color: var(--fill-color);\n",
              "      border-top-color: var(--fill-color);\n",
              "    }\n",
              "    30% {\n",
              "      border-color: transparent;\n",
              "      border-left-color: var(--fill-color);\n",
              "      border-top-color: var(--fill-color);\n",
              "      border-right-color: var(--fill-color);\n",
              "    }\n",
              "    40% {\n",
              "      border-color: transparent;\n",
              "      border-right-color: var(--fill-color);\n",
              "      border-top-color: var(--fill-color);\n",
              "    }\n",
              "    60% {\n",
              "      border-color: transparent;\n",
              "      border-right-color: var(--fill-color);\n",
              "    }\n",
              "    80% {\n",
              "      border-color: transparent;\n",
              "      border-right-color: var(--fill-color);\n",
              "      border-bottom-color: var(--fill-color);\n",
              "    }\n",
              "    90% {\n",
              "      border-color: transparent;\n",
              "      border-bottom-color: var(--fill-color);\n",
              "    }\n",
              "  }\n",
              "</style>\n",
              "\n",
              "  <script>\n",
              "    async function quickchart(key) {\n",
              "      const quickchartButtonEl =\n",
              "        document.querySelector('#' + key + ' button');\n",
              "      quickchartButtonEl.disabled = true;  // To prevent multiple clicks.\n",
              "      quickchartButtonEl.classList.add('colab-df-spinner');\n",
              "      try {\n",
              "        const charts = await google.colab.kernel.invokeFunction(\n",
              "            'suggestCharts', [key], {});\n",
              "      } catch (error) {\n",
              "        console.error('Error during call to suggestCharts:', error);\n",
              "      }\n",
              "      quickchartButtonEl.classList.remove('colab-df-spinner');\n",
              "      quickchartButtonEl.classList.add('colab-df-quickchart-complete');\n",
              "    }\n",
              "    (() => {\n",
              "      let quickchartButtonEl =\n",
              "        document.querySelector('#df-8e957b7b-c40b-442e-a35b-5ea5e9c915c6 button');\n",
              "      quickchartButtonEl.style.display =\n",
              "        google.colab.kernel.accessAllowed ? 'block' : 'none';\n",
              "    })();\n",
              "  </script>\n",
              "</div>\n",
              "    </div>\n",
              "  </div>\n"
            ]
          },
          "metadata": {},
          "execution_count": 104
        }
      ]
    },
    {
      "cell_type": "code",
      "source": [
        "\n",
        "compare_results.set_index(\"model_name\")[\"model_acc\"].plot(kind=\"bar\")"
      ],
      "metadata": {
        "colab": {
          "base_uri": "https://localhost:8080/",
          "height": 609
        },
        "id": "LQeBsUcNHrOR",
        "outputId": "7d4c7f8f-b022-4d24-98eb-b11c84bde61d"
      },
      "execution_count": 110,
      "outputs": [
        {
          "output_type": "execute_result",
          "data": {
            "text/plain": [
              "<Axes: xlabel='model_name'>"
            ]
          },
          "metadata": {},
          "execution_count": 110
        },
        {
          "output_type": "display_data",
          "data": {
            "text/plain": [
              "<Figure size 640x480 with 1 Axes>"
            ],
            "image/png": "[encoded data removed]"
          },
          "metadata": {}
        }
      ]
    },
    {
      "cell_type": "code",
      "source": [],
      "metadata": {
        "id": "Tn-vmgVeSh4Z"
      },
      "execution_count": null,
      "outputs": []
    }
  ]
}